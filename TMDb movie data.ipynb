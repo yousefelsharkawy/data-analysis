{
 "cells": [
  {
   "cell_type": "markdown",
   "id": "ee118547",
   "metadata": {},
   "source": [
    "# Project: Investigate a Dataset (TMDb movie data)\n",
    "\n",
    "## Table of Contents\n",
    "<ul>\n",
    "<li><a href=\"#intro\">Introduction</a></li>\n",
    "<li><a href=\"#wrangling\">Data Wrangling</a></li>\n",
    "<li><a href=\"#eda\">Exploratory Data Analysis</a></li>\n",
    "<li><a href=\"#conclusions\">Conclusions</a></li>\n",
    "<li><a href=\"#results\">Communicating results</a></li>\n",
    "</ul>"
   ]
  },
  {
   "cell_type": "markdown",
   "id": "9278f69d",
   "metadata": {},
   "source": [
    "<a id='intro'></a>\n",
    "## introduction \n",
    "in this project we will investigate the TMDb movie data and answer some questions to understand the relations and the trends of successful and unsuccessful movies\n",
    "\n",
    "we will go through the 5 steps of data analysis process"
   ]
  },
  {
   "cell_type": "markdown",
   "id": "ca4d03b4",
   "metadata": {},
   "source": [
    "### important imports"
   ]
  },
  {
   "cell_type": "code",
   "execution_count": 1,
   "id": "028dc2ec",
   "metadata": {},
   "outputs": [],
   "source": [
    "import pandas as pd\n",
    "import numpy as np\n",
    "import matplotlib.pyplot as plt\n",
    "import seaborn as sns\n",
    "import matplotlib\n",
    "%matplotlib inline"
   ]
  },
  {
   "cell_type": "markdown",
   "id": "48be9b23",
   "metadata": {},
   "source": [
    "<a id='wrangling'></a>\n",
    "## Data Wrangling"
   ]
  },
  {
   "cell_type": "markdown",
   "id": "5d897be6",
   "metadata": {},
   "source": [
    "### Gathering Data"
   ]
  },
  {
   "cell_type": "code",
   "execution_count": 2,
   "id": "c4e79b3e",
   "metadata": {},
   "outputs": [
    {
     "data": {
      "text/html": [
       "<div>\n",
       "<style scoped>\n",
       "    .dataframe tbody tr th:only-of-type {\n",
       "        vertical-align: middle;\n",
       "    }\n",
       "\n",
       "    .dataframe tbody tr th {\n",
       "        vertical-align: top;\n",
       "    }\n",
       "\n",
       "    .dataframe thead th {\n",
       "        text-align: right;\n",
       "    }\n",
       "</style>\n",
       "<table border=\"1\" class=\"dataframe\">\n",
       "  <thead>\n",
       "    <tr style=\"text-align: right;\">\n",
       "      <th></th>\n",
       "      <th>id</th>\n",
       "      <th>imdb_id</th>\n",
       "      <th>popularity</th>\n",
       "      <th>budget</th>\n",
       "      <th>revenue</th>\n",
       "      <th>original_title</th>\n",
       "      <th>cast</th>\n",
       "      <th>homepage</th>\n",
       "      <th>director</th>\n",
       "      <th>tagline</th>\n",
       "      <th>...</th>\n",
       "      <th>overview</th>\n",
       "      <th>runtime</th>\n",
       "      <th>genres</th>\n",
       "      <th>production_companies</th>\n",
       "      <th>release_date</th>\n",
       "      <th>vote_count</th>\n",
       "      <th>vote_average</th>\n",
       "      <th>release_year</th>\n",
       "      <th>budget_adj</th>\n",
       "      <th>revenue_adj</th>\n",
       "    </tr>\n",
       "  </thead>\n",
       "  <tbody>\n",
       "    <tr>\n",
       "      <th>0</th>\n",
       "      <td>135397</td>\n",
       "      <td>tt0369610</td>\n",
       "      <td>32.985763</td>\n",
       "      <td>150000000</td>\n",
       "      <td>1513528810</td>\n",
       "      <td>Jurassic World</td>\n",
       "      <td>Chris Pratt|Bryce Dallas Howard|Irrfan Khan|Vi...</td>\n",
       "      <td>http://www.jurassicworld.com/</td>\n",
       "      <td>Colin Trevorrow</td>\n",
       "      <td>The park is open.</td>\n",
       "      <td>...</td>\n",
       "      <td>Twenty-two years after the events of Jurassic ...</td>\n",
       "      <td>124</td>\n",
       "      <td>Action|Adventure|Science Fiction|Thriller</td>\n",
       "      <td>Universal Studios|Amblin Entertainment|Legenda...</td>\n",
       "      <td>6/9/15</td>\n",
       "      <td>5562</td>\n",
       "      <td>6.5</td>\n",
       "      <td>2015</td>\n",
       "      <td>1.379999e+08</td>\n",
       "      <td>1.392446e+09</td>\n",
       "    </tr>\n",
       "    <tr>\n",
       "      <th>1</th>\n",
       "      <td>76341</td>\n",
       "      <td>tt1392190</td>\n",
       "      <td>28.419936</td>\n",
       "      <td>150000000</td>\n",
       "      <td>378436354</td>\n",
       "      <td>Mad Max: Fury Road</td>\n",
       "      <td>Tom Hardy|Charlize Theron|Hugh Keays-Byrne|Nic...</td>\n",
       "      <td>http://www.madmaxmovie.com/</td>\n",
       "      <td>George Miller</td>\n",
       "      <td>What a Lovely Day.</td>\n",
       "      <td>...</td>\n",
       "      <td>An apocalyptic story set in the furthest reach...</td>\n",
       "      <td>120</td>\n",
       "      <td>Action|Adventure|Science Fiction|Thriller</td>\n",
       "      <td>Village Roadshow Pictures|Kennedy Miller Produ...</td>\n",
       "      <td>5/13/15</td>\n",
       "      <td>6185</td>\n",
       "      <td>7.1</td>\n",
       "      <td>2015</td>\n",
       "      <td>1.379999e+08</td>\n",
       "      <td>3.481613e+08</td>\n",
       "    </tr>\n",
       "    <tr>\n",
       "      <th>2</th>\n",
       "      <td>262500</td>\n",
       "      <td>tt2908446</td>\n",
       "      <td>13.112507</td>\n",
       "      <td>110000000</td>\n",
       "      <td>295238201</td>\n",
       "      <td>Insurgent</td>\n",
       "      <td>Shailene Woodley|Theo James|Kate Winslet|Ansel...</td>\n",
       "      <td>http://www.thedivergentseries.movie/#insurgent</td>\n",
       "      <td>Robert Schwentke</td>\n",
       "      <td>One Choice Can Destroy You</td>\n",
       "      <td>...</td>\n",
       "      <td>Beatrice Prior must confront her inner demons ...</td>\n",
       "      <td>119</td>\n",
       "      <td>Adventure|Science Fiction|Thriller</td>\n",
       "      <td>Summit Entertainment|Mandeville Films|Red Wago...</td>\n",
       "      <td>3/18/15</td>\n",
       "      <td>2480</td>\n",
       "      <td>6.3</td>\n",
       "      <td>2015</td>\n",
       "      <td>1.012000e+08</td>\n",
       "      <td>2.716190e+08</td>\n",
       "    </tr>\n",
       "    <tr>\n",
       "      <th>3</th>\n",
       "      <td>140607</td>\n",
       "      <td>tt2488496</td>\n",
       "      <td>11.173104</td>\n",
       "      <td>200000000</td>\n",
       "      <td>2068178225</td>\n",
       "      <td>Star Wars: The Force Awakens</td>\n",
       "      <td>Harrison Ford|Mark Hamill|Carrie Fisher|Adam D...</td>\n",
       "      <td>http://www.starwars.com/films/star-wars-episod...</td>\n",
       "      <td>J.J. Abrams</td>\n",
       "      <td>Every generation has a story.</td>\n",
       "      <td>...</td>\n",
       "      <td>Thirty years after defeating the Galactic Empi...</td>\n",
       "      <td>136</td>\n",
       "      <td>Action|Adventure|Science Fiction|Fantasy</td>\n",
       "      <td>Lucasfilm|Truenorth Productions|Bad Robot</td>\n",
       "      <td>12/15/15</td>\n",
       "      <td>5292</td>\n",
       "      <td>7.5</td>\n",
       "      <td>2015</td>\n",
       "      <td>1.839999e+08</td>\n",
       "      <td>1.902723e+09</td>\n",
       "    </tr>\n",
       "    <tr>\n",
       "      <th>4</th>\n",
       "      <td>168259</td>\n",
       "      <td>tt2820852</td>\n",
       "      <td>9.335014</td>\n",
       "      <td>190000000</td>\n",
       "      <td>1506249360</td>\n",
       "      <td>Furious 7</td>\n",
       "      <td>Vin Diesel|Paul Walker|Jason Statham|Michelle ...</td>\n",
       "      <td>http://www.furious7.com/</td>\n",
       "      <td>James Wan</td>\n",
       "      <td>Vengeance Hits Home</td>\n",
       "      <td>...</td>\n",
       "      <td>Deckard Shaw seeks revenge against Dominic Tor...</td>\n",
       "      <td>137</td>\n",
       "      <td>Action|Crime|Thriller</td>\n",
       "      <td>Universal Pictures|Original Film|Media Rights ...</td>\n",
       "      <td>4/1/15</td>\n",
       "      <td>2947</td>\n",
       "      <td>7.3</td>\n",
       "      <td>2015</td>\n",
       "      <td>1.747999e+08</td>\n",
       "      <td>1.385749e+09</td>\n",
       "    </tr>\n",
       "  </tbody>\n",
       "</table>\n",
       "<p>5 rows × 21 columns</p>\n",
       "</div>"
      ],
      "text/plain": [
       "       id    imdb_id  popularity     budget     revenue  \\\n",
       "0  135397  tt0369610   32.985763  150000000  1513528810   \n",
       "1   76341  tt1392190   28.419936  150000000   378436354   \n",
       "2  262500  tt2908446   13.112507  110000000   295238201   \n",
       "3  140607  tt2488496   11.173104  200000000  2068178225   \n",
       "4  168259  tt2820852    9.335014  190000000  1506249360   \n",
       "\n",
       "                 original_title  \\\n",
       "0                Jurassic World   \n",
       "1            Mad Max: Fury Road   \n",
       "2                     Insurgent   \n",
       "3  Star Wars: The Force Awakens   \n",
       "4                     Furious 7   \n",
       "\n",
       "                                                cast  \\\n",
       "0  Chris Pratt|Bryce Dallas Howard|Irrfan Khan|Vi...   \n",
       "1  Tom Hardy|Charlize Theron|Hugh Keays-Byrne|Nic...   \n",
       "2  Shailene Woodley|Theo James|Kate Winslet|Ansel...   \n",
       "3  Harrison Ford|Mark Hamill|Carrie Fisher|Adam D...   \n",
       "4  Vin Diesel|Paul Walker|Jason Statham|Michelle ...   \n",
       "\n",
       "                                            homepage          director  \\\n",
       "0                      http://www.jurassicworld.com/   Colin Trevorrow   \n",
       "1                        http://www.madmaxmovie.com/     George Miller   \n",
       "2     http://www.thedivergentseries.movie/#insurgent  Robert Schwentke   \n",
       "3  http://www.starwars.com/films/star-wars-episod...       J.J. Abrams   \n",
       "4                           http://www.furious7.com/         James Wan   \n",
       "\n",
       "                         tagline  ...  \\\n",
       "0              The park is open.  ...   \n",
       "1             What a Lovely Day.  ...   \n",
       "2     One Choice Can Destroy You  ...   \n",
       "3  Every generation has a story.  ...   \n",
       "4            Vengeance Hits Home  ...   \n",
       "\n",
       "                                            overview runtime  \\\n",
       "0  Twenty-two years after the events of Jurassic ...     124   \n",
       "1  An apocalyptic story set in the furthest reach...     120   \n",
       "2  Beatrice Prior must confront her inner demons ...     119   \n",
       "3  Thirty years after defeating the Galactic Empi...     136   \n",
       "4  Deckard Shaw seeks revenge against Dominic Tor...     137   \n",
       "\n",
       "                                      genres  \\\n",
       "0  Action|Adventure|Science Fiction|Thriller   \n",
       "1  Action|Adventure|Science Fiction|Thriller   \n",
       "2         Adventure|Science Fiction|Thriller   \n",
       "3   Action|Adventure|Science Fiction|Fantasy   \n",
       "4                      Action|Crime|Thriller   \n",
       "\n",
       "                                production_companies release_date vote_count  \\\n",
       "0  Universal Studios|Amblin Entertainment|Legenda...       6/9/15       5562   \n",
       "1  Village Roadshow Pictures|Kennedy Miller Produ...      5/13/15       6185   \n",
       "2  Summit Entertainment|Mandeville Films|Red Wago...      3/18/15       2480   \n",
       "3          Lucasfilm|Truenorth Productions|Bad Robot     12/15/15       5292   \n",
       "4  Universal Pictures|Original Film|Media Rights ...       4/1/15       2947   \n",
       "\n",
       "   vote_average  release_year    budget_adj   revenue_adj  \n",
       "0           6.5          2015  1.379999e+08  1.392446e+09  \n",
       "1           7.1          2015  1.379999e+08  3.481613e+08  \n",
       "2           6.3          2015  1.012000e+08  2.716190e+08  \n",
       "3           7.5          2015  1.839999e+08  1.902723e+09  \n",
       "4           7.3          2015  1.747999e+08  1.385749e+09  \n",
       "\n",
       "[5 rows x 21 columns]"
      ]
     },
     "execution_count": 2,
     "metadata": {},
     "output_type": "execute_result"
    }
   ],
   "source": [
    "df = pd.read_csv('tmdb-movies.csv')\n",
    "df.head()"
   ]
  },
  {
   "cell_type": "markdown",
   "id": "bbe99600",
   "metadata": {},
   "source": [
    "### Assessing data"
   ]
  },
  {
   "cell_type": "markdown",
   "id": "fa78de1e",
   "metadata": {},
   "source": [
    "#### 1. Number of rows and columns"
   ]
  },
  {
   "cell_type": "code",
   "execution_count": 3,
   "id": "21ad0619",
   "metadata": {},
   "outputs": [
    {
     "data": {
      "text/plain": [
       "(10866, 21)"
      ]
     },
     "execution_count": 3,
     "metadata": {},
     "output_type": "execute_result"
    }
   ],
   "source": [
    "df.shape"
   ]
  },
  {
   "cell_type": "code",
   "execution_count": 4,
   "id": "27230ff6",
   "metadata": {},
   "outputs": [
    {
     "name": "stdout",
     "output_type": "stream",
     "text": [
      "0 id\n",
      "1 imdb_id\n",
      "2 popularity\n",
      "3 budget\n",
      "4 revenue\n",
      "5 original_title\n",
      "6 cast\n",
      "7 homepage\n",
      "8 director\n",
      "9 tagline\n",
      "10 keywords\n",
      "11 overview\n",
      "12 runtime\n",
      "13 genres\n",
      "14 production_companies\n",
      "15 release_date\n",
      "16 vote_count\n",
      "17 vote_average\n",
      "18 release_year\n",
      "19 budget_adj\n",
      "20 revenue_adj\n"
     ]
    }
   ],
   "source": [
    "# View the index number and label for each column\n",
    "for i, v in enumerate(df.columns):\n",
    "    print(i, v)"
   ]
  },
  {
   "cell_type": "markdown",
   "id": "9ca227c8",
   "metadata": {},
   "source": [
    "we have \n",
    "- 10866 row\n",
    "- 21 column "
   ]
  },
  {
   "cell_type": "markdown",
   "id": "b259e9bb",
   "metadata": {},
   "source": [
    "#### 2. Data types of the columns"
   ]
  },
  {
   "cell_type": "code",
   "execution_count": 5,
   "id": "d7f9c7bf",
   "metadata": {},
   "outputs": [
    {
     "data": {
      "text/plain": [
       "id                        int64\n",
       "imdb_id                  object\n",
       "popularity              float64\n",
       "budget                    int64\n",
       "revenue                   int64\n",
       "original_title           object\n",
       "cast                     object\n",
       "homepage                 object\n",
       "director                 object\n",
       "tagline                  object\n",
       "keywords                 object\n",
       "overview                 object\n",
       "runtime                   int64\n",
       "genres                   object\n",
       "production_companies     object\n",
       "release_date             object\n",
       "vote_count                int64\n",
       "vote_average            float64\n",
       "release_year              int64\n",
       "budget_adj              float64\n",
       "revenue_adj             float64\n",
       "dtype: object"
      ]
     },
     "execution_count": 5,
     "metadata": {},
     "output_type": "execute_result"
    }
   ],
   "source": [
    "df.dtypes"
   ]
  },
  {
   "cell_type": "markdown",
   "id": "b44ca605",
   "metadata": {},
   "source": [
    "#### 3.columns with missing values"
   ]
  },
  {
   "cell_type": "code",
   "execution_count": 6,
   "id": "b70a63a9",
   "metadata": {},
   "outputs": [
    {
     "name": "stdout",
     "output_type": "stream",
     "text": [
      "<class 'pandas.core.frame.DataFrame'>\n",
      "RangeIndex: 10866 entries, 0 to 10865\n",
      "Data columns (total 21 columns):\n",
      " #   Column                Non-Null Count  Dtype  \n",
      "---  ------                --------------  -----  \n",
      " 0   id                    10866 non-null  int64  \n",
      " 1   imdb_id               10856 non-null  object \n",
      " 2   popularity            10866 non-null  float64\n",
      " 3   budget                10866 non-null  int64  \n",
      " 4   revenue               10866 non-null  int64  \n",
      " 5   original_title        10866 non-null  object \n",
      " 6   cast                  10790 non-null  object \n",
      " 7   homepage              2936 non-null   object \n",
      " 8   director              10822 non-null  object \n",
      " 9   tagline               8042 non-null   object \n",
      " 10  keywords              9373 non-null   object \n",
      " 11  overview              10862 non-null  object \n",
      " 12  runtime               10866 non-null  int64  \n",
      " 13  genres                10843 non-null  object \n",
      " 14  production_companies  9836 non-null   object \n",
      " 15  release_date          10866 non-null  object \n",
      " 16  vote_count            10866 non-null  int64  \n",
      " 17  vote_average          10866 non-null  float64\n",
      " 18  release_year          10866 non-null  int64  \n",
      " 19  budget_adj            10866 non-null  float64\n",
      " 20  revenue_adj           10866 non-null  float64\n",
      "dtypes: float64(4), int64(6), object(11)\n",
      "memory usage: 1.7+ MB\n"
     ]
    }
   ],
   "source": [
    "df.info()"
   ]
  },
  {
   "cell_type": "markdown",
   "id": "f87f38b2",
   "metadata": {},
   "source": [
    "## the columns with the missing values are\n",
    "- imbd_id\n",
    "- cast\n",
    "- homepage\n",
    "- director \n",
    "- tagline\n",
    "- keywords\n",
    "- overview\n",
    "- genres\n",
    "- production companies"
   ]
  },
  {
   "cell_type": "markdown",
   "id": "15e3b613",
   "metadata": {},
   "source": [
    "#### 4.duplicated rows"
   ]
  },
  {
   "cell_type": "code",
   "execution_count": 7,
   "id": "e74b53f4",
   "metadata": {},
   "outputs": [
    {
     "data": {
      "text/plain": [
       "1"
      ]
     },
     "execution_count": 7,
     "metadata": {},
     "output_type": "execute_result"
    }
   ],
   "source": [
    "sum(df.duplicated())"
   ]
  },
  {
   "cell_type": "markdown",
   "id": "ab105b27",
   "metadata": {},
   "source": [
    "there is a duplicated row"
   ]
  },
  {
   "cell_type": "markdown",
   "id": "3a9e260b",
   "metadata": {},
   "source": [
    "#### number of unique values of average vote"
   ]
  },
  {
   "cell_type": "code",
   "execution_count": 8,
   "id": "d92916df",
   "metadata": {},
   "outputs": [
    {
     "data": {
      "text/plain": [
       "72"
      ]
     },
     "execution_count": 8,
     "metadata": {},
     "output_type": "execute_result"
    }
   ],
   "source": [
    "df.vote_average.nunique()"
   ]
  },
  {
   "cell_type": "code",
   "execution_count": 9,
   "id": "00e06d2d",
   "metadata": {},
   "outputs": [
    {
     "data": {
      "text/plain": [
       "1.5"
      ]
     },
     "execution_count": 9,
     "metadata": {},
     "output_type": "execute_result"
    }
   ],
   "source": [
    "df.vote_average.min()"
   ]
  },
  {
   "cell_type": "code",
   "execution_count": 10,
   "id": "339dc44e",
   "metadata": {},
   "outputs": [
    {
     "data": {
      "text/plain": [
       "9.2"
      ]
     },
     "execution_count": 10,
     "metadata": {},
     "output_type": "execute_result"
    }
   ],
   "source": [
    "df.vote_average.max()"
   ]
  },
  {
   "cell_type": "markdown",
   "id": "9d1a0507",
   "metadata": {},
   "source": [
    "### some information about other columns"
   ]
  },
  {
   "cell_type": "code",
   "execution_count": 11,
   "id": "49ebe934",
   "metadata": {},
   "outputs": [
    {
     "data": {
      "text/plain": [
       "5067"
      ]
     },
     "execution_count": 11,
     "metadata": {},
     "output_type": "execute_result"
    }
   ],
   "source": [
    "# number of directors \n",
    "df.director.nunique()"
   ]
  },
  {
   "cell_type": "markdown",
   "id": "3b5576ab",
   "metadata": {},
   "source": [
    "## Cleaning the dataset\n",
    "we need to check for \n",
    "- non-related columns to our analysis \n",
    "    - our analysis is statistic-oriented, so we will check for the non-relevant columns for statistics\n",
    "- missing data\n",
    "- duplicates \n",
    "- structural problems"
   ]
  },
  {
   "cell_type": "markdown",
   "id": "e2a51276",
   "metadata": {},
   "source": [
    "### duplicates "
   ]
  },
  {
   "cell_type": "code",
   "execution_count": 12,
   "id": "5b86f0d4",
   "metadata": {},
   "outputs": [
    {
     "data": {
      "text/plain": [
       "1"
      ]
     },
     "execution_count": 12,
     "metadata": {},
     "output_type": "execute_result"
    }
   ],
   "source": [
    "sum(df.duplicated())"
   ]
  },
  {
   "cell_type": "code",
   "execution_count": 13,
   "id": "c2614610",
   "metadata": {},
   "outputs": [],
   "source": [
    "df.drop_duplicates(inplace=True)"
   ]
  },
  {
   "cell_type": "code",
   "execution_count": 14,
   "id": "7f5d688c",
   "metadata": {},
   "outputs": [
    {
     "data": {
      "text/plain": [
       "False"
      ]
     },
     "execution_count": 14,
     "metadata": {},
     "output_type": "execute_result"
    }
   ],
   "source": [
    "df.duplicated().any()"
   ]
  },
  {
   "cell_type": "code",
   "execution_count": 15,
   "id": "e5d308c9",
   "metadata": {},
   "outputs": [
    {
     "name": "stdout",
     "output_type": "stream",
     "text": [
      "0 id\n",
      "1 imdb_id\n",
      "2 popularity\n",
      "3 budget\n",
      "4 revenue\n",
      "5 original_title\n",
      "6 cast\n",
      "7 homepage\n",
      "8 director\n",
      "9 tagline\n",
      "10 keywords\n",
      "11 overview\n",
      "12 runtime\n",
      "13 genres\n",
      "14 production_companies\n",
      "15 release_date\n",
      "16 vote_count\n",
      "17 vote_average\n",
      "18 release_year\n",
      "19 budget_adj\n",
      "20 revenue_adj\n"
     ]
    }
   ],
   "source": [
    "# View the index number and label for each column\n",
    "for i, v in enumerate(df.columns):\n",
    "    print(i, v)"
   ]
  },
  {
   "cell_type": "markdown",
   "id": "e4f91fb3",
   "metadata": {},
   "source": [
    "### non-related columns to our analysis\n",
    "- we will drop the following columns because they aren't statistically useful \n",
    "    - id\n",
    "    - imdb_id\n",
    "    - homepage\n",
    "    - overview\n",
    "- we will also drop release_date column because we already have the release_year column "
   ]
  },
  {
   "cell_type": "code",
   "execution_count": 16,
   "id": "02ad7a45",
   "metadata": {},
   "outputs": [],
   "source": [
    "columns = ['id','imdb_id','homepage','overview','release_date']\n",
    "df.drop(columns,axis=1,inplace=True)"
   ]
  },
  {
   "cell_type": "code",
   "execution_count": 17,
   "id": "e7b936cb",
   "metadata": {},
   "outputs": [
    {
     "data": {
      "text/plain": [
       "(10865, 16)"
      ]
     },
     "execution_count": 17,
     "metadata": {},
     "output_type": "execute_result"
    }
   ],
   "source": [
    "df.shape"
   ]
  },
  {
   "cell_type": "markdown",
   "id": "7c3cbd13",
   "metadata": {},
   "source": [
    "we now have 16 columns after removing 5 columns and the orginal data had 21 columns so we're doing well"
   ]
  },
  {
   "cell_type": "markdown",
   "id": "2b30ec0c",
   "metadata": {},
   "source": [
    "### Missing Data"
   ]
  },
  {
   "cell_type": "code",
   "execution_count": 18,
   "id": "fe0900a7",
   "metadata": {},
   "outputs": [
    {
     "data": {
      "text/plain": [
       "popularity                 0\n",
       "budget                     0\n",
       "revenue                    0\n",
       "original_title             0\n",
       "cast                      76\n",
       "director                  44\n",
       "tagline                 2824\n",
       "keywords                1493\n",
       "runtime                    0\n",
       "genres                    23\n",
       "production_companies    1030\n",
       "vote_count                 0\n",
       "vote_average               0\n",
       "release_year               0\n",
       "budget_adj                 0\n",
       "revenue_adj                0\n",
       "dtype: int64"
      ]
     },
     "execution_count": 18,
     "metadata": {},
     "output_type": "execute_result"
    }
   ],
   "source": [
    "df.isnull().sum()"
   ]
  },
  {
   "cell_type": "markdown",
   "id": "6beef328",
   "metadata": {},
   "source": [
    "- we would lose impotant data because they have missing values on \n",
    "    - tagline \n",
    "    - keywords\n",
    "so we will drop these 2 lines"
   ]
  },
  {
   "cell_type": "code",
   "execution_count": 19,
   "id": "df03cfc9",
   "metadata": {},
   "outputs": [],
   "source": [
    "columns = ['tagline','keywords']\n",
    "df.drop(columns,axis=1,inplace=True)"
   ]
  },
  {
   "cell_type": "code",
   "execution_count": 20,
   "id": "6e3a7a71",
   "metadata": {},
   "outputs": [
    {
     "data": {
      "text/plain": [
       "(10865, 14)"
      ]
     },
     "execution_count": 20,
     "metadata": {},
     "output_type": "execute_result"
    }
   ],
   "source": [
    "df.shape"
   ]
  },
  {
   "cell_type": "code",
   "execution_count": 21,
   "id": "99519177",
   "metadata": {},
   "outputs": [
    {
     "data": {
      "text/plain": [
       "popularity                 0\n",
       "budget                     0\n",
       "revenue                    0\n",
       "original_title             0\n",
       "cast                      76\n",
       "director                  44\n",
       "runtime                    0\n",
       "genres                    23\n",
       "production_companies    1030\n",
       "vote_count                 0\n",
       "vote_average               0\n",
       "release_year               0\n",
       "budget_adj                 0\n",
       "revenue_adj                0\n",
       "dtype: int64"
      ]
     },
     "execution_count": 21,
     "metadata": {},
     "output_type": "execute_result"
    }
   ],
   "source": [
    "# now check the missing values again \n",
    "df.isnull().sum()"
   ]
  },
  {
   "cell_type": "code",
   "execution_count": 22,
   "id": "51399761",
   "metadata": {},
   "outputs": [],
   "source": [
    "# drop the missing values\n",
    "df.dropna(inplace=True)"
   ]
  },
  {
   "cell_type": "markdown",
   "id": "af89749c",
   "metadata": {},
   "source": [
    "### incorrect Data types"
   ]
  },
  {
   "cell_type": "code",
   "execution_count": 23,
   "id": "df401ffd",
   "metadata": {},
   "outputs": [
    {
     "data": {
      "text/plain": [
       "popularity              float64\n",
       "budget                    int64\n",
       "revenue                   int64\n",
       "original_title           object\n",
       "cast                     object\n",
       "director                 object\n",
       "runtime                   int64\n",
       "genres                   object\n",
       "production_companies     object\n",
       "vote_count                int64\n",
       "vote_average            float64\n",
       "release_year              int64\n",
       "budget_adj              float64\n",
       "revenue_adj             float64\n",
       "dtype: object"
      ]
     },
     "execution_count": 23,
     "metadata": {},
     "output_type": "execute_result"
    }
   ],
   "source": [
    "df.dtypes"
   ]
  },
  {
   "cell_type": "markdown",
   "id": "add64200",
   "metadata": {},
   "source": [
    "they seem good so far, although we will have to split some columns later for conclusions"
   ]
  },
  {
   "cell_type": "code",
   "execution_count": 24,
   "id": "e5cef260",
   "metadata": {},
   "outputs": [
    {
     "data": {
      "text/html": [
       "<div>\n",
       "<style scoped>\n",
       "    .dataframe tbody tr th:only-of-type {\n",
       "        vertical-align: middle;\n",
       "    }\n",
       "\n",
       "    .dataframe tbody tr th {\n",
       "        vertical-align: top;\n",
       "    }\n",
       "\n",
       "    .dataframe thead th {\n",
       "        text-align: right;\n",
       "    }\n",
       "</style>\n",
       "<table border=\"1\" class=\"dataframe\">\n",
       "  <thead>\n",
       "    <tr style=\"text-align: right;\">\n",
       "      <th></th>\n",
       "      <th>popularity</th>\n",
       "      <th>budget</th>\n",
       "      <th>revenue</th>\n",
       "      <th>runtime</th>\n",
       "      <th>vote_count</th>\n",
       "      <th>vote_average</th>\n",
       "      <th>release_year</th>\n",
       "      <th>budget_adj</th>\n",
       "      <th>revenue_adj</th>\n",
       "    </tr>\n",
       "  </thead>\n",
       "  <tbody>\n",
       "    <tr>\n",
       "      <th>count</th>\n",
       "      <td>9772.000000</td>\n",
       "      <td>9.772000e+03</td>\n",
       "      <td>9.772000e+03</td>\n",
       "      <td>9772.000000</td>\n",
       "      <td>9772.000000</td>\n",
       "      <td>9772.000000</td>\n",
       "      <td>9772.000000</td>\n",
       "      <td>9.772000e+03</td>\n",
       "      <td>9.772000e+03</td>\n",
       "    </tr>\n",
       "    <tr>\n",
       "      <th>mean</th>\n",
       "      <td>0.694721</td>\n",
       "      <td>1.617967e+07</td>\n",
       "      <td>4.423121e+07</td>\n",
       "      <td>102.926627</td>\n",
       "      <td>239.312014</td>\n",
       "      <td>5.963528</td>\n",
       "      <td>2000.878428</td>\n",
       "      <td>1.941599e+07</td>\n",
       "      <td>5.705309e+07</td>\n",
       "    </tr>\n",
       "    <tr>\n",
       "      <th>std</th>\n",
       "      <td>1.036931</td>\n",
       "      <td>3.221074e+07</td>\n",
       "      <td>1.225889e+08</td>\n",
       "      <td>27.877432</td>\n",
       "      <td>603.011504</td>\n",
       "      <td>0.913174</td>\n",
       "      <td>13.036794</td>\n",
       "      <td>3.566634e+07</td>\n",
       "      <td>1.514499e+08</td>\n",
       "    </tr>\n",
       "    <tr>\n",
       "      <th>min</th>\n",
       "      <td>0.000188</td>\n",
       "      <td>0.000000e+00</td>\n",
       "      <td>0.000000e+00</td>\n",
       "      <td>0.000000</td>\n",
       "      <td>10.000000</td>\n",
       "      <td>1.500000</td>\n",
       "      <td>1960.000000</td>\n",
       "      <td>0.000000e+00</td>\n",
       "      <td>0.000000e+00</td>\n",
       "    </tr>\n",
       "    <tr>\n",
       "      <th>25%</th>\n",
       "      <td>0.232710</td>\n",
       "      <td>0.000000e+00</td>\n",
       "      <td>0.000000e+00</td>\n",
       "      <td>90.000000</td>\n",
       "      <td>18.000000</td>\n",
       "      <td>5.400000</td>\n",
       "      <td>1994.000000</td>\n",
       "      <td>0.000000e+00</td>\n",
       "      <td>0.000000e+00</td>\n",
       "    </tr>\n",
       "    <tr>\n",
       "      <th>50%</th>\n",
       "      <td>0.419762</td>\n",
       "      <td>2.000000e+05</td>\n",
       "      <td>0.000000e+00</td>\n",
       "      <td>100.000000</td>\n",
       "      <td>46.000000</td>\n",
       "      <td>6.000000</td>\n",
       "      <td>2005.000000</td>\n",
       "      <td>3.061342e+05</td>\n",
       "      <td>0.000000e+00</td>\n",
       "    </tr>\n",
       "    <tr>\n",
       "      <th>75%</th>\n",
       "      <td>0.776408</td>\n",
       "      <td>1.928750e+07</td>\n",
       "      <td>3.104729e+07</td>\n",
       "      <td>112.000000</td>\n",
       "      <td>173.000000</td>\n",
       "      <td>6.600000</td>\n",
       "      <td>2011.000000</td>\n",
       "      <td>2.464268e+07</td>\n",
       "      <td>4.311848e+07</td>\n",
       "    </tr>\n",
       "    <tr>\n",
       "      <th>max</th>\n",
       "      <td>32.985763</td>\n",
       "      <td>4.250000e+08</td>\n",
       "      <td>2.781506e+09</td>\n",
       "      <td>877.000000</td>\n",
       "      <td>9767.000000</td>\n",
       "      <td>8.700000</td>\n",
       "      <td>2015.000000</td>\n",
       "      <td>4.250000e+08</td>\n",
       "      <td>2.827124e+09</td>\n",
       "    </tr>\n",
       "  </tbody>\n",
       "</table>\n",
       "</div>"
      ],
      "text/plain": [
       "        popularity        budget       revenue      runtime   vote_count  \\\n",
       "count  9772.000000  9.772000e+03  9.772000e+03  9772.000000  9772.000000   \n",
       "mean      0.694721  1.617967e+07  4.423121e+07   102.926627   239.312014   \n",
       "std       1.036931  3.221074e+07  1.225889e+08    27.877432   603.011504   \n",
       "min       0.000188  0.000000e+00  0.000000e+00     0.000000    10.000000   \n",
       "25%       0.232710  0.000000e+00  0.000000e+00    90.000000    18.000000   \n",
       "50%       0.419762  2.000000e+05  0.000000e+00   100.000000    46.000000   \n",
       "75%       0.776408  1.928750e+07  3.104729e+07   112.000000   173.000000   \n",
       "max      32.985763  4.250000e+08  2.781506e+09   877.000000  9767.000000   \n",
       "\n",
       "       vote_average  release_year    budget_adj   revenue_adj  \n",
       "count   9772.000000   9772.000000  9.772000e+03  9.772000e+03  \n",
       "mean       5.963528   2000.878428  1.941599e+07  5.705309e+07  \n",
       "std        0.913174     13.036794  3.566634e+07  1.514499e+08  \n",
       "min        1.500000   1960.000000  0.000000e+00  0.000000e+00  \n",
       "25%        5.400000   1994.000000  0.000000e+00  0.000000e+00  \n",
       "50%        6.000000   2005.000000  3.061342e+05  0.000000e+00  \n",
       "75%        6.600000   2011.000000  2.464268e+07  4.311848e+07  \n",
       "max        8.700000   2015.000000  4.250000e+08  2.827124e+09  "
      ]
     },
     "execution_count": 24,
     "metadata": {},
     "output_type": "execute_result"
    }
   ],
   "source": [
    "df.describe()"
   ]
  },
  {
   "cell_type": "markdown",
   "id": "497b8610",
   "metadata": {},
   "source": [
    "<a id='eda'></a>\n",
    "## Exploratory Data Analysis"
   ]
  },
  {
   "cell_type": "code",
   "execution_count": 25,
   "id": "af42ea1c",
   "metadata": {},
   "outputs": [
    {
     "data": {
      "text/html": [
       "<div>\n",
       "<style scoped>\n",
       "    .dataframe tbody tr th:only-of-type {\n",
       "        vertical-align: middle;\n",
       "    }\n",
       "\n",
       "    .dataframe tbody tr th {\n",
       "        vertical-align: top;\n",
       "    }\n",
       "\n",
       "    .dataframe thead th {\n",
       "        text-align: right;\n",
       "    }\n",
       "</style>\n",
       "<table border=\"1\" class=\"dataframe\">\n",
       "  <thead>\n",
       "    <tr style=\"text-align: right;\">\n",
       "      <th></th>\n",
       "      <th>popularity</th>\n",
       "      <th>budget</th>\n",
       "      <th>revenue</th>\n",
       "      <th>original_title</th>\n",
       "      <th>cast</th>\n",
       "      <th>director</th>\n",
       "      <th>runtime</th>\n",
       "      <th>genres</th>\n",
       "      <th>production_companies</th>\n",
       "      <th>vote_count</th>\n",
       "      <th>vote_average</th>\n",
       "      <th>release_year</th>\n",
       "      <th>budget_adj</th>\n",
       "      <th>revenue_adj</th>\n",
       "    </tr>\n",
       "  </thead>\n",
       "  <tbody>\n",
       "    <tr>\n",
       "      <th>0</th>\n",
       "      <td>32.985763</td>\n",
       "      <td>150000000</td>\n",
       "      <td>1513528810</td>\n",
       "      <td>Jurassic World</td>\n",
       "      <td>Chris Pratt|Bryce Dallas Howard|Irrfan Khan|Vi...</td>\n",
       "      <td>Colin Trevorrow</td>\n",
       "      <td>124</td>\n",
       "      <td>Action|Adventure|Science Fiction|Thriller</td>\n",
       "      <td>Universal Studios|Amblin Entertainment|Legenda...</td>\n",
       "      <td>5562</td>\n",
       "      <td>6.5</td>\n",
       "      <td>2015</td>\n",
       "      <td>1.379999e+08</td>\n",
       "      <td>1.392446e+09</td>\n",
       "    </tr>\n",
       "    <tr>\n",
       "      <th>1</th>\n",
       "      <td>28.419936</td>\n",
       "      <td>150000000</td>\n",
       "      <td>378436354</td>\n",
       "      <td>Mad Max: Fury Road</td>\n",
       "      <td>Tom Hardy|Charlize Theron|Hugh Keays-Byrne|Nic...</td>\n",
       "      <td>George Miller</td>\n",
       "      <td>120</td>\n",
       "      <td>Action|Adventure|Science Fiction|Thriller</td>\n",
       "      <td>Village Roadshow Pictures|Kennedy Miller Produ...</td>\n",
       "      <td>6185</td>\n",
       "      <td>7.1</td>\n",
       "      <td>2015</td>\n",
       "      <td>1.379999e+08</td>\n",
       "      <td>3.481613e+08</td>\n",
       "    </tr>\n",
       "    <tr>\n",
       "      <th>2</th>\n",
       "      <td>13.112507</td>\n",
       "      <td>110000000</td>\n",
       "      <td>295238201</td>\n",
       "      <td>Insurgent</td>\n",
       "      <td>Shailene Woodley|Theo James|Kate Winslet|Ansel...</td>\n",
       "      <td>Robert Schwentke</td>\n",
       "      <td>119</td>\n",
       "      <td>Adventure|Science Fiction|Thriller</td>\n",
       "      <td>Summit Entertainment|Mandeville Films|Red Wago...</td>\n",
       "      <td>2480</td>\n",
       "      <td>6.3</td>\n",
       "      <td>2015</td>\n",
       "      <td>1.012000e+08</td>\n",
       "      <td>2.716190e+08</td>\n",
       "    </tr>\n",
       "    <tr>\n",
       "      <th>3</th>\n",
       "      <td>11.173104</td>\n",
       "      <td>200000000</td>\n",
       "      <td>2068178225</td>\n",
       "      <td>Star Wars: The Force Awakens</td>\n",
       "      <td>Harrison Ford|Mark Hamill|Carrie Fisher|Adam D...</td>\n",
       "      <td>J.J. Abrams</td>\n",
       "      <td>136</td>\n",
       "      <td>Action|Adventure|Science Fiction|Fantasy</td>\n",
       "      <td>Lucasfilm|Truenorth Productions|Bad Robot</td>\n",
       "      <td>5292</td>\n",
       "      <td>7.5</td>\n",
       "      <td>2015</td>\n",
       "      <td>1.839999e+08</td>\n",
       "      <td>1.902723e+09</td>\n",
       "    </tr>\n",
       "    <tr>\n",
       "      <th>4</th>\n",
       "      <td>9.335014</td>\n",
       "      <td>190000000</td>\n",
       "      <td>1506249360</td>\n",
       "      <td>Furious 7</td>\n",
       "      <td>Vin Diesel|Paul Walker|Jason Statham|Michelle ...</td>\n",
       "      <td>James Wan</td>\n",
       "      <td>137</td>\n",
       "      <td>Action|Crime|Thriller</td>\n",
       "      <td>Universal Pictures|Original Film|Media Rights ...</td>\n",
       "      <td>2947</td>\n",
       "      <td>7.3</td>\n",
       "      <td>2015</td>\n",
       "      <td>1.747999e+08</td>\n",
       "      <td>1.385749e+09</td>\n",
       "    </tr>\n",
       "    <tr>\n",
       "      <th>...</th>\n",
       "      <td>...</td>\n",
       "      <td>...</td>\n",
       "      <td>...</td>\n",
       "      <td>...</td>\n",
       "      <td>...</td>\n",
       "      <td>...</td>\n",
       "      <td>...</td>\n",
       "      <td>...</td>\n",
       "      <td>...</td>\n",
       "      <td>...</td>\n",
       "      <td>...</td>\n",
       "      <td>...</td>\n",
       "      <td>...</td>\n",
       "      <td>...</td>\n",
       "    </tr>\n",
       "    <tr>\n",
       "      <th>10861</th>\n",
       "      <td>0.080598</td>\n",
       "      <td>0</td>\n",
       "      <td>0</td>\n",
       "      <td>The Endless Summer</td>\n",
       "      <td>Michael Hynson|Robert August|Lord 'Tally Ho' B...</td>\n",
       "      <td>Bruce Brown</td>\n",
       "      <td>95</td>\n",
       "      <td>Documentary</td>\n",
       "      <td>Bruce Brown Films</td>\n",
       "      <td>11</td>\n",
       "      <td>7.4</td>\n",
       "      <td>1966</td>\n",
       "      <td>0.000000e+00</td>\n",
       "      <td>0.000000e+00</td>\n",
       "    </tr>\n",
       "    <tr>\n",
       "      <th>10862</th>\n",
       "      <td>0.065543</td>\n",
       "      <td>0</td>\n",
       "      <td>0</td>\n",
       "      <td>Grand Prix</td>\n",
       "      <td>James Garner|Eva Marie Saint|Yves Montand|Tosh...</td>\n",
       "      <td>John Frankenheimer</td>\n",
       "      <td>176</td>\n",
       "      <td>Action|Adventure|Drama</td>\n",
       "      <td>Cherokee Productions|Joel Productions|Douglas ...</td>\n",
       "      <td>20</td>\n",
       "      <td>5.7</td>\n",
       "      <td>1966</td>\n",
       "      <td>0.000000e+00</td>\n",
       "      <td>0.000000e+00</td>\n",
       "    </tr>\n",
       "    <tr>\n",
       "      <th>10863</th>\n",
       "      <td>0.065141</td>\n",
       "      <td>0</td>\n",
       "      <td>0</td>\n",
       "      <td>Beregis Avtomobilya</td>\n",
       "      <td>Innokentiy Smoktunovskiy|Oleg Efremov|Georgi Z...</td>\n",
       "      <td>Eldar Ryazanov</td>\n",
       "      <td>94</td>\n",
       "      <td>Mystery|Comedy</td>\n",
       "      <td>Mosfilm</td>\n",
       "      <td>11</td>\n",
       "      <td>6.5</td>\n",
       "      <td>1966</td>\n",
       "      <td>0.000000e+00</td>\n",
       "      <td>0.000000e+00</td>\n",
       "    </tr>\n",
       "    <tr>\n",
       "      <th>10864</th>\n",
       "      <td>0.064317</td>\n",
       "      <td>0</td>\n",
       "      <td>0</td>\n",
       "      <td>What's Up, Tiger Lily?</td>\n",
       "      <td>Tatsuya Mihashi|Akiko Wakabayashi|Mie Hama|Joh...</td>\n",
       "      <td>Woody Allen</td>\n",
       "      <td>80</td>\n",
       "      <td>Action|Comedy</td>\n",
       "      <td>Benedict Pictures Corp.</td>\n",
       "      <td>22</td>\n",
       "      <td>5.4</td>\n",
       "      <td>1966</td>\n",
       "      <td>0.000000e+00</td>\n",
       "      <td>0.000000e+00</td>\n",
       "    </tr>\n",
       "    <tr>\n",
       "      <th>10865</th>\n",
       "      <td>0.035919</td>\n",
       "      <td>19000</td>\n",
       "      <td>0</td>\n",
       "      <td>Manos: The Hands of Fate</td>\n",
       "      <td>Harold P. Warren|Tom Neyman|John Reynolds|Dian...</td>\n",
       "      <td>Harold P. Warren</td>\n",
       "      <td>74</td>\n",
       "      <td>Horror</td>\n",
       "      <td>Norm-Iris</td>\n",
       "      <td>15</td>\n",
       "      <td>1.5</td>\n",
       "      <td>1966</td>\n",
       "      <td>1.276423e+05</td>\n",
       "      <td>0.000000e+00</td>\n",
       "    </tr>\n",
       "  </tbody>\n",
       "</table>\n",
       "<p>9772 rows × 14 columns</p>\n",
       "</div>"
      ],
      "text/plain": [
       "       popularity     budget     revenue                original_title  \\\n",
       "0       32.985763  150000000  1513528810                Jurassic World   \n",
       "1       28.419936  150000000   378436354            Mad Max: Fury Road   \n",
       "2       13.112507  110000000   295238201                     Insurgent   \n",
       "3       11.173104  200000000  2068178225  Star Wars: The Force Awakens   \n",
       "4        9.335014  190000000  1506249360                     Furious 7   \n",
       "...           ...        ...         ...                           ...   \n",
       "10861    0.080598          0           0            The Endless Summer   \n",
       "10862    0.065543          0           0                    Grand Prix   \n",
       "10863    0.065141          0           0           Beregis Avtomobilya   \n",
       "10864    0.064317          0           0        What's Up, Tiger Lily?   \n",
       "10865    0.035919      19000           0      Manos: The Hands of Fate   \n",
       "\n",
       "                                                    cast            director  \\\n",
       "0      Chris Pratt|Bryce Dallas Howard|Irrfan Khan|Vi...     Colin Trevorrow   \n",
       "1      Tom Hardy|Charlize Theron|Hugh Keays-Byrne|Nic...       George Miller   \n",
       "2      Shailene Woodley|Theo James|Kate Winslet|Ansel...    Robert Schwentke   \n",
       "3      Harrison Ford|Mark Hamill|Carrie Fisher|Adam D...         J.J. Abrams   \n",
       "4      Vin Diesel|Paul Walker|Jason Statham|Michelle ...           James Wan   \n",
       "...                                                  ...                 ...   \n",
       "10861  Michael Hynson|Robert August|Lord 'Tally Ho' B...         Bruce Brown   \n",
       "10862  James Garner|Eva Marie Saint|Yves Montand|Tosh...  John Frankenheimer   \n",
       "10863  Innokentiy Smoktunovskiy|Oleg Efremov|Georgi Z...      Eldar Ryazanov   \n",
       "10864  Tatsuya Mihashi|Akiko Wakabayashi|Mie Hama|Joh...         Woody Allen   \n",
       "10865  Harold P. Warren|Tom Neyman|John Reynolds|Dian...    Harold P. Warren   \n",
       "\n",
       "       runtime                                     genres  \\\n",
       "0          124  Action|Adventure|Science Fiction|Thriller   \n",
       "1          120  Action|Adventure|Science Fiction|Thriller   \n",
       "2          119         Adventure|Science Fiction|Thriller   \n",
       "3          136   Action|Adventure|Science Fiction|Fantasy   \n",
       "4          137                      Action|Crime|Thriller   \n",
       "...        ...                                        ...   \n",
       "10861       95                                Documentary   \n",
       "10862      176                     Action|Adventure|Drama   \n",
       "10863       94                             Mystery|Comedy   \n",
       "10864       80                              Action|Comedy   \n",
       "10865       74                                     Horror   \n",
       "\n",
       "                                    production_companies  vote_count  \\\n",
       "0      Universal Studios|Amblin Entertainment|Legenda...        5562   \n",
       "1      Village Roadshow Pictures|Kennedy Miller Produ...        6185   \n",
       "2      Summit Entertainment|Mandeville Films|Red Wago...        2480   \n",
       "3              Lucasfilm|Truenorth Productions|Bad Robot        5292   \n",
       "4      Universal Pictures|Original Film|Media Rights ...        2947   \n",
       "...                                                  ...         ...   \n",
       "10861                                  Bruce Brown Films          11   \n",
       "10862  Cherokee Productions|Joel Productions|Douglas ...          20   \n",
       "10863                                            Mosfilm          11   \n",
       "10864                            Benedict Pictures Corp.          22   \n",
       "10865                                          Norm-Iris          15   \n",
       "\n",
       "       vote_average  release_year    budget_adj   revenue_adj  \n",
       "0               6.5          2015  1.379999e+08  1.392446e+09  \n",
       "1               7.1          2015  1.379999e+08  3.481613e+08  \n",
       "2               6.3          2015  1.012000e+08  2.716190e+08  \n",
       "3               7.5          2015  1.839999e+08  1.902723e+09  \n",
       "4               7.3          2015  1.747999e+08  1.385749e+09  \n",
       "...             ...           ...           ...           ...  \n",
       "10861           7.4          1966  0.000000e+00  0.000000e+00  \n",
       "10862           5.7          1966  0.000000e+00  0.000000e+00  \n",
       "10863           6.5          1966  0.000000e+00  0.000000e+00  \n",
       "10864           5.4          1966  0.000000e+00  0.000000e+00  \n",
       "10865           1.5          1966  1.276423e+05  0.000000e+00  \n",
       "\n",
       "[9772 rows x 14 columns]"
      ]
     },
     "execution_count": 25,
     "metadata": {},
     "output_type": "execute_result"
    }
   ],
   "source": [
    "df"
   ]
  },
  {
   "cell_type": "markdown",
   "id": "d0539af1",
   "metadata": {},
   "source": [
    "### Exploring with visuals"
   ]
  },
  {
   "cell_type": "code",
   "execution_count": 26,
   "id": "6bc727b8",
   "metadata": {},
   "outputs": [
    {
     "data": {
      "image/png": "[encoded data removed]",
      "text/plain": [
       "<Figure size 432x288 with 1 Axes>"
      ]
     },
     "metadata": {
      "needs_background": "light"
     },
     "output_type": "display_data"
    }
   ],
   "source": [
    "df.runtime.hist();"
   ]
  },
  {
   "cell_type": "code",
   "execution_count": 27,
   "id": "b65f5a6e",
   "metadata": {},
   "outputs": [
    {
     "data": {
      "image/png": "[encoded data removed]",
      "text/plain": [
       "<Figure size 432x288 with 1 Axes>"
      ]
     },
     "metadata": {
      "needs_background": "light"
     },
     "output_type": "display_data"
    }
   ],
   "source": [
    "df.budget.hist();"
   ]
  },
  {
   "cell_type": "code",
   "execution_count": 28,
   "id": "c56fadca",
   "metadata": {},
   "outputs": [
    {
     "data": {
      "image/png": "[encoded data removed]",
      "text/plain": [
       "<Figure size 432x288 with 1 Axes>"
      ]
     },
     "metadata": {
      "needs_background": "light"
     },
     "output_type": "display_data"
    }
   ],
   "source": [
    "df.revenue.hist();"
   ]
  },
  {
   "cell_type": "markdown",
   "id": "71d64fa0",
   "metadata": {},
   "source": [
    "### Q: Does the amount of budget affect the rating of a movie?"
   ]
  },
  {
   "cell_type": "code",
   "execution_count": 29,
   "id": "f9c20bb7",
   "metadata": {},
   "outputs": [
    {
     "data": {
      "text/plain": [
       "<AxesSubplot:xlabel='budget', ylabel='vote_average'>"
      ]
     },
     "execution_count": 29,
     "metadata": {},
     "output_type": "execute_result"
    },
    {
     "data": {
      "image/png": "[encoded data removed]",
      "text/plain": [
       "<Figure size 432x288 with 1 Axes>"
      ]
     },
     "metadata": {
      "needs_background": "light"
     },
     "output_type": "display_data"
    }
   ],
   "source": [
    "df.plot(x='budget',y='vote_average',kind='scatter')"
   ]
  },
  {
   "cell_type": "markdown",
   "id": "15a12a46",
   "metadata": {},
   "source": [
    "### Q: does the duration of a movie affect the rating?"
   ]
  },
  {
   "cell_type": "code",
   "execution_count": 30,
   "id": "0f881a8b",
   "metadata": {},
   "outputs": [
    {
     "data": {
      "text/plain": [
       "<AxesSubplot:xlabel='runtime', ylabel='vote_average'>"
      ]
     },
     "execution_count": 30,
     "metadata": {},
     "output_type": "execute_result"
    },
    {
     "data": {
      "image/png": "[encoded data removed]",
      "text/plain": [
       "<Figure size 432x288 with 1 Axes>"
      ]
     },
     "metadata": {
      "needs_background": "light"
     },
     "output_type": "display_data"
    }
   ],
   "source": [
    "df.plot(x='runtime',y='vote_average',kind='scatter')"
   ]
  },
  {
   "cell_type": "markdown",
   "id": "774193fa",
   "metadata": {},
   "source": [
    "### Q: what are the ratings of movies over the years?"
   ]
  },
  {
   "cell_type": "code",
   "execution_count": 31,
   "id": "aa246580",
   "metadata": {},
   "outputs": [
    {
     "data": {
      "text/plain": [
       "<AxesSubplot:xlabel='release_year', ylabel='vote_average'>"
      ]
     },
     "execution_count": 31,
     "metadata": {},
     "output_type": "execute_result"
    },
    {
     "data": {
      "image/png": "[encoded data removed]",
      "text/plain": [
       "<Figure size 432x288 with 1 Axes>"
      ]
     },
     "metadata": {
      "needs_background": "light"
     },
     "output_type": "display_data"
    }
   ],
   "source": [
    "df.plot(x='release_year',y='vote_average',kind='scatter')"
   ]
  },
  {
   "cell_type": "markdown",
   "id": "91bf2624",
   "metadata": {},
   "source": [
    "<a id='conclusions'></a>\n",
    "## Drawing conclusions"
   ]
  },
  {
   "cell_type": "code",
   "execution_count": 32,
   "id": "c78a3738",
   "metadata": {},
   "outputs": [
    {
     "data": {
      "text/html": [
       "<div>\n",
       "<style scoped>\n",
       "    .dataframe tbody tr th:only-of-type {\n",
       "        vertical-align: middle;\n",
       "    }\n",
       "\n",
       "    .dataframe tbody tr th {\n",
       "        vertical-align: top;\n",
       "    }\n",
       "\n",
       "    .dataframe thead th {\n",
       "        text-align: right;\n",
       "    }\n",
       "</style>\n",
       "<table border=\"1\" class=\"dataframe\">\n",
       "  <thead>\n",
       "    <tr style=\"text-align: right;\">\n",
       "      <th></th>\n",
       "      <th>popularity</th>\n",
       "      <th>budget</th>\n",
       "      <th>revenue</th>\n",
       "      <th>original_title</th>\n",
       "      <th>cast</th>\n",
       "      <th>director</th>\n",
       "      <th>runtime</th>\n",
       "      <th>genres</th>\n",
       "      <th>production_companies</th>\n",
       "      <th>vote_count</th>\n",
       "      <th>vote_average</th>\n",
       "      <th>release_year</th>\n",
       "      <th>budget_adj</th>\n",
       "      <th>revenue_adj</th>\n",
       "    </tr>\n",
       "  </thead>\n",
       "  <tbody>\n",
       "    <tr>\n",
       "      <th>0</th>\n",
       "      <td>32.985763</td>\n",
       "      <td>150000000</td>\n",
       "      <td>1513528810</td>\n",
       "      <td>Jurassic World</td>\n",
       "      <td>Chris Pratt|Bryce Dallas Howard|Irrfan Khan|Vi...</td>\n",
       "      <td>Colin Trevorrow</td>\n",
       "      <td>124</td>\n",
       "      <td>Action|Adventure|Science Fiction|Thriller</td>\n",
       "      <td>Universal Studios|Amblin Entertainment|Legenda...</td>\n",
       "      <td>5562</td>\n",
       "      <td>6.5</td>\n",
       "      <td>2015</td>\n",
       "      <td>1.379999e+08</td>\n",
       "      <td>1.392446e+09</td>\n",
       "    </tr>\n",
       "    <tr>\n",
       "      <th>1</th>\n",
       "      <td>28.419936</td>\n",
       "      <td>150000000</td>\n",
       "      <td>378436354</td>\n",
       "      <td>Mad Max: Fury Road</td>\n",
       "      <td>Tom Hardy|Charlize Theron|Hugh Keays-Byrne|Nic...</td>\n",
       "      <td>George Miller</td>\n",
       "      <td>120</td>\n",
       "      <td>Action|Adventure|Science Fiction|Thriller</td>\n",
       "      <td>Village Roadshow Pictures|Kennedy Miller Produ...</td>\n",
       "      <td>6185</td>\n",
       "      <td>7.1</td>\n",
       "      <td>2015</td>\n",
       "      <td>1.379999e+08</td>\n",
       "      <td>3.481613e+08</td>\n",
       "    </tr>\n",
       "    <tr>\n",
       "      <th>2</th>\n",
       "      <td>13.112507</td>\n",
       "      <td>110000000</td>\n",
       "      <td>295238201</td>\n",
       "      <td>Insurgent</td>\n",
       "      <td>Shailene Woodley|Theo James|Kate Winslet|Ansel...</td>\n",
       "      <td>Robert Schwentke</td>\n",
       "      <td>119</td>\n",
       "      <td>Adventure|Science Fiction|Thriller</td>\n",
       "      <td>Summit Entertainment|Mandeville Films|Red Wago...</td>\n",
       "      <td>2480</td>\n",
       "      <td>6.3</td>\n",
       "      <td>2015</td>\n",
       "      <td>1.012000e+08</td>\n",
       "      <td>2.716190e+08</td>\n",
       "    </tr>\n",
       "    <tr>\n",
       "      <th>3</th>\n",
       "      <td>11.173104</td>\n",
       "      <td>200000000</td>\n",
       "      <td>2068178225</td>\n",
       "      <td>Star Wars: The Force Awakens</td>\n",
       "      <td>Harrison Ford|Mark Hamill|Carrie Fisher|Adam D...</td>\n",
       "      <td>J.J. Abrams</td>\n",
       "      <td>136</td>\n",
       "      <td>Action|Adventure|Science Fiction|Fantasy</td>\n",
       "      <td>Lucasfilm|Truenorth Productions|Bad Robot</td>\n",
       "      <td>5292</td>\n",
       "      <td>7.5</td>\n",
       "      <td>2015</td>\n",
       "      <td>1.839999e+08</td>\n",
       "      <td>1.902723e+09</td>\n",
       "    </tr>\n",
       "    <tr>\n",
       "      <th>4</th>\n",
       "      <td>9.335014</td>\n",
       "      <td>190000000</td>\n",
       "      <td>1506249360</td>\n",
       "      <td>Furious 7</td>\n",
       "      <td>Vin Diesel|Paul Walker|Jason Statham|Michelle ...</td>\n",
       "      <td>James Wan</td>\n",
       "      <td>137</td>\n",
       "      <td>Action|Crime|Thriller</td>\n",
       "      <td>Universal Pictures|Original Film|Media Rights ...</td>\n",
       "      <td>2947</td>\n",
       "      <td>7.3</td>\n",
       "      <td>2015</td>\n",
       "      <td>1.747999e+08</td>\n",
       "      <td>1.385749e+09</td>\n",
       "    </tr>\n",
       "    <tr>\n",
       "      <th>...</th>\n",
       "      <td>...</td>\n",
       "      <td>...</td>\n",
       "      <td>...</td>\n",
       "      <td>...</td>\n",
       "      <td>...</td>\n",
       "      <td>...</td>\n",
       "      <td>...</td>\n",
       "      <td>...</td>\n",
       "      <td>...</td>\n",
       "      <td>...</td>\n",
       "      <td>...</td>\n",
       "      <td>...</td>\n",
       "      <td>...</td>\n",
       "      <td>...</td>\n",
       "    </tr>\n",
       "    <tr>\n",
       "      <th>10861</th>\n",
       "      <td>0.080598</td>\n",
       "      <td>0</td>\n",
       "      <td>0</td>\n",
       "      <td>The Endless Summer</td>\n",
       "      <td>Michael Hynson|Robert August|Lord 'Tally Ho' B...</td>\n",
       "      <td>Bruce Brown</td>\n",
       "      <td>95</td>\n",
       "      <td>Documentary</td>\n",
       "      <td>Bruce Brown Films</td>\n",
       "      <td>11</td>\n",
       "      <td>7.4</td>\n",
       "      <td>1966</td>\n",
       "      <td>0.000000e+00</td>\n",
       "      <td>0.000000e+00</td>\n",
       "    </tr>\n",
       "    <tr>\n",
       "      <th>10862</th>\n",
       "      <td>0.065543</td>\n",
       "      <td>0</td>\n",
       "      <td>0</td>\n",
       "      <td>Grand Prix</td>\n",
       "      <td>James Garner|Eva Marie Saint|Yves Montand|Tosh...</td>\n",
       "      <td>John Frankenheimer</td>\n",
       "      <td>176</td>\n",
       "      <td>Action|Adventure|Drama</td>\n",
       "      <td>Cherokee Productions|Joel Productions|Douglas ...</td>\n",
       "      <td>20</td>\n",
       "      <td>5.7</td>\n",
       "      <td>1966</td>\n",
       "      <td>0.000000e+00</td>\n",
       "      <td>0.000000e+00</td>\n",
       "    </tr>\n",
       "    <tr>\n",
       "      <th>10863</th>\n",
       "      <td>0.065141</td>\n",
       "      <td>0</td>\n",
       "      <td>0</td>\n",
       "      <td>Beregis Avtomobilya</td>\n",
       "      <td>Innokentiy Smoktunovskiy|Oleg Efremov|Georgi Z...</td>\n",
       "      <td>Eldar Ryazanov</td>\n",
       "      <td>94</td>\n",
       "      <td>Mystery|Comedy</td>\n",
       "      <td>Mosfilm</td>\n",
       "      <td>11</td>\n",
       "      <td>6.5</td>\n",
       "      <td>1966</td>\n",
       "      <td>0.000000e+00</td>\n",
       "      <td>0.000000e+00</td>\n",
       "    </tr>\n",
       "    <tr>\n",
       "      <th>10864</th>\n",
       "      <td>0.064317</td>\n",
       "      <td>0</td>\n",
       "      <td>0</td>\n",
       "      <td>What's Up, Tiger Lily?</td>\n",
       "      <td>Tatsuya Mihashi|Akiko Wakabayashi|Mie Hama|Joh...</td>\n",
       "      <td>Woody Allen</td>\n",
       "      <td>80</td>\n",
       "      <td>Action|Comedy</td>\n",
       "      <td>Benedict Pictures Corp.</td>\n",
       "      <td>22</td>\n",
       "      <td>5.4</td>\n",
       "      <td>1966</td>\n",
       "      <td>0.000000e+00</td>\n",
       "      <td>0.000000e+00</td>\n",
       "    </tr>\n",
       "    <tr>\n",
       "      <th>10865</th>\n",
       "      <td>0.035919</td>\n",
       "      <td>19000</td>\n",
       "      <td>0</td>\n",
       "      <td>Manos: The Hands of Fate</td>\n",
       "      <td>Harold P. Warren|Tom Neyman|John Reynolds|Dian...</td>\n",
       "      <td>Harold P. Warren</td>\n",
       "      <td>74</td>\n",
       "      <td>Horror</td>\n",
       "      <td>Norm-Iris</td>\n",
       "      <td>15</td>\n",
       "      <td>1.5</td>\n",
       "      <td>1966</td>\n",
       "      <td>1.276423e+05</td>\n",
       "      <td>0.000000e+00</td>\n",
       "    </tr>\n",
       "  </tbody>\n",
       "</table>\n",
       "<p>9772 rows × 14 columns</p>\n",
       "</div>"
      ],
      "text/plain": [
       "       popularity     budget     revenue                original_title  \\\n",
       "0       32.985763  150000000  1513528810                Jurassic World   \n",
       "1       28.419936  150000000   378436354            Mad Max: Fury Road   \n",
       "2       13.112507  110000000   295238201                     Insurgent   \n",
       "3       11.173104  200000000  2068178225  Star Wars: The Force Awakens   \n",
       "4        9.335014  190000000  1506249360                     Furious 7   \n",
       "...           ...        ...         ...                           ...   \n",
       "10861    0.080598          0           0            The Endless Summer   \n",
       "10862    0.065543          0           0                    Grand Prix   \n",
       "10863    0.065141          0           0           Beregis Avtomobilya   \n",
       "10864    0.064317          0           0        What's Up, Tiger Lily?   \n",
       "10865    0.035919      19000           0      Manos: The Hands of Fate   \n",
       "\n",
       "                                                    cast            director  \\\n",
       "0      Chris Pratt|Bryce Dallas Howard|Irrfan Khan|Vi...     Colin Trevorrow   \n",
       "1      Tom Hardy|Charlize Theron|Hugh Keays-Byrne|Nic...       George Miller   \n",
       "2      Shailene Woodley|Theo James|Kate Winslet|Ansel...    Robert Schwentke   \n",
       "3      Harrison Ford|Mark Hamill|Carrie Fisher|Adam D...         J.J. Abrams   \n",
       "4      Vin Diesel|Paul Walker|Jason Statham|Michelle ...           James Wan   \n",
       "...                                                  ...                 ...   \n",
       "10861  Michael Hynson|Robert August|Lord 'Tally Ho' B...         Bruce Brown   \n",
       "10862  James Garner|Eva Marie Saint|Yves Montand|Tosh...  John Frankenheimer   \n",
       "10863  Innokentiy Smoktunovskiy|Oleg Efremov|Georgi Z...      Eldar Ryazanov   \n",
       "10864  Tatsuya Mihashi|Akiko Wakabayashi|Mie Hama|Joh...         Woody Allen   \n",
       "10865  Harold P. Warren|Tom Neyman|John Reynolds|Dian...    Harold P. Warren   \n",
       "\n",
       "       runtime                                     genres  \\\n",
       "0          124  Action|Adventure|Science Fiction|Thriller   \n",
       "1          120  Action|Adventure|Science Fiction|Thriller   \n",
       "2          119         Adventure|Science Fiction|Thriller   \n",
       "3          136   Action|Adventure|Science Fiction|Fantasy   \n",
       "4          137                      Action|Crime|Thriller   \n",
       "...        ...                                        ...   \n",
       "10861       95                                Documentary   \n",
       "10862      176                     Action|Adventure|Drama   \n",
       "10863       94                             Mystery|Comedy   \n",
       "10864       80                              Action|Comedy   \n",
       "10865       74                                     Horror   \n",
       "\n",
       "                                    production_companies  vote_count  \\\n",
       "0      Universal Studios|Amblin Entertainment|Legenda...        5562   \n",
       "1      Village Roadshow Pictures|Kennedy Miller Produ...        6185   \n",
       "2      Summit Entertainment|Mandeville Films|Red Wago...        2480   \n",
       "3              Lucasfilm|Truenorth Productions|Bad Robot        5292   \n",
       "4      Universal Pictures|Original Film|Media Rights ...        2947   \n",
       "...                                                  ...         ...   \n",
       "10861                                  Bruce Brown Films          11   \n",
       "10862  Cherokee Productions|Joel Productions|Douglas ...          20   \n",
       "10863                                            Mosfilm          11   \n",
       "10864                            Benedict Pictures Corp.          22   \n",
       "10865                                          Norm-Iris          15   \n",
       "\n",
       "       vote_average  release_year    budget_adj   revenue_adj  \n",
       "0               6.5          2015  1.379999e+08  1.392446e+09  \n",
       "1               7.1          2015  1.379999e+08  3.481613e+08  \n",
       "2               6.3          2015  1.012000e+08  2.716190e+08  \n",
       "3               7.5          2015  1.839999e+08  1.902723e+09  \n",
       "4               7.3          2015  1.747999e+08  1.385749e+09  \n",
       "...             ...           ...           ...           ...  \n",
       "10861           7.4          1966  0.000000e+00  0.000000e+00  \n",
       "10862           5.7          1966  0.000000e+00  0.000000e+00  \n",
       "10863           6.5          1966  0.000000e+00  0.000000e+00  \n",
       "10864           5.4          1966  0.000000e+00  0.000000e+00  \n",
       "10865           1.5          1966  1.276423e+05  0.000000e+00  \n",
       "\n",
       "[9772 rows x 14 columns]"
      ]
     },
     "execution_count": 32,
     "metadata": {},
     "output_type": "execute_result"
    }
   ],
   "source": [
    "df"
   ]
  },
  {
   "cell_type": "markdown",
   "id": "83634e17",
   "metadata": {},
   "source": [
    "### Q1: Does the amount of budget affect the rating of a movie?"
   ]
  },
  {
   "cell_type": "code",
   "execution_count": 33,
   "id": "04d72c3c",
   "metadata": {},
   "outputs": [
    {
     "data": {
      "text/plain": [
       "200000.0"
      ]
     },
     "execution_count": 33,
     "metadata": {},
     "output_type": "execute_result"
    }
   ],
   "source": [
    "median_budget = df.budget.median()\n",
    "median_budget"
   ]
  },
  {
   "cell_type": "code",
   "execution_count": 34,
   "id": "a55e5ca7",
   "metadata": {},
   "outputs": [],
   "source": [
    "budget_low = df.query('budget < {}'.format(median_budget))\n"
   ]
  },
  {
   "cell_type": "code",
   "execution_count": 35,
   "id": "db1113c4",
   "metadata": {},
   "outputs": [],
   "source": [
    "budget_high = df.query('budget >= {}'.format(median_budget))"
   ]
  },
  {
   "cell_type": "code",
   "execution_count": 36,
   "id": "50325785",
   "metadata": {},
   "outputs": [
    {
     "data": {
      "text/plain": [
       "True"
      ]
     },
     "execution_count": 36,
     "metadata": {},
     "output_type": "execute_result"
    }
   ],
   "source": [
    "df.shape[0] == budget_low.shape[0] + budget_high.shape[0]"
   ]
  },
  {
   "cell_type": "code",
   "execution_count": 37,
   "id": "6264056d",
   "metadata": {
    "scrolled": false
   },
   "outputs": [
    {
     "name": "stdout",
     "output_type": "stream",
     "text": [
      "6.048618784530396 5.878403275332647\n"
     ]
    }
   ],
   "source": [
    "print(budget_high.vote_average.mean(),budget_low.vote_average.mean())"
   ]
  },
  {
   "cell_type": "markdown",
   "id": "ff5ddd55",
   "metadata": {},
   "source": [
    "#### we conclude that the movies with higher budget generally received higher ratings "
   ]
  },
  {
   "cell_type": "markdown",
   "id": "d13e1c17",
   "metadata": {},
   "source": [
    "### Q2: does the duration of a movie affect the rating?"
   ]
  },
  {
   "cell_type": "code",
   "execution_count": 38,
   "id": "d4308fbe",
   "metadata": {},
   "outputs": [
    {
     "data": {
      "text/plain": [
       "100.0"
      ]
     },
     "execution_count": 38,
     "metadata": {},
     "output_type": "execute_result"
    }
   ],
   "source": [
    "median_duration = df.runtime.median()\n",
    "median_duration"
   ]
  },
  {
   "cell_type": "code",
   "execution_count": 39,
   "id": "de2fee30",
   "metadata": {},
   "outputs": [
    {
     "data": {
      "text/plain": [
       "True"
      ]
     },
     "execution_count": 39,
     "metadata": {},
     "output_type": "execute_result"
    }
   ],
   "source": [
    "low_duration = df.query('runtime < {}'.format(median_duration))\n",
    "high_duration = df.query('runtime >= {}'.format(median_duration))\n",
    "df.shape[0] == low_duration.shape[0] + high_duration.shape[0]"
   ]
  },
  {
   "cell_type": "code",
   "execution_count": 40,
   "id": "1586407b",
   "metadata": {},
   "outputs": [
    {
     "name": "stdout",
     "output_type": "stream",
     "text": [
      "5.708451573103018 6.216215115094731\n"
     ]
    }
   ],
   "source": [
    "print(low_duration.vote_average.mean(), high_duration.vote_average.mean())"
   ]
  },
  {
   "cell_type": "markdown",
   "id": "f89d32ed",
   "metadata": {},
   "source": [
    "#### we conclude that movies with high duration generally received high ratings"
   ]
  },
  {
   "cell_type": "markdown",
   "id": "483220d6",
   "metadata": {},
   "source": [
    "### Q3: what are the changes of different features of movies over the years?\n",
    "we want to see the changes of the following faetures over the years\n",
    "- popularity\n",
    "- budget\n",
    "- revenue\n",
    "- runtime\n",
    "- ratings\n",
    "\n",
    "we first want to categorize the years into 4 main divisions for the sake of the analysis \n",
    "- the 60s: from 1960 to 1969\n",
    "- the 70s: from 1970 to 1979\n",
    "- the 80s: from 1980 to 1989\n",
    "- the 90s: from 1990 to 1999\n",
    "- modern : from 2000 to 2015"
   ]
  },
  {
   "cell_type": "code",
   "execution_count": 41,
   "id": "55948a81",
   "metadata": {},
   "outputs": [
    {
     "data": {
      "text/plain": [
       "1960"
      ]
     },
     "execution_count": 41,
     "metadata": {},
     "output_type": "execute_result"
    }
   ],
   "source": [
    "df.release_year.min()"
   ]
  },
  {
   "cell_type": "code",
   "execution_count": 42,
   "id": "94a13560",
   "metadata": {},
   "outputs": [
    {
     "data": {
      "text/plain": [
       "2015"
      ]
     },
     "execution_count": 42,
     "metadata": {},
     "output_type": "execute_result"
    }
   ],
   "source": [
    "df.release_year.max()"
   ]
  },
  {
   "cell_type": "code",
   "execution_count": 43,
   "id": "7efceed6",
   "metadata": {},
   "outputs": [],
   "source": [
    "# Bin edges that will be used to \"cut\" the data into groups\n",
    "bin_edges = [1959,1970,1980,1990,2000,2015]\n",
    "bin_names = ['60s','70s','80s','90s','modern']"
   ]
  },
  {
   "cell_type": "code",
   "execution_count": 44,
   "id": "d3765932",
   "metadata": {},
   "outputs": [],
   "source": [
    "df['movie_era'] = pd.cut(df.release_year,bin_edges,labels=bin_names)"
   ]
  },
  {
   "cell_type": "code",
   "execution_count": 45,
   "id": "2a04831b",
   "metadata": {},
   "outputs": [
    {
     "data": {
      "text/plain": [
       "0"
      ]
     },
     "execution_count": 45,
     "metadata": {},
     "output_type": "execute_result"
    }
   ],
   "source": [
    "sum(df.movie_era.isnull())"
   ]
  },
  {
   "cell_type": "code",
   "execution_count": 46,
   "id": "2e3859b2",
   "metadata": {
    "scrolled": true
   },
   "outputs": [
    {
     "data": {
      "text/html": [
       "<div>\n",
       "<style scoped>\n",
       "    .dataframe tbody tr th:only-of-type {\n",
       "        vertical-align: middle;\n",
       "    }\n",
       "\n",
       "    .dataframe tbody tr th {\n",
       "        vertical-align: top;\n",
       "    }\n",
       "\n",
       "    .dataframe thead th {\n",
       "        text-align: right;\n",
       "    }\n",
       "</style>\n",
       "<table border=\"1\" class=\"dataframe\">\n",
       "  <thead>\n",
       "    <tr style=\"text-align: right;\">\n",
       "      <th></th>\n",
       "      <th>popularity</th>\n",
       "      <th>budget</th>\n",
       "      <th>revenue</th>\n",
       "      <th>runtime</th>\n",
       "      <th>vote_count</th>\n",
       "      <th>vote_average</th>\n",
       "      <th>release_year</th>\n",
       "      <th>budget_adj</th>\n",
       "      <th>revenue_adj</th>\n",
       "    </tr>\n",
       "    <tr>\n",
       "      <th>movie_era</th>\n",
       "      <th></th>\n",
       "      <th></th>\n",
       "      <th></th>\n",
       "      <th></th>\n",
       "      <th></th>\n",
       "      <th></th>\n",
       "      <th></th>\n",
       "      <th></th>\n",
       "      <th></th>\n",
       "    </tr>\n",
       "  </thead>\n",
       "  <tbody>\n",
       "    <tr>\n",
       "      <th>60s</th>\n",
       "      <td>0.426550</td>\n",
       "      <td>1.822152e+06</td>\n",
       "      <td>9.240974e+06</td>\n",
       "      <td>113.284238</td>\n",
       "      <td>70.689922</td>\n",
       "      <td>6.282429</td>\n",
       "      <td>1965.165375</td>\n",
       "      <td>1.198524e+07</td>\n",
       "      <td>6.107737e+07</td>\n",
       "    </tr>\n",
       "    <tr>\n",
       "      <th>70s</th>\n",
       "      <td>0.510351</td>\n",
       "      <td>2.711368e+06</td>\n",
       "      <td>2.229405e+07</td>\n",
       "      <td>108.358779</td>\n",
       "      <td>122.250000</td>\n",
       "      <td>6.340840</td>\n",
       "      <td>1975.845420</td>\n",
       "      <td>9.465255e+06</td>\n",
       "      <td>8.287174e+07</td>\n",
       "    </tr>\n",
       "    <tr>\n",
       "      <th>80s</th>\n",
       "      <td>0.548693</td>\n",
       "      <td>7.114998e+06</td>\n",
       "      <td>3.122197e+07</td>\n",
       "      <td>104.875954</td>\n",
       "      <td>133.721374</td>\n",
       "      <td>6.063740</td>\n",
       "      <td>1986.019084</td>\n",
       "      <td>1.379764e+07</td>\n",
       "      <td>6.074940e+07</td>\n",
       "    </tr>\n",
       "    <tr>\n",
       "      <th>90s</th>\n",
       "      <td>0.641450</td>\n",
       "      <td>1.959015e+07</td>\n",
       "      <td>4.861805e+07</td>\n",
       "      <td>106.854765</td>\n",
       "      <td>194.194604</td>\n",
       "      <td>5.986395</td>\n",
       "      <td>1995.896096</td>\n",
       "      <td>2.694003e+07</td>\n",
       "      <td>6.796410e+07</td>\n",
       "    </tr>\n",
       "    <tr>\n",
       "      <th>modern</th>\n",
       "      <td>0.768222</td>\n",
       "      <td>1.884356e+07</td>\n",
       "      <td>4.934208e+07</td>\n",
       "      <td>100.333882</td>\n",
       "      <td>291.338165</td>\n",
       "      <td>5.886773</td>\n",
       "      <td>2009.310328</td>\n",
       "      <td>1.955947e+07</td>\n",
       "      <td>5.079925e+07</td>\n",
       "    </tr>\n",
       "  </tbody>\n",
       "</table>\n",
       "</div>"
      ],
      "text/plain": [
       "           popularity        budget       revenue     runtime  vote_count  \\\n",
       "movie_era                                                                   \n",
       "60s          0.426550  1.822152e+06  9.240974e+06  113.284238   70.689922   \n",
       "70s          0.510351  2.711368e+06  2.229405e+07  108.358779  122.250000   \n",
       "80s          0.548693  7.114998e+06  3.122197e+07  104.875954  133.721374   \n",
       "90s          0.641450  1.959015e+07  4.861805e+07  106.854765  194.194604   \n",
       "modern       0.768222  1.884356e+07  4.934208e+07  100.333882  291.338165   \n",
       "\n",
       "           vote_average  release_year    budget_adj   revenue_adj  \n",
       "movie_era                                                          \n",
       "60s            6.282429   1965.165375  1.198524e+07  6.107737e+07  \n",
       "70s            6.340840   1975.845420  9.465255e+06  8.287174e+07  \n",
       "80s            6.063740   1986.019084  1.379764e+07  6.074940e+07  \n",
       "90s            5.986395   1995.896096  2.694003e+07  6.796410e+07  \n",
       "modern         5.886773   2009.310328  1.955947e+07  5.079925e+07  "
      ]
     },
     "execution_count": 46,
     "metadata": {},
     "output_type": "execute_result"
    }
   ],
   "source": [
    "df.groupby('movie_era').mean()"
   ]
  },
  {
   "cell_type": "markdown",
   "id": "37acaa10",
   "metadata": {},
   "source": [
    "##### Changes of popularity over the years"
   ]
  },
  {
   "cell_type": "code",
   "execution_count": 47,
   "id": "c21a411a",
   "metadata": {},
   "outputs": [
    {
     "data": {
      "text/plain": [
       "movie_era\n",
       "60s       0.426550\n",
       "70s       0.510351\n",
       "80s       0.548693\n",
       "90s       0.641450\n",
       "modern    0.768222\n",
       "Name: popularity, dtype: float64"
      ]
     },
     "execution_count": 47,
     "metadata": {},
     "output_type": "execute_result"
    }
   ],
   "source": [
    "pop_over_years = df.groupby('movie_era')['popularity'].mean()\n",
    "pop_over_years"
   ]
  },
  {
   "cell_type": "markdown",
   "id": "b60fbe37",
   "metadata": {},
   "source": [
    "we conclude that popularity of the movies increases by time, which makes sense "
   ]
  },
  {
   "cell_type": "markdown",
   "id": "1d9308d5",
   "metadata": {},
   "source": [
    "##### Changes of movie budgets over the years"
   ]
  },
  {
   "cell_type": "code",
   "execution_count": 48,
   "id": "29ba24bc",
   "metadata": {},
   "outputs": [
    {
     "data": {
      "text/plain": [
       "movie_era\n",
       "60s       1.822152e+06\n",
       "70s       2.711368e+06\n",
       "80s       7.114998e+06\n",
       "90s       1.959015e+07\n",
       "modern    1.884356e+07\n",
       "Name: budget, dtype: float64"
      ]
     },
     "execution_count": 48,
     "metadata": {},
     "output_type": "execute_result"
    }
   ],
   "source": [
    "budget_over_years = df.groupby('movie_era')['budget'].mean()\n",
    "budget_over_years"
   ]
  },
  {
   "cell_type": "markdown",
   "id": "a4853eda",
   "metadata": {},
   "source": [
    "we also conclude that the budget of movies increase over the years"
   ]
  },
  {
   "cell_type": "markdown",
   "id": "e0a4493d",
   "metadata": {},
   "source": [
    "##### Changes of movie revenues over the years"
   ]
  },
  {
   "cell_type": "code",
   "execution_count": 49,
   "id": "357f29b6",
   "metadata": {},
   "outputs": [
    {
     "data": {
      "text/plain": [
       "movie_era\n",
       "60s       9.240974e+06\n",
       "70s       2.229405e+07\n",
       "80s       3.122197e+07\n",
       "90s       4.861805e+07\n",
       "modern    4.934208e+07\n",
       "Name: revenue, dtype: float64"
      ]
     },
     "execution_count": 49,
     "metadata": {},
     "output_type": "execute_result"
    }
   ],
   "source": [
    "rev_over_years = df.groupby('movie_era')['revenue'].mean()\n",
    "rev_over_years"
   ]
  },
  {
   "cell_type": "markdown",
   "id": "8e989ea1",
   "metadata": {},
   "source": [
    "movie revenues also increases by time "
   ]
  },
  {
   "cell_type": "markdown",
   "id": "3558362c",
   "metadata": {},
   "source": [
    "##### Changes of movie durations over the years"
   ]
  },
  {
   "cell_type": "code",
   "execution_count": 50,
   "id": "207d6ddd",
   "metadata": {},
   "outputs": [
    {
     "data": {
      "text/plain": [
       "movie_era\n",
       "60s       113.284238\n",
       "70s       108.358779\n",
       "80s       104.875954\n",
       "90s       106.854765\n",
       "modern    100.333882\n",
       "Name: runtime, dtype: float64"
      ]
     },
     "execution_count": 50,
     "metadata": {},
     "output_type": "execute_result"
    }
   ],
   "source": [
    "duration_over_years = df.groupby('movie_era')['runtime'].mean()\n",
    "duration_over_years"
   ]
  },
  {
   "cell_type": "markdown",
   "id": "f25e06ed",
   "metadata": {},
   "source": [
    "we conclude that the durations of the movies tends to decrease over time i.e. old movies are generally longer"
   ]
  },
  {
   "cell_type": "markdown",
   "id": "30da9f19",
   "metadata": {},
   "source": [
    "##### Changes of movie ratings over the years\n",
    "- we want to measure the proportions as movies with alot of ratings are easier to reach the top"
   ]
  },
  {
   "cell_type": "code",
   "execution_count": 51,
   "id": "91a454cc",
   "metadata": {},
   "outputs": [
    {
     "data": {
      "text/plain": [
       "movie_era\n",
       "60s       6.282429\n",
       "70s       6.340840\n",
       "80s       6.063740\n",
       "90s       5.986395\n",
       "modern    5.886773\n",
       "Name: vote_average, dtype: float64"
      ]
     },
     "execution_count": 51,
     "metadata": {},
     "output_type": "execute_result"
    }
   ],
   "source": [
    "ratings = df.groupby('movie_era')['vote_average'].mean()\n",
    "ratings"
   ]
  },
  {
   "cell_type": "code",
   "execution_count": 52,
   "id": "5e71c554",
   "metadata": {},
   "outputs": [
    {
     "data": {
      "text/plain": [
       "movie_era\n",
       "60s        70.689922\n",
       "70s       122.250000\n",
       "80s       133.721374\n",
       "90s       194.194604\n",
       "modern    291.338165\n",
       "Name: vote_count, dtype: float64"
      ]
     },
     "execution_count": 52,
     "metadata": {},
     "output_type": "execute_result"
    }
   ],
   "source": [
    "df.groupby('movie_era')['vote_count'].mean()"
   ]
  },
  {
   "cell_type": "code",
   "execution_count": 53,
   "id": "ce203d77",
   "metadata": {},
   "outputs": [
    {
     "data": {
      "text/plain": [
       "movie_era\n",
       "60s       0.088873\n",
       "70s       0.051868\n",
       "80s       0.045346\n",
       "90s       0.030827\n",
       "modern    0.020206\n",
       "dtype: float64"
      ]
     },
     "execution_count": 53,
     "metadata": {},
     "output_type": "execute_result"
    }
   ],
   "source": [
    "rating_proportions = df.groupby('movie_era')['vote_average'].mean() / df.groupby('movie_era')['vote_count'].mean()\n",
    "rating_proportions"
   ]
  },
  {
   "cell_type": "markdown",
   "id": "586f973a",
   "metadata": {},
   "source": [
    "we conclude that old movies are generally better "
   ]
  },
  {
   "cell_type": "markdown",
   "id": "e299d3ce",
   "metadata": {},
   "source": [
    "### Q4: what are the movies with the most gains and most losses?"
   ]
  },
  {
   "cell_type": "code",
   "execution_count": 54,
   "id": "36be3f43",
   "metadata": {},
   "outputs": [
    {
     "data": {
      "text/html": [
       "<div>\n",
       "<style scoped>\n",
       "    .dataframe tbody tr th:only-of-type {\n",
       "        vertical-align: middle;\n",
       "    }\n",
       "\n",
       "    .dataframe tbody tr th {\n",
       "        vertical-align: top;\n",
       "    }\n",
       "\n",
       "    .dataframe thead th {\n",
       "        text-align: right;\n",
       "    }\n",
       "</style>\n",
       "<table border=\"1\" class=\"dataframe\">\n",
       "  <thead>\n",
       "    <tr style=\"text-align: right;\">\n",
       "      <th></th>\n",
       "      <th>popularity</th>\n",
       "      <th>budget</th>\n",
       "      <th>revenue</th>\n",
       "      <th>original_title</th>\n",
       "      <th>cast</th>\n",
       "      <th>director</th>\n",
       "      <th>runtime</th>\n",
       "      <th>genres</th>\n",
       "      <th>production_companies</th>\n",
       "      <th>vote_count</th>\n",
       "      <th>vote_average</th>\n",
       "      <th>release_year</th>\n",
       "      <th>budget_adj</th>\n",
       "      <th>revenue_adj</th>\n",
       "      <th>movie_era</th>\n",
       "      <th>money_gain</th>\n",
       "    </tr>\n",
       "  </thead>\n",
       "  <tbody>\n",
       "    <tr>\n",
       "      <th>0</th>\n",
       "      <td>32.985763</td>\n",
       "      <td>150000000</td>\n",
       "      <td>1513528810</td>\n",
       "      <td>Jurassic World</td>\n",
       "      <td>Chris Pratt|Bryce Dallas Howard|Irrfan Khan|Vi...</td>\n",
       "      <td>Colin Trevorrow</td>\n",
       "      <td>124</td>\n",
       "      <td>Action|Adventure|Science Fiction|Thriller</td>\n",
       "      <td>Universal Studios|Amblin Entertainment|Legenda...</td>\n",
       "      <td>5562</td>\n",
       "      <td>6.5</td>\n",
       "      <td>2015</td>\n",
       "      <td>1.379999e+08</td>\n",
       "      <td>1.392446e+09</td>\n",
       "      <td>modern</td>\n",
       "      <td>1363528810</td>\n",
       "    </tr>\n",
       "    <tr>\n",
       "      <th>1</th>\n",
       "      <td>28.419936</td>\n",
       "      <td>150000000</td>\n",
       "      <td>378436354</td>\n",
       "      <td>Mad Max: Fury Road</td>\n",
       "      <td>Tom Hardy|Charlize Theron|Hugh Keays-Byrne|Nic...</td>\n",
       "      <td>George Miller</td>\n",
       "      <td>120</td>\n",
       "      <td>Action|Adventure|Science Fiction|Thriller</td>\n",
       "      <td>Village Roadshow Pictures|Kennedy Miller Produ...</td>\n",
       "      <td>6185</td>\n",
       "      <td>7.1</td>\n",
       "      <td>2015</td>\n",
       "      <td>1.379999e+08</td>\n",
       "      <td>3.481613e+08</td>\n",
       "      <td>modern</td>\n",
       "      <td>228436354</td>\n",
       "    </tr>\n",
       "    <tr>\n",
       "      <th>2</th>\n",
       "      <td>13.112507</td>\n",
       "      <td>110000000</td>\n",
       "      <td>295238201</td>\n",
       "      <td>Insurgent</td>\n",
       "      <td>Shailene Woodley|Theo James|Kate Winslet|Ansel...</td>\n",
       "      <td>Robert Schwentke</td>\n",
       "      <td>119</td>\n",
       "      <td>Adventure|Science Fiction|Thriller</td>\n",
       "      <td>Summit Entertainment|Mandeville Films|Red Wago...</td>\n",
       "      <td>2480</td>\n",
       "      <td>6.3</td>\n",
       "      <td>2015</td>\n",
       "      <td>1.012000e+08</td>\n",
       "      <td>2.716190e+08</td>\n",
       "      <td>modern</td>\n",
       "      <td>185238201</td>\n",
       "    </tr>\n",
       "    <tr>\n",
       "      <th>3</th>\n",
       "      <td>11.173104</td>\n",
       "      <td>200000000</td>\n",
       "      <td>2068178225</td>\n",
       "      <td>Star Wars: The Force Awakens</td>\n",
       "      <td>Harrison Ford|Mark Hamill|Carrie Fisher|Adam D...</td>\n",
       "      <td>J.J. Abrams</td>\n",
       "      <td>136</td>\n",
       "      <td>Action|Adventure|Science Fiction|Fantasy</td>\n",
       "      <td>Lucasfilm|Truenorth Productions|Bad Robot</td>\n",
       "      <td>5292</td>\n",
       "      <td>7.5</td>\n",
       "      <td>2015</td>\n",
       "      <td>1.839999e+08</td>\n",
       "      <td>1.902723e+09</td>\n",
       "      <td>modern</td>\n",
       "      <td>1868178225</td>\n",
       "    </tr>\n",
       "    <tr>\n",
       "      <th>4</th>\n",
       "      <td>9.335014</td>\n",
       "      <td>190000000</td>\n",
       "      <td>1506249360</td>\n",
       "      <td>Furious 7</td>\n",
       "      <td>Vin Diesel|Paul Walker|Jason Statham|Michelle ...</td>\n",
       "      <td>James Wan</td>\n",
       "      <td>137</td>\n",
       "      <td>Action|Crime|Thriller</td>\n",
       "      <td>Universal Pictures|Original Film|Media Rights ...</td>\n",
       "      <td>2947</td>\n",
       "      <td>7.3</td>\n",
       "      <td>2015</td>\n",
       "      <td>1.747999e+08</td>\n",
       "      <td>1.385749e+09</td>\n",
       "      <td>modern</td>\n",
       "      <td>1316249360</td>\n",
       "    </tr>\n",
       "  </tbody>\n",
       "</table>\n",
       "</div>"
      ],
      "text/plain": [
       "   popularity     budget     revenue                original_title  \\\n",
       "0   32.985763  150000000  1513528810                Jurassic World   \n",
       "1   28.419936  150000000   378436354            Mad Max: Fury Road   \n",
       "2   13.112507  110000000   295238201                     Insurgent   \n",
       "3   11.173104  200000000  2068178225  Star Wars: The Force Awakens   \n",
       "4    9.335014  190000000  1506249360                     Furious 7   \n",
       "\n",
       "                                                cast          director  \\\n",
       "0  Chris Pratt|Bryce Dallas Howard|Irrfan Khan|Vi...   Colin Trevorrow   \n",
       "1  Tom Hardy|Charlize Theron|Hugh Keays-Byrne|Nic...     George Miller   \n",
       "2  Shailene Woodley|Theo James|Kate Winslet|Ansel...  Robert Schwentke   \n",
       "3  Harrison Ford|Mark Hamill|Carrie Fisher|Adam D...       J.J. Abrams   \n",
       "4  Vin Diesel|Paul Walker|Jason Statham|Michelle ...         James Wan   \n",
       "\n",
       "   runtime                                     genres  \\\n",
       "0      124  Action|Adventure|Science Fiction|Thriller   \n",
       "1      120  Action|Adventure|Science Fiction|Thriller   \n",
       "2      119         Adventure|Science Fiction|Thriller   \n",
       "3      136   Action|Adventure|Science Fiction|Fantasy   \n",
       "4      137                      Action|Crime|Thriller   \n",
       "\n",
       "                                production_companies  vote_count  \\\n",
       "0  Universal Studios|Amblin Entertainment|Legenda...        5562   \n",
       "1  Village Roadshow Pictures|Kennedy Miller Produ...        6185   \n",
       "2  Summit Entertainment|Mandeville Films|Red Wago...        2480   \n",
       "3          Lucasfilm|Truenorth Productions|Bad Robot        5292   \n",
       "4  Universal Pictures|Original Film|Media Rights ...        2947   \n",
       "\n",
       "   vote_average  release_year    budget_adj   revenue_adj movie_era  \\\n",
       "0           6.5          2015  1.379999e+08  1.392446e+09    modern   \n",
       "1           7.1          2015  1.379999e+08  3.481613e+08    modern   \n",
       "2           6.3          2015  1.012000e+08  2.716190e+08    modern   \n",
       "3           7.5          2015  1.839999e+08  1.902723e+09    modern   \n",
       "4           7.3          2015  1.747999e+08  1.385749e+09    modern   \n",
       "\n",
       "   money_gain  \n",
       "0  1363528810  \n",
       "1   228436354  \n",
       "2   185238201  \n",
       "3  1868178225  \n",
       "4  1316249360  "
      ]
     },
     "execution_count": 54,
     "metadata": {},
     "output_type": "execute_result"
    }
   ],
   "source": [
    "df['money_gain'] = df['revenue'] - df['budget']\n",
    "df.head()"
   ]
  },
  {
   "cell_type": "code",
   "execution_count": 55,
   "id": "3a9f21a1",
   "metadata": {},
   "outputs": [
    {
     "data": {
      "text/plain": [
       "count    9.772000e+03\n",
       "mean     2.805154e+07\n",
       "std      1.014445e+08\n",
       "min     -4.139124e+08\n",
       "25%      0.000000e+00\n",
       "50%      0.000000e+00\n",
       "75%      1.420195e+07\n",
       "max      2.544506e+09\n",
       "Name: money_gain, dtype: float64"
      ]
     },
     "execution_count": 55,
     "metadata": {},
     "output_type": "execute_result"
    }
   ],
   "source": [
    "df['money_gain'].describe()"
   ]
  },
  {
   "cell_type": "code",
   "execution_count": 56,
   "id": "dc92570c",
   "metadata": {},
   "outputs": [
    {
     "data": {
      "text/html": [
       "<div>\n",
       "<style scoped>\n",
       "    .dataframe tbody tr th:only-of-type {\n",
       "        vertical-align: middle;\n",
       "    }\n",
       "\n",
       "    .dataframe tbody tr th {\n",
       "        vertical-align: top;\n",
       "    }\n",
       "\n",
       "    .dataframe thead th {\n",
       "        text-align: right;\n",
       "    }\n",
       "</style>\n",
       "<table border=\"1\" class=\"dataframe\">\n",
       "  <thead>\n",
       "    <tr style=\"text-align: right;\">\n",
       "      <th></th>\n",
       "      <th>popularity</th>\n",
       "      <th>budget</th>\n",
       "      <th>revenue</th>\n",
       "      <th>original_title</th>\n",
       "      <th>cast</th>\n",
       "      <th>director</th>\n",
       "      <th>runtime</th>\n",
       "      <th>genres</th>\n",
       "      <th>production_companies</th>\n",
       "      <th>vote_count</th>\n",
       "      <th>vote_average</th>\n",
       "      <th>release_year</th>\n",
       "      <th>budget_adj</th>\n",
       "      <th>revenue_adj</th>\n",
       "      <th>movie_era</th>\n",
       "      <th>money_gain</th>\n",
       "    </tr>\n",
       "  </thead>\n",
       "  <tbody>\n",
       "    <tr>\n",
       "      <th>1386</th>\n",
       "      <td>9.432768</td>\n",
       "      <td>237000000</td>\n",
       "      <td>2781505847</td>\n",
       "      <td>Avatar</td>\n",
       "      <td>Sam Worthington|Zoe Saldana|Sigourney Weaver|S...</td>\n",
       "      <td>James Cameron</td>\n",
       "      <td>162</td>\n",
       "      <td>Action|Adventure|Fantasy|Science Fiction</td>\n",
       "      <td>Ingenious Film Partners|Twentieth Century Fox ...</td>\n",
       "      <td>8458</td>\n",
       "      <td>7.1</td>\n",
       "      <td>2009</td>\n",
       "      <td>2.408869e+08</td>\n",
       "      <td>2.827124e+09</td>\n",
       "      <td>modern</td>\n",
       "      <td>2544505847</td>\n",
       "    </tr>\n",
       "    <tr>\n",
       "      <th>3</th>\n",
       "      <td>11.173104</td>\n",
       "      <td>200000000</td>\n",
       "      <td>2068178225</td>\n",
       "      <td>Star Wars: The Force Awakens</td>\n",
       "      <td>Harrison Ford|Mark Hamill|Carrie Fisher|Adam D...</td>\n",
       "      <td>J.J. Abrams</td>\n",
       "      <td>136</td>\n",
       "      <td>Action|Adventure|Science Fiction|Fantasy</td>\n",
       "      <td>Lucasfilm|Truenorth Productions|Bad Robot</td>\n",
       "      <td>5292</td>\n",
       "      <td>7.5</td>\n",
       "      <td>2015</td>\n",
       "      <td>1.839999e+08</td>\n",
       "      <td>1.902723e+09</td>\n",
       "      <td>modern</td>\n",
       "      <td>1868178225</td>\n",
       "    </tr>\n",
       "    <tr>\n",
       "      <th>5231</th>\n",
       "      <td>4.355219</td>\n",
       "      <td>200000000</td>\n",
       "      <td>1845034188</td>\n",
       "      <td>Titanic</td>\n",
       "      <td>Kate Winslet|Leonardo DiCaprio|Frances Fisher|...</td>\n",
       "      <td>James Cameron</td>\n",
       "      <td>194</td>\n",
       "      <td>Drama|Romance|Thriller</td>\n",
       "      <td>Paramount Pictures|Twentieth Century Fox Film ...</td>\n",
       "      <td>4654</td>\n",
       "      <td>7.3</td>\n",
       "      <td>1997</td>\n",
       "      <td>2.716921e+08</td>\n",
       "      <td>2.506406e+09</td>\n",
       "      <td>90s</td>\n",
       "      <td>1645034188</td>\n",
       "    </tr>\n",
       "    <tr>\n",
       "      <th>0</th>\n",
       "      <td>32.985763</td>\n",
       "      <td>150000000</td>\n",
       "      <td>1513528810</td>\n",
       "      <td>Jurassic World</td>\n",
       "      <td>Chris Pratt|Bryce Dallas Howard|Irrfan Khan|Vi...</td>\n",
       "      <td>Colin Trevorrow</td>\n",
       "      <td>124</td>\n",
       "      <td>Action|Adventure|Science Fiction|Thriller</td>\n",
       "      <td>Universal Studios|Amblin Entertainment|Legenda...</td>\n",
       "      <td>5562</td>\n",
       "      <td>6.5</td>\n",
       "      <td>2015</td>\n",
       "      <td>1.379999e+08</td>\n",
       "      <td>1.392446e+09</td>\n",
       "      <td>modern</td>\n",
       "      <td>1363528810</td>\n",
       "    </tr>\n",
       "    <tr>\n",
       "      <th>4</th>\n",
       "      <td>9.335014</td>\n",
       "      <td>190000000</td>\n",
       "      <td>1506249360</td>\n",
       "      <td>Furious 7</td>\n",
       "      <td>Vin Diesel|Paul Walker|Jason Statham|Michelle ...</td>\n",
       "      <td>James Wan</td>\n",
       "      <td>137</td>\n",
       "      <td>Action|Crime|Thriller</td>\n",
       "      <td>Universal Pictures|Original Film|Media Rights ...</td>\n",
       "      <td>2947</td>\n",
       "      <td>7.3</td>\n",
       "      <td>2015</td>\n",
       "      <td>1.747999e+08</td>\n",
       "      <td>1.385749e+09</td>\n",
       "      <td>modern</td>\n",
       "      <td>1316249360</td>\n",
       "    </tr>\n",
       "  </tbody>\n",
       "</table>\n",
       "</div>"
      ],
      "text/plain": [
       "      popularity     budget     revenue                original_title  \\\n",
       "1386    9.432768  237000000  2781505847                        Avatar   \n",
       "3      11.173104  200000000  2068178225  Star Wars: The Force Awakens   \n",
       "5231    4.355219  200000000  1845034188                       Titanic   \n",
       "0      32.985763  150000000  1513528810                Jurassic World   \n",
       "4       9.335014  190000000  1506249360                     Furious 7   \n",
       "\n",
       "                                                   cast         director  \\\n",
       "1386  Sam Worthington|Zoe Saldana|Sigourney Weaver|S...    James Cameron   \n",
       "3     Harrison Ford|Mark Hamill|Carrie Fisher|Adam D...      J.J. Abrams   \n",
       "5231  Kate Winslet|Leonardo DiCaprio|Frances Fisher|...    James Cameron   \n",
       "0     Chris Pratt|Bryce Dallas Howard|Irrfan Khan|Vi...  Colin Trevorrow   \n",
       "4     Vin Diesel|Paul Walker|Jason Statham|Michelle ...        James Wan   \n",
       "\n",
       "      runtime                                     genres  \\\n",
       "1386      162   Action|Adventure|Fantasy|Science Fiction   \n",
       "3         136   Action|Adventure|Science Fiction|Fantasy   \n",
       "5231      194                     Drama|Romance|Thriller   \n",
       "0         124  Action|Adventure|Science Fiction|Thriller   \n",
       "4         137                      Action|Crime|Thriller   \n",
       "\n",
       "                                   production_companies  vote_count  \\\n",
       "1386  Ingenious Film Partners|Twentieth Century Fox ...        8458   \n",
       "3             Lucasfilm|Truenorth Productions|Bad Robot        5292   \n",
       "5231  Paramount Pictures|Twentieth Century Fox Film ...        4654   \n",
       "0     Universal Studios|Amblin Entertainment|Legenda...        5562   \n",
       "4     Universal Pictures|Original Film|Media Rights ...        2947   \n",
       "\n",
       "      vote_average  release_year    budget_adj   revenue_adj movie_era  \\\n",
       "1386           7.1          2009  2.408869e+08  2.827124e+09    modern   \n",
       "3              7.5          2015  1.839999e+08  1.902723e+09    modern   \n",
       "5231           7.3          1997  2.716921e+08  2.506406e+09       90s   \n",
       "0              6.5          2015  1.379999e+08  1.392446e+09    modern   \n",
       "4              7.3          2015  1.747999e+08  1.385749e+09    modern   \n",
       "\n",
       "      money_gain  \n",
       "1386  2544505847  \n",
       "3     1868178225  \n",
       "5231  1645034188  \n",
       "0     1363528810  \n",
       "4     1316249360  "
      ]
     },
     "execution_count": 56,
     "metadata": {},
     "output_type": "execute_result"
    }
   ],
   "source": [
    "most_gains = df.sort_values('money_gain',ascending=False).head(5)\n",
    "most_gains"
   ]
  },
  {
   "cell_type": "code",
   "execution_count": 57,
   "id": "c633fdd5",
   "metadata": {
    "scrolled": true
   },
   "outputs": [
    {
     "data": {
      "text/html": [
       "<div>\n",
       "<style scoped>\n",
       "    .dataframe tbody tr th:only-of-type {\n",
       "        vertical-align: middle;\n",
       "    }\n",
       "\n",
       "    .dataframe tbody tr th {\n",
       "        vertical-align: top;\n",
       "    }\n",
       "\n",
       "    .dataframe thead th {\n",
       "        text-align: right;\n",
       "    }\n",
       "</style>\n",
       "<table border=\"1\" class=\"dataframe\">\n",
       "  <thead>\n",
       "    <tr style=\"text-align: right;\">\n",
       "      <th></th>\n",
       "      <th>popularity</th>\n",
       "      <th>budget</th>\n",
       "      <th>revenue</th>\n",
       "      <th>original_title</th>\n",
       "      <th>cast</th>\n",
       "      <th>director</th>\n",
       "      <th>runtime</th>\n",
       "      <th>genres</th>\n",
       "      <th>production_companies</th>\n",
       "      <th>vote_count</th>\n",
       "      <th>vote_average</th>\n",
       "      <th>release_year</th>\n",
       "      <th>budget_adj</th>\n",
       "      <th>revenue_adj</th>\n",
       "      <th>movie_era</th>\n",
       "      <th>money_gain</th>\n",
       "    </tr>\n",
       "  </thead>\n",
       "  <tbody>\n",
       "    <tr>\n",
       "      <th>2244</th>\n",
       "      <td>0.250540</td>\n",
       "      <td>425000000</td>\n",
       "      <td>11087569</td>\n",
       "      <td>The Warrior's Way</td>\n",
       "      <td>Kate Bosworth|Jang Dong-gun|Geoffrey Rush|Dann...</td>\n",
       "      <td>Sngmoo Lee</td>\n",
       "      <td>100</td>\n",
       "      <td>Adventure|Fantasy|Action|Western|Thriller</td>\n",
       "      <td>Boram Entertainment Inc.</td>\n",
       "      <td>74</td>\n",
       "      <td>6.4</td>\n",
       "      <td>2010</td>\n",
       "      <td>4.250000e+08</td>\n",
       "      <td>1.108757e+07</td>\n",
       "      <td>modern</td>\n",
       "      <td>-413912431</td>\n",
       "    </tr>\n",
       "    <tr>\n",
       "      <th>5508</th>\n",
       "      <td>1.214510</td>\n",
       "      <td>255000000</td>\n",
       "      <td>89289910</td>\n",
       "      <td>The Lone Ranger</td>\n",
       "      <td>Johnny Depp|Armie Hammer|William Fichtner|Hele...</td>\n",
       "      <td>Gore Verbinski</td>\n",
       "      <td>149</td>\n",
       "      <td>Action|Adventure|Western</td>\n",
       "      <td>Walt Disney Pictures|Jerry Bruckheimer Films|I...</td>\n",
       "      <td>1607</td>\n",
       "      <td>6.0</td>\n",
       "      <td>2013</td>\n",
       "      <td>2.386885e+08</td>\n",
       "      <td>8.357833e+07</td>\n",
       "      <td>modern</td>\n",
       "      <td>-165710090</td>\n",
       "    </tr>\n",
       "    <tr>\n",
       "      <th>2069</th>\n",
       "      <td>0.642475</td>\n",
       "      <td>150000000</td>\n",
       "      <td>0</td>\n",
       "      <td>The Wolfman</td>\n",
       "      <td>Benicio del Toro|Anthony Hopkins|Emily Blunt|H...</td>\n",
       "      <td>Joe Johnston</td>\n",
       "      <td>102</td>\n",
       "      <td>Horror|Thriller|Drama</td>\n",
       "      <td>Universal Pictures|Stuber Productions|Relativi...</td>\n",
       "      <td>299</td>\n",
       "      <td>5.4</td>\n",
       "      <td>2010</td>\n",
       "      <td>1.500000e+08</td>\n",
       "      <td>0.000000e+00</td>\n",
       "      <td>modern</td>\n",
       "      <td>-150000000</td>\n",
       "    </tr>\n",
       "    <tr>\n",
       "      <th>2214</th>\n",
       "      <td>0.757082</td>\n",
       "      <td>120000000</td>\n",
       "      <td>0</td>\n",
       "      <td>The Pacific</td>\n",
       "      <td>James Badge Dale|Joseph Mazzello|Jon Seda|Asht...</td>\n",
       "      <td>Jeremy Podeswa|Tim Van Patten|David Nutter|Gra...</td>\n",
       "      <td>540</td>\n",
       "      <td>War|Drama|Action|Adventure|History</td>\n",
       "      <td>Playtone|HBO|DreamWorks Television</td>\n",
       "      <td>183</td>\n",
       "      <td>7.8</td>\n",
       "      <td>2010</td>\n",
       "      <td>1.200000e+08</td>\n",
       "      <td>0.000000e+00</td>\n",
       "      <td>modern</td>\n",
       "      <td>-120000000</td>\n",
       "    </tr>\n",
       "    <tr>\n",
       "      <th>7031</th>\n",
       "      <td>0.948560</td>\n",
       "      <td>145000000</td>\n",
       "      <td>25819961</td>\n",
       "      <td>The Alamo</td>\n",
       "      <td>Dennis Quaid|Billy Bob Thornton|Jason Patric|P...</td>\n",
       "      <td>John Lee Hancock</td>\n",
       "      <td>137</td>\n",
       "      <td>Western|History|War</td>\n",
       "      <td>Imagine Entertainment|Touchstone Pictures</td>\n",
       "      <td>60</td>\n",
       "      <td>5.9</td>\n",
       "      <td>2004</td>\n",
       "      <td>1.673946e+08</td>\n",
       "      <td>2.980774e+07</td>\n",
       "      <td>modern</td>\n",
       "      <td>-119180039</td>\n",
       "    </tr>\n",
       "    <tr>\n",
       "      <th>3484</th>\n",
       "      <td>0.921653</td>\n",
       "      <td>150000000</td>\n",
       "      <td>38992758</td>\n",
       "      <td>Mars Needs Moms</td>\n",
       "      <td>Seth Green|Joan Cusack|Dan Fogler|Breckin Meye...</td>\n",
       "      <td>Simon Wells</td>\n",
       "      <td>88</td>\n",
       "      <td>Adventure|Animation|Family</td>\n",
       "      <td>Walt Disney Animation Studios</td>\n",
       "      <td>129</td>\n",
       "      <td>5.5</td>\n",
       "      <td>2011</td>\n",
       "      <td>1.454097e+08</td>\n",
       "      <td>3.779950e+07</td>\n",
       "      <td>modern</td>\n",
       "      <td>-111007242</td>\n",
       "    </tr>\n",
       "    <tr>\n",
       "      <th>2190</th>\n",
       "      <td>0.334115</td>\n",
       "      <td>104002432</td>\n",
       "      <td>0</td>\n",
       "      <td>Double Wedding</td>\n",
       "      <td>Tia Mowry|Tamera Mowry|Ardon Bess|Robin BrÃ»lÃ...</td>\n",
       "      <td>Craig Pryce</td>\n",
       "      <td>87</td>\n",
       "      <td>Comedy|Drama|Romance</td>\n",
       "      <td>Jaffe / Braunstein Enterprise|Lifetime Network</td>\n",
       "      <td>12</td>\n",
       "      <td>5.3</td>\n",
       "      <td>2010</td>\n",
       "      <td>1.040024e+08</td>\n",
       "      <td>0.000000e+00</td>\n",
       "      <td>modern</td>\n",
       "      <td>-104002432</td>\n",
       "    </tr>\n",
       "    <tr>\n",
       "      <th>1696</th>\n",
       "      <td>0.322320</td>\n",
       "      <td>100000000</td>\n",
       "      <td>0</td>\n",
       "      <td>Dragonball Evolution</td>\n",
       "      <td>Justin Chatwin|Joon Park|Jamie Chung|Emmy Ross...</td>\n",
       "      <td>James Wong</td>\n",
       "      <td>85</td>\n",
       "      <td>Action|Adventure|Fantasy|Science Fiction|Thriller</td>\n",
       "      <td>Ingenious Film Partners|Twentieth Century Fox ...</td>\n",
       "      <td>261</td>\n",
       "      <td>3.1</td>\n",
       "      <td>2009</td>\n",
       "      <td>1.016400e+08</td>\n",
       "      <td>0.000000e+00</td>\n",
       "      <td>modern</td>\n",
       "      <td>-100000000</td>\n",
       "    </tr>\n",
       "    <tr>\n",
       "      <th>4970</th>\n",
       "      <td>1.653031</td>\n",
       "      <td>100000000</td>\n",
       "      <td>250</td>\n",
       "      <td>Brother Bear</td>\n",
       "      <td>Joaquin Phoenix|Jeremy Suarez|Rick Moranis|Joa...</td>\n",
       "      <td>Aaron Blaise|Robert Walker</td>\n",
       "      <td>85</td>\n",
       "      <td>Animation|Adventure|Family|Fantasy</td>\n",
       "      <td>Walt Disney Pictures|Walt Disney Feature Anima...</td>\n",
       "      <td>753</td>\n",
       "      <td>6.8</td>\n",
       "      <td>2003</td>\n",
       "      <td>1.185353e+08</td>\n",
       "      <td>2.963382e+02</td>\n",
       "      <td>modern</td>\n",
       "      <td>-99999750</td>\n",
       "    </tr>\n",
       "    <tr>\n",
       "      <th>2435</th>\n",
       "      <td>1.189386</td>\n",
       "      <td>160000000</td>\n",
       "      <td>61698899</td>\n",
       "      <td>The 13th Warrior</td>\n",
       "      <td>Antonio Banderas|Vladimir Kulich|Dennis StorhÃ...</td>\n",
       "      <td>John McTiernan</td>\n",
       "      <td>102</td>\n",
       "      <td>Adventure|Fantasy|Action</td>\n",
       "      <td>Touchstone Pictures</td>\n",
       "      <td>275</td>\n",
       "      <td>6.2</td>\n",
       "      <td>1999</td>\n",
       "      <td>2.094485e+08</td>\n",
       "      <td>8.076712e+07</td>\n",
       "      <td>90s</td>\n",
       "      <td>-98301101</td>\n",
       "    </tr>\n",
       "  </tbody>\n",
       "</table>\n",
       "</div>"
      ],
      "text/plain": [
       "      popularity     budget   revenue        original_title  \\\n",
       "2244    0.250540  425000000  11087569     The Warrior's Way   \n",
       "5508    1.214510  255000000  89289910       The Lone Ranger   \n",
       "2069    0.642475  150000000         0           The Wolfman   \n",
       "2214    0.757082  120000000         0           The Pacific   \n",
       "7031    0.948560  145000000  25819961             The Alamo   \n",
       "3484    0.921653  150000000  38992758       Mars Needs Moms   \n",
       "2190    0.334115  104002432         0        Double Wedding   \n",
       "1696    0.322320  100000000         0  Dragonball Evolution   \n",
       "4970    1.653031  100000000       250          Brother Bear   \n",
       "2435    1.189386  160000000  61698899      The 13th Warrior   \n",
       "\n",
       "                                                   cast  \\\n",
       "2244  Kate Bosworth|Jang Dong-gun|Geoffrey Rush|Dann...   \n",
       "5508  Johnny Depp|Armie Hammer|William Fichtner|Hele...   \n",
       "2069  Benicio del Toro|Anthony Hopkins|Emily Blunt|H...   \n",
       "2214  James Badge Dale|Joseph Mazzello|Jon Seda|Asht...   \n",
       "7031  Dennis Quaid|Billy Bob Thornton|Jason Patric|P...   \n",
       "3484  Seth Green|Joan Cusack|Dan Fogler|Breckin Meye...   \n",
       "2190  Tia Mowry|Tamera Mowry|Ardon Bess|Robin BrÃ»lÃ...   \n",
       "1696  Justin Chatwin|Joon Park|Jamie Chung|Emmy Ross...   \n",
       "4970  Joaquin Phoenix|Jeremy Suarez|Rick Moranis|Joa...   \n",
       "2435  Antonio Banderas|Vladimir Kulich|Dennis StorhÃ...   \n",
       "\n",
       "                                               director  runtime  \\\n",
       "2244                                         Sngmoo Lee      100   \n",
       "5508                                     Gore Verbinski      149   \n",
       "2069                                       Joe Johnston      102   \n",
       "2214  Jeremy Podeswa|Tim Van Patten|David Nutter|Gra...      540   \n",
       "7031                                   John Lee Hancock      137   \n",
       "3484                                        Simon Wells       88   \n",
       "2190                                        Craig Pryce       87   \n",
       "1696                                         James Wong       85   \n",
       "4970                         Aaron Blaise|Robert Walker       85   \n",
       "2435                                     John McTiernan      102   \n",
       "\n",
       "                                                 genres  \\\n",
       "2244          Adventure|Fantasy|Action|Western|Thriller   \n",
       "5508                           Action|Adventure|Western   \n",
       "2069                              Horror|Thriller|Drama   \n",
       "2214                 War|Drama|Action|Adventure|History   \n",
       "7031                                Western|History|War   \n",
       "3484                         Adventure|Animation|Family   \n",
       "2190                               Comedy|Drama|Romance   \n",
       "1696  Action|Adventure|Fantasy|Science Fiction|Thriller   \n",
       "4970                 Animation|Adventure|Family|Fantasy   \n",
       "2435                           Adventure|Fantasy|Action   \n",
       "\n",
       "                                   production_companies  vote_count  \\\n",
       "2244                           Boram Entertainment Inc.          74   \n",
       "5508  Walt Disney Pictures|Jerry Bruckheimer Films|I...        1607   \n",
       "2069  Universal Pictures|Stuber Productions|Relativi...         299   \n",
       "2214                 Playtone|HBO|DreamWorks Television         183   \n",
       "7031          Imagine Entertainment|Touchstone Pictures          60   \n",
       "3484                      Walt Disney Animation Studios         129   \n",
       "2190     Jaffe / Braunstein Enterprise|Lifetime Network          12   \n",
       "1696  Ingenious Film Partners|Twentieth Century Fox ...         261   \n",
       "4970  Walt Disney Pictures|Walt Disney Feature Anima...         753   \n",
       "2435                                Touchstone Pictures         275   \n",
       "\n",
       "      vote_average  release_year    budget_adj   revenue_adj movie_era  \\\n",
       "2244           6.4          2010  4.250000e+08  1.108757e+07    modern   \n",
       "5508           6.0          2013  2.386885e+08  8.357833e+07    modern   \n",
       "2069           5.4          2010  1.500000e+08  0.000000e+00    modern   \n",
       "2214           7.8          2010  1.200000e+08  0.000000e+00    modern   \n",
       "7031           5.9          2004  1.673946e+08  2.980774e+07    modern   \n",
       "3484           5.5          2011  1.454097e+08  3.779950e+07    modern   \n",
       "2190           5.3          2010  1.040024e+08  0.000000e+00    modern   \n",
       "1696           3.1          2009  1.016400e+08  0.000000e+00    modern   \n",
       "4970           6.8          2003  1.185353e+08  2.963382e+02    modern   \n",
       "2435           6.2          1999  2.094485e+08  8.076712e+07       90s   \n",
       "\n",
       "      money_gain  \n",
       "2244  -413912431  \n",
       "5508  -165710090  \n",
       "2069  -150000000  \n",
       "2214  -120000000  \n",
       "7031  -119180039  \n",
       "3484  -111007242  \n",
       "2190  -104002432  \n",
       "1696  -100000000  \n",
       "4970   -99999750  \n",
       "2435   -98301101  "
      ]
     },
     "execution_count": 57,
     "metadata": {},
     "output_type": "execute_result"
    }
   ],
   "source": [
    "most_losses = df.sort_values('money_gain').head(10)\n",
    "most_losses"
   ]
  },
  {
   "cell_type": "markdown",
   "id": "b08afb1a",
   "metadata": {},
   "source": [
    "### Q5: what are the different statistics of genres? "
   ]
  },
  {
   "cell_type": "code",
   "execution_count": 58,
   "id": "3a1a8acf",
   "metadata": {},
   "outputs": [],
   "source": [
    "df['genres'] = df['genres'].str.split('|')"
   ]
  },
  {
   "cell_type": "code",
   "execution_count": 59,
   "id": "eca3ac12",
   "metadata": {},
   "outputs": [
    {
     "data": {
      "text/html": [
       "<div>\n",
       "<style scoped>\n",
       "    .dataframe tbody tr th:only-of-type {\n",
       "        vertical-align: middle;\n",
       "    }\n",
       "\n",
       "    .dataframe tbody tr th {\n",
       "        vertical-align: top;\n",
       "    }\n",
       "\n",
       "    .dataframe thead th {\n",
       "        text-align: right;\n",
       "    }\n",
       "</style>\n",
       "<table border=\"1\" class=\"dataframe\">\n",
       "  <thead>\n",
       "    <tr style=\"text-align: right;\">\n",
       "      <th></th>\n",
       "      <th>popularity</th>\n",
       "      <th>budget</th>\n",
       "      <th>revenue</th>\n",
       "      <th>original_title</th>\n",
       "      <th>cast</th>\n",
       "      <th>director</th>\n",
       "      <th>runtime</th>\n",
       "      <th>genres</th>\n",
       "      <th>production_companies</th>\n",
       "      <th>vote_count</th>\n",
       "      <th>vote_average</th>\n",
       "      <th>release_year</th>\n",
       "      <th>budget_adj</th>\n",
       "      <th>revenue_adj</th>\n",
       "      <th>movie_era</th>\n",
       "      <th>money_gain</th>\n",
       "    </tr>\n",
       "  </thead>\n",
       "  <tbody>\n",
       "    <tr>\n",
       "      <th>0</th>\n",
       "      <td>32.985763</td>\n",
       "      <td>150000000</td>\n",
       "      <td>1513528810</td>\n",
       "      <td>Jurassic World</td>\n",
       "      <td>Chris Pratt|Bryce Dallas Howard|Irrfan Khan|Vi...</td>\n",
       "      <td>Colin Trevorrow</td>\n",
       "      <td>124</td>\n",
       "      <td>[Action, Adventure, Science Fiction, Thriller]</td>\n",
       "      <td>Universal Studios|Amblin Entertainment|Legenda...</td>\n",
       "      <td>5562</td>\n",
       "      <td>6.5</td>\n",
       "      <td>2015</td>\n",
       "      <td>1.379999e+08</td>\n",
       "      <td>1.392446e+09</td>\n",
       "      <td>modern</td>\n",
       "      <td>1363528810</td>\n",
       "    </tr>\n",
       "    <tr>\n",
       "      <th>1</th>\n",
       "      <td>28.419936</td>\n",
       "      <td>150000000</td>\n",
       "      <td>378436354</td>\n",
       "      <td>Mad Max: Fury Road</td>\n",
       "      <td>Tom Hardy|Charlize Theron|Hugh Keays-Byrne|Nic...</td>\n",
       "      <td>George Miller</td>\n",
       "      <td>120</td>\n",
       "      <td>[Action, Adventure, Science Fiction, Thriller]</td>\n",
       "      <td>Village Roadshow Pictures|Kennedy Miller Produ...</td>\n",
       "      <td>6185</td>\n",
       "      <td>7.1</td>\n",
       "      <td>2015</td>\n",
       "      <td>1.379999e+08</td>\n",
       "      <td>3.481613e+08</td>\n",
       "      <td>modern</td>\n",
       "      <td>228436354</td>\n",
       "    </tr>\n",
       "    <tr>\n",
       "      <th>2</th>\n",
       "      <td>13.112507</td>\n",
       "      <td>110000000</td>\n",
       "      <td>295238201</td>\n",
       "      <td>Insurgent</td>\n",
       "      <td>Shailene Woodley|Theo James|Kate Winslet|Ansel...</td>\n",
       "      <td>Robert Schwentke</td>\n",
       "      <td>119</td>\n",
       "      <td>[Adventure, Science Fiction, Thriller]</td>\n",
       "      <td>Summit Entertainment|Mandeville Films|Red Wago...</td>\n",
       "      <td>2480</td>\n",
       "      <td>6.3</td>\n",
       "      <td>2015</td>\n",
       "      <td>1.012000e+08</td>\n",
       "      <td>2.716190e+08</td>\n",
       "      <td>modern</td>\n",
       "      <td>185238201</td>\n",
       "    </tr>\n",
       "    <tr>\n",
       "      <th>3</th>\n",
       "      <td>11.173104</td>\n",
       "      <td>200000000</td>\n",
       "      <td>2068178225</td>\n",
       "      <td>Star Wars: The Force Awakens</td>\n",
       "      <td>Harrison Ford|Mark Hamill|Carrie Fisher|Adam D...</td>\n",
       "      <td>J.J. Abrams</td>\n",
       "      <td>136</td>\n",
       "      <td>[Action, Adventure, Science Fiction, Fantasy]</td>\n",
       "      <td>Lucasfilm|Truenorth Productions|Bad Robot</td>\n",
       "      <td>5292</td>\n",
       "      <td>7.5</td>\n",
       "      <td>2015</td>\n",
       "      <td>1.839999e+08</td>\n",
       "      <td>1.902723e+09</td>\n",
       "      <td>modern</td>\n",
       "      <td>1868178225</td>\n",
       "    </tr>\n",
       "    <tr>\n",
       "      <th>4</th>\n",
       "      <td>9.335014</td>\n",
       "      <td>190000000</td>\n",
       "      <td>1506249360</td>\n",
       "      <td>Furious 7</td>\n",
       "      <td>Vin Diesel|Paul Walker|Jason Statham|Michelle ...</td>\n",
       "      <td>James Wan</td>\n",
       "      <td>137</td>\n",
       "      <td>[Action, Crime, Thriller]</td>\n",
       "      <td>Universal Pictures|Original Film|Media Rights ...</td>\n",
       "      <td>2947</td>\n",
       "      <td>7.3</td>\n",
       "      <td>2015</td>\n",
       "      <td>1.747999e+08</td>\n",
       "      <td>1.385749e+09</td>\n",
       "      <td>modern</td>\n",
       "      <td>1316249360</td>\n",
       "    </tr>\n",
       "  </tbody>\n",
       "</table>\n",
       "</div>"
      ],
      "text/plain": [
       "   popularity     budget     revenue                original_title  \\\n",
       "0   32.985763  150000000  1513528810                Jurassic World   \n",
       "1   28.419936  150000000   378436354            Mad Max: Fury Road   \n",
       "2   13.112507  110000000   295238201                     Insurgent   \n",
       "3   11.173104  200000000  2068178225  Star Wars: The Force Awakens   \n",
       "4    9.335014  190000000  1506249360                     Furious 7   \n",
       "\n",
       "                                                cast          director  \\\n",
       "0  Chris Pratt|Bryce Dallas Howard|Irrfan Khan|Vi...   Colin Trevorrow   \n",
       "1  Tom Hardy|Charlize Theron|Hugh Keays-Byrne|Nic...     George Miller   \n",
       "2  Shailene Woodley|Theo James|Kate Winslet|Ansel...  Robert Schwentke   \n",
       "3  Harrison Ford|Mark Hamill|Carrie Fisher|Adam D...       J.J. Abrams   \n",
       "4  Vin Diesel|Paul Walker|Jason Statham|Michelle ...         James Wan   \n",
       "\n",
       "   runtime                                          genres  \\\n",
       "0      124  [Action, Adventure, Science Fiction, Thriller]   \n",
       "1      120  [Action, Adventure, Science Fiction, Thriller]   \n",
       "2      119          [Adventure, Science Fiction, Thriller]   \n",
       "3      136   [Action, Adventure, Science Fiction, Fantasy]   \n",
       "4      137                       [Action, Crime, Thriller]   \n",
       "\n",
       "                                production_companies  vote_count  \\\n",
       "0  Universal Studios|Amblin Entertainment|Legenda...        5562   \n",
       "1  Village Roadshow Pictures|Kennedy Miller Produ...        6185   \n",
       "2  Summit Entertainment|Mandeville Films|Red Wago...        2480   \n",
       "3          Lucasfilm|Truenorth Productions|Bad Robot        5292   \n",
       "4  Universal Pictures|Original Film|Media Rights ...        2947   \n",
       "\n",
       "   vote_average  release_year    budget_adj   revenue_adj movie_era  \\\n",
       "0           6.5          2015  1.379999e+08  1.392446e+09    modern   \n",
       "1           7.1          2015  1.379999e+08  3.481613e+08    modern   \n",
       "2           6.3          2015  1.012000e+08  2.716190e+08    modern   \n",
       "3           7.5          2015  1.839999e+08  1.902723e+09    modern   \n",
       "4           7.3          2015  1.747999e+08  1.385749e+09    modern   \n",
       "\n",
       "   money_gain  \n",
       "0  1363528810  \n",
       "1   228436354  \n",
       "2   185238201  \n",
       "3  1868178225  \n",
       "4  1316249360  "
      ]
     },
     "execution_count": 59,
     "metadata": {},
     "output_type": "execute_result"
    }
   ],
   "source": [
    "df.head()"
   ]
  },
  {
   "cell_type": "code",
   "execution_count": 60,
   "id": "febc65d1",
   "metadata": {},
   "outputs": [
    {
     "data": {
      "text/html": [
       "<div>\n",
       "<style scoped>\n",
       "    .dataframe tbody tr th:only-of-type {\n",
       "        vertical-align: middle;\n",
       "    }\n",
       "\n",
       "    .dataframe tbody tr th {\n",
       "        vertical-align: top;\n",
       "    }\n",
       "\n",
       "    .dataframe thead th {\n",
       "        text-align: right;\n",
       "    }\n",
       "</style>\n",
       "<table border=\"1\" class=\"dataframe\">\n",
       "  <thead>\n",
       "    <tr style=\"text-align: right;\">\n",
       "      <th></th>\n",
       "      <th>popularity</th>\n",
       "      <th>budget</th>\n",
       "      <th>revenue</th>\n",
       "      <th>original_title</th>\n",
       "      <th>cast</th>\n",
       "      <th>director</th>\n",
       "      <th>runtime</th>\n",
       "      <th>genres</th>\n",
       "      <th>production_companies</th>\n",
       "      <th>vote_count</th>\n",
       "      <th>vote_average</th>\n",
       "      <th>release_year</th>\n",
       "      <th>budget_adj</th>\n",
       "      <th>revenue_adj</th>\n",
       "      <th>movie_era</th>\n",
       "      <th>money_gain</th>\n",
       "    </tr>\n",
       "  </thead>\n",
       "  <tbody>\n",
       "    <tr>\n",
       "      <th>0</th>\n",
       "      <td>32.985763</td>\n",
       "      <td>150000000</td>\n",
       "      <td>1513528810</td>\n",
       "      <td>Jurassic World</td>\n",
       "      <td>Chris Pratt|Bryce Dallas Howard|Irrfan Khan|Vi...</td>\n",
       "      <td>Colin Trevorrow</td>\n",
       "      <td>124</td>\n",
       "      <td>Action</td>\n",
       "      <td>Universal Studios|Amblin Entertainment|Legenda...</td>\n",
       "      <td>5562</td>\n",
       "      <td>6.5</td>\n",
       "      <td>2015</td>\n",
       "      <td>1.379999e+08</td>\n",
       "      <td>1.392446e+09</td>\n",
       "      <td>modern</td>\n",
       "      <td>1363528810</td>\n",
       "    </tr>\n",
       "    <tr>\n",
       "      <th>1</th>\n",
       "      <td>32.985763</td>\n",
       "      <td>150000000</td>\n",
       "      <td>1513528810</td>\n",
       "      <td>Jurassic World</td>\n",
       "      <td>Chris Pratt|Bryce Dallas Howard|Irrfan Khan|Vi...</td>\n",
       "      <td>Colin Trevorrow</td>\n",
       "      <td>124</td>\n",
       "      <td>Adventure</td>\n",
       "      <td>Universal Studios|Amblin Entertainment|Legenda...</td>\n",
       "      <td>5562</td>\n",
       "      <td>6.5</td>\n",
       "      <td>2015</td>\n",
       "      <td>1.379999e+08</td>\n",
       "      <td>1.392446e+09</td>\n",
       "      <td>modern</td>\n",
       "      <td>1363528810</td>\n",
       "    </tr>\n",
       "    <tr>\n",
       "      <th>2</th>\n",
       "      <td>32.985763</td>\n",
       "      <td>150000000</td>\n",
       "      <td>1513528810</td>\n",
       "      <td>Jurassic World</td>\n",
       "      <td>Chris Pratt|Bryce Dallas Howard|Irrfan Khan|Vi...</td>\n",
       "      <td>Colin Trevorrow</td>\n",
       "      <td>124</td>\n",
       "      <td>Science Fiction</td>\n",
       "      <td>Universal Studios|Amblin Entertainment|Legenda...</td>\n",
       "      <td>5562</td>\n",
       "      <td>6.5</td>\n",
       "      <td>2015</td>\n",
       "      <td>1.379999e+08</td>\n",
       "      <td>1.392446e+09</td>\n",
       "      <td>modern</td>\n",
       "      <td>1363528810</td>\n",
       "    </tr>\n",
       "    <tr>\n",
       "      <th>3</th>\n",
       "      <td>32.985763</td>\n",
       "      <td>150000000</td>\n",
       "      <td>1513528810</td>\n",
       "      <td>Jurassic World</td>\n",
       "      <td>Chris Pratt|Bryce Dallas Howard|Irrfan Khan|Vi...</td>\n",
       "      <td>Colin Trevorrow</td>\n",
       "      <td>124</td>\n",
       "      <td>Thriller</td>\n",
       "      <td>Universal Studios|Amblin Entertainment|Legenda...</td>\n",
       "      <td>5562</td>\n",
       "      <td>6.5</td>\n",
       "      <td>2015</td>\n",
       "      <td>1.379999e+08</td>\n",
       "      <td>1.392446e+09</td>\n",
       "      <td>modern</td>\n",
       "      <td>1363528810</td>\n",
       "    </tr>\n",
       "    <tr>\n",
       "      <th>4</th>\n",
       "      <td>28.419936</td>\n",
       "      <td>150000000</td>\n",
       "      <td>378436354</td>\n",
       "      <td>Mad Max: Fury Road</td>\n",
       "      <td>Tom Hardy|Charlize Theron|Hugh Keays-Byrne|Nic...</td>\n",
       "      <td>George Miller</td>\n",
       "      <td>120</td>\n",
       "      <td>Action</td>\n",
       "      <td>Village Roadshow Pictures|Kennedy Miller Produ...</td>\n",
       "      <td>6185</td>\n",
       "      <td>7.1</td>\n",
       "      <td>2015</td>\n",
       "      <td>1.379999e+08</td>\n",
       "      <td>3.481613e+08</td>\n",
       "      <td>modern</td>\n",
       "      <td>228436354</td>\n",
       "    </tr>\n",
       "    <tr>\n",
       "      <th>...</th>\n",
       "      <td>...</td>\n",
       "      <td>...</td>\n",
       "      <td>...</td>\n",
       "      <td>...</td>\n",
       "      <td>...</td>\n",
       "      <td>...</td>\n",
       "      <td>...</td>\n",
       "      <td>...</td>\n",
       "      <td>...</td>\n",
       "      <td>...</td>\n",
       "      <td>...</td>\n",
       "      <td>...</td>\n",
       "      <td>...</td>\n",
       "      <td>...</td>\n",
       "      <td>...</td>\n",
       "      <td>...</td>\n",
       "    </tr>\n",
       "    <tr>\n",
       "      <th>24645</th>\n",
       "      <td>0.065141</td>\n",
       "      <td>0</td>\n",
       "      <td>0</td>\n",
       "      <td>Beregis Avtomobilya</td>\n",
       "      <td>Innokentiy Smoktunovskiy|Oleg Efremov|Georgi Z...</td>\n",
       "      <td>Eldar Ryazanov</td>\n",
       "      <td>94</td>\n",
       "      <td>Mystery</td>\n",
       "      <td>Mosfilm</td>\n",
       "      <td>11</td>\n",
       "      <td>6.5</td>\n",
       "      <td>1966</td>\n",
       "      <td>0.000000e+00</td>\n",
       "      <td>0.000000e+00</td>\n",
       "      <td>60s</td>\n",
       "      <td>0</td>\n",
       "    </tr>\n",
       "    <tr>\n",
       "      <th>24646</th>\n",
       "      <td>0.065141</td>\n",
       "      <td>0</td>\n",
       "      <td>0</td>\n",
       "      <td>Beregis Avtomobilya</td>\n",
       "      <td>Innokentiy Smoktunovskiy|Oleg Efremov|Georgi Z...</td>\n",
       "      <td>Eldar Ryazanov</td>\n",
       "      <td>94</td>\n",
       "      <td>Comedy</td>\n",
       "      <td>Mosfilm</td>\n",
       "      <td>11</td>\n",
       "      <td>6.5</td>\n",
       "      <td>1966</td>\n",
       "      <td>0.000000e+00</td>\n",
       "      <td>0.000000e+00</td>\n",
       "      <td>60s</td>\n",
       "      <td>0</td>\n",
       "    </tr>\n",
       "    <tr>\n",
       "      <th>24647</th>\n",
       "      <td>0.064317</td>\n",
       "      <td>0</td>\n",
       "      <td>0</td>\n",
       "      <td>What's Up, Tiger Lily?</td>\n",
       "      <td>Tatsuya Mihashi|Akiko Wakabayashi|Mie Hama|Joh...</td>\n",
       "      <td>Woody Allen</td>\n",
       "      <td>80</td>\n",
       "      <td>Action</td>\n",
       "      <td>Benedict Pictures Corp.</td>\n",
       "      <td>22</td>\n",
       "      <td>5.4</td>\n",
       "      <td>1966</td>\n",
       "      <td>0.000000e+00</td>\n",
       "      <td>0.000000e+00</td>\n",
       "      <td>60s</td>\n",
       "      <td>0</td>\n",
       "    </tr>\n",
       "    <tr>\n",
       "      <th>24648</th>\n",
       "      <td>0.064317</td>\n",
       "      <td>0</td>\n",
       "      <td>0</td>\n",
       "      <td>What's Up, Tiger Lily?</td>\n",
       "      <td>Tatsuya Mihashi|Akiko Wakabayashi|Mie Hama|Joh...</td>\n",
       "      <td>Woody Allen</td>\n",
       "      <td>80</td>\n",
       "      <td>Comedy</td>\n",
       "      <td>Benedict Pictures Corp.</td>\n",
       "      <td>22</td>\n",
       "      <td>5.4</td>\n",
       "      <td>1966</td>\n",
       "      <td>0.000000e+00</td>\n",
       "      <td>0.000000e+00</td>\n",
       "      <td>60s</td>\n",
       "      <td>0</td>\n",
       "    </tr>\n",
       "    <tr>\n",
       "      <th>24649</th>\n",
       "      <td>0.035919</td>\n",
       "      <td>19000</td>\n",
       "      <td>0</td>\n",
       "      <td>Manos: The Hands of Fate</td>\n",
       "      <td>Harold P. Warren|Tom Neyman|John Reynolds|Dian...</td>\n",
       "      <td>Harold P. Warren</td>\n",
       "      <td>74</td>\n",
       "      <td>Horror</td>\n",
       "      <td>Norm-Iris</td>\n",
       "      <td>15</td>\n",
       "      <td>1.5</td>\n",
       "      <td>1966</td>\n",
       "      <td>1.276423e+05</td>\n",
       "      <td>0.000000e+00</td>\n",
       "      <td>60s</td>\n",
       "      <td>-19000</td>\n",
       "    </tr>\n",
       "  </tbody>\n",
       "</table>\n",
       "<p>24650 rows × 16 columns</p>\n",
       "</div>"
      ],
      "text/plain": [
       "       popularity     budget     revenue            original_title  \\\n",
       "0       32.985763  150000000  1513528810            Jurassic World   \n",
       "1       32.985763  150000000  1513528810            Jurassic World   \n",
       "2       32.985763  150000000  1513528810            Jurassic World   \n",
       "3       32.985763  150000000  1513528810            Jurassic World   \n",
       "4       28.419936  150000000   378436354        Mad Max: Fury Road   \n",
       "...           ...        ...         ...                       ...   \n",
       "24645    0.065141          0           0       Beregis Avtomobilya   \n",
       "24646    0.065141          0           0       Beregis Avtomobilya   \n",
       "24647    0.064317          0           0    What's Up, Tiger Lily?   \n",
       "24648    0.064317          0           0    What's Up, Tiger Lily?   \n",
       "24649    0.035919      19000           0  Manos: The Hands of Fate   \n",
       "\n",
       "                                                    cast          director  \\\n",
       "0      Chris Pratt|Bryce Dallas Howard|Irrfan Khan|Vi...   Colin Trevorrow   \n",
       "1      Chris Pratt|Bryce Dallas Howard|Irrfan Khan|Vi...   Colin Trevorrow   \n",
       "2      Chris Pratt|Bryce Dallas Howard|Irrfan Khan|Vi...   Colin Trevorrow   \n",
       "3      Chris Pratt|Bryce Dallas Howard|Irrfan Khan|Vi...   Colin Trevorrow   \n",
       "4      Tom Hardy|Charlize Theron|Hugh Keays-Byrne|Nic...     George Miller   \n",
       "...                                                  ...               ...   \n",
       "24645  Innokentiy Smoktunovskiy|Oleg Efremov|Georgi Z...    Eldar Ryazanov   \n",
       "24646  Innokentiy Smoktunovskiy|Oleg Efremov|Georgi Z...    Eldar Ryazanov   \n",
       "24647  Tatsuya Mihashi|Akiko Wakabayashi|Mie Hama|Joh...       Woody Allen   \n",
       "24648  Tatsuya Mihashi|Akiko Wakabayashi|Mie Hama|Joh...       Woody Allen   \n",
       "24649  Harold P. Warren|Tom Neyman|John Reynolds|Dian...  Harold P. Warren   \n",
       "\n",
       "       runtime           genres  \\\n",
       "0          124           Action   \n",
       "1          124        Adventure   \n",
       "2          124  Science Fiction   \n",
       "3          124         Thriller   \n",
       "4          120           Action   \n",
       "...        ...              ...   \n",
       "24645       94          Mystery   \n",
       "24646       94           Comedy   \n",
       "24647       80           Action   \n",
       "24648       80           Comedy   \n",
       "24649       74           Horror   \n",
       "\n",
       "                                    production_companies  vote_count  \\\n",
       "0      Universal Studios|Amblin Entertainment|Legenda...        5562   \n",
       "1      Universal Studios|Amblin Entertainment|Legenda...        5562   \n",
       "2      Universal Studios|Amblin Entertainment|Legenda...        5562   \n",
       "3      Universal Studios|Amblin Entertainment|Legenda...        5562   \n",
       "4      Village Roadshow Pictures|Kennedy Miller Produ...        6185   \n",
       "...                                                  ...         ...   \n",
       "24645                                            Mosfilm          11   \n",
       "24646                                            Mosfilm          11   \n",
       "24647                            Benedict Pictures Corp.          22   \n",
       "24648                            Benedict Pictures Corp.          22   \n",
       "24649                                          Norm-Iris          15   \n",
       "\n",
       "       vote_average  release_year    budget_adj   revenue_adj movie_era  \\\n",
       "0               6.5          2015  1.379999e+08  1.392446e+09    modern   \n",
       "1               6.5          2015  1.379999e+08  1.392446e+09    modern   \n",
       "2               6.5          2015  1.379999e+08  1.392446e+09    modern   \n",
       "3               6.5          2015  1.379999e+08  1.392446e+09    modern   \n",
       "4               7.1          2015  1.379999e+08  3.481613e+08    modern   \n",
       "...             ...           ...           ...           ...       ...   \n",
       "24645           6.5          1966  0.000000e+00  0.000000e+00       60s   \n",
       "24646           6.5          1966  0.000000e+00  0.000000e+00       60s   \n",
       "24647           5.4          1966  0.000000e+00  0.000000e+00       60s   \n",
       "24648           5.4          1966  0.000000e+00  0.000000e+00       60s   \n",
       "24649           1.5          1966  1.276423e+05  0.000000e+00       60s   \n",
       "\n",
       "       money_gain  \n",
       "0      1363528810  \n",
       "1      1363528810  \n",
       "2      1363528810  \n",
       "3      1363528810  \n",
       "4       228436354  \n",
       "...           ...  \n",
       "24645           0  \n",
       "24646           0  \n",
       "24647           0  \n",
       "24648           0  \n",
       "24649      -19000  \n",
       "\n",
       "[24650 rows x 16 columns]"
      ]
     },
     "execution_count": 60,
     "metadata": {},
     "output_type": "execute_result"
    }
   ],
   "source": [
    "genres_df = df.explode(\"genres\").reset_index(drop=True)\n",
    "genres_df"
   ]
  },
  {
   "cell_type": "code",
   "execution_count": 61,
   "id": "3d1ef1cb",
   "metadata": {},
   "outputs": [
    {
     "data": {
      "text/html": [
       "<div>\n",
       "<style scoped>\n",
       "    .dataframe tbody tr th:only-of-type {\n",
       "        vertical-align: middle;\n",
       "    }\n",
       "\n",
       "    .dataframe tbody tr th {\n",
       "        vertical-align: top;\n",
       "    }\n",
       "\n",
       "    .dataframe thead th {\n",
       "        text-align: right;\n",
       "    }\n",
       "</style>\n",
       "<table border=\"1\" class=\"dataframe\">\n",
       "  <thead>\n",
       "    <tr style=\"text-align: right;\">\n",
       "      <th></th>\n",
       "      <th>popularity</th>\n",
       "      <th>budget</th>\n",
       "      <th>revenue</th>\n",
       "      <th>runtime</th>\n",
       "      <th>vote_count</th>\n",
       "      <th>vote_average</th>\n",
       "      <th>release_year</th>\n",
       "      <th>budget_adj</th>\n",
       "      <th>revenue_adj</th>\n",
       "      <th>money_gain</th>\n",
       "    </tr>\n",
       "    <tr>\n",
       "      <th>genres</th>\n",
       "      <th></th>\n",
       "      <th></th>\n",
       "      <th></th>\n",
       "      <th></th>\n",
       "      <th></th>\n",
       "      <th></th>\n",
       "      <th></th>\n",
       "      <th></th>\n",
       "      <th></th>\n",
       "      <th></th>\n",
       "    </tr>\n",
       "  </thead>\n",
       "  <tbody>\n",
       "    <tr>\n",
       "      <th>Action</th>\n",
       "      <td>0.968256</td>\n",
       "      <td>2.946214e+07</td>\n",
       "      <td>7.759165e+07</td>\n",
       "      <td>105.516331</td>\n",
       "      <td>417.643400</td>\n",
       "      <td>5.796823</td>\n",
       "      <td>1999.875168</td>\n",
       "      <td>3.500696e+07</td>\n",
       "      <td>9.781054e+07</td>\n",
       "      <td>4.812951e+07</td>\n",
       "    </tr>\n",
       "    <tr>\n",
       "      <th>Adventure</th>\n",
       "      <td>1.209053</td>\n",
       "      <td>3.981309e+07</td>\n",
       "      <td>1.201717e+08</td>\n",
       "      <td>106.294075</td>\n",
       "      <td>543.687861</td>\n",
       "      <td>5.951951</td>\n",
       "      <td>1999.216040</td>\n",
       "      <td>4.659343e+07</td>\n",
       "      <td>1.504634e+08</td>\n",
       "      <td>8.035860e+07</td>\n",
       "    </tr>\n",
       "    <tr>\n",
       "      <th>Animation</th>\n",
       "      <td>0.914281</td>\n",
       "      <td>2.617218e+07</td>\n",
       "      <td>8.517872e+07</td>\n",
       "      <td>70.871961</td>\n",
       "      <td>339.369530</td>\n",
       "      <td>6.387358</td>\n",
       "      <td>2004.136143</td>\n",
       "      <td>2.856795e+07</td>\n",
       "      <td>9.648818e+07</td>\n",
       "      <td>5.900653e+07</td>\n",
       "    </tr>\n",
       "    <tr>\n",
       "      <th>Comedy</th>\n",
       "      <td>0.631565</td>\n",
       "      <td>1.462095e+07</td>\n",
       "      <td>4.140442e+07</td>\n",
       "      <td>97.361200</td>\n",
       "      <td>192.646665</td>\n",
       "      <td>5.894553</td>\n",
       "      <td>2000.443635</td>\n",
       "      <td>1.751002e+07</td>\n",
       "      <td>5.285240e+07</td>\n",
       "      <td>2.678348e+07</td>\n",
       "    </tr>\n",
       "    <tr>\n",
       "      <th>Crime</th>\n",
       "      <td>0.767337</td>\n",
       "      <td>1.834387e+07</td>\n",
       "      <td>4.415599e+07</td>\n",
       "      <td>107.026944</td>\n",
       "      <td>289.638953</td>\n",
       "      <td>6.128637</td>\n",
       "      <td>1999.237105</td>\n",
       "      <td>2.236703e+07</td>\n",
       "      <td>5.902647e+07</td>\n",
       "      <td>2.581212e+07</td>\n",
       "    </tr>\n",
       "    <tr>\n",
       "      <th>Documentary</th>\n",
       "      <td>0.217167</td>\n",
       "      <td>8.449726e+05</td>\n",
       "      <td>3.163370e+06</td>\n",
       "      <td>101.911672</td>\n",
       "      <td>43.968454</td>\n",
       "      <td>6.930915</td>\n",
       "      <td>2008.097792</td>\n",
       "      <td>9.001120e+05</td>\n",
       "      <td>3.510897e+06</td>\n",
       "      <td>2.318398e+06</td>\n",
       "    </tr>\n",
       "    <tr>\n",
       "      <th>Drama</th>\n",
       "      <td>0.625878</td>\n",
       "      <td>1.287987e+07</td>\n",
       "      <td>3.182763e+07</td>\n",
       "      <td>110.890926</td>\n",
       "      <td>197.187672</td>\n",
       "      <td>6.178391</td>\n",
       "      <td>2000.526123</td>\n",
       "      <td>1.611420e+07</td>\n",
       "      <td>4.402312e+07</td>\n",
       "      <td>1.894777e+07</td>\n",
       "    </tr>\n",
       "    <tr>\n",
       "      <th>Family</th>\n",
       "      <td>0.846467</td>\n",
       "      <td>2.610785e+07</td>\n",
       "      <td>8.129599e+07</td>\n",
       "      <td>89.710502</td>\n",
       "      <td>302.833790</td>\n",
       "      <td>6.002557</td>\n",
       "      <td>2000.562557</td>\n",
       "      <td>3.009340e+07</td>\n",
       "      <td>9.844916e+07</td>\n",
       "      <td>5.518814e+07</td>\n",
       "    </tr>\n",
       "    <tr>\n",
       "      <th>Fantasy</th>\n",
       "      <td>1.056310</td>\n",
       "      <td>3.551363e+07</td>\n",
       "      <td>1.050024e+08</td>\n",
       "      <td>100.853571</td>\n",
       "      <td>456.454762</td>\n",
       "      <td>5.884524</td>\n",
       "      <td>2000.189286</td>\n",
       "      <td>4.075680e+07</td>\n",
       "      <td>1.212249e+08</td>\n",
       "      <td>6.948878e+07</td>\n",
       "    </tr>\n",
       "    <tr>\n",
       "      <th>Foreign</th>\n",
       "      <td>0.209384</td>\n",
       "      <td>1.989543e+06</td>\n",
       "      <td>1.482569e+06</td>\n",
       "      <td>105.208333</td>\n",
       "      <td>17.266667</td>\n",
       "      <td>5.934167</td>\n",
       "      <td>1999.891667</td>\n",
       "      <td>3.433934e+06</td>\n",
       "      <td>1.857540e+06</td>\n",
       "      <td>-5.069747e+05</td>\n",
       "    </tr>\n",
       "    <tr>\n",
       "      <th>History</th>\n",
       "      <td>0.609500</td>\n",
       "      <td>2.007736e+07</td>\n",
       "      <td>3.493070e+07</td>\n",
       "      <td>134.264706</td>\n",
       "      <td>198.529412</td>\n",
       "      <td>6.416993</td>\n",
       "      <td>1997.009804</td>\n",
       "      <td>2.857952e+07</td>\n",
       "      <td>5.232194e+07</td>\n",
       "      <td>1.485333e+07</td>\n",
       "    </tr>\n",
       "    <tr>\n",
       "      <th>Horror</th>\n",
       "      <td>0.480207</td>\n",
       "      <td>6.631584e+06</td>\n",
       "      <td>1.801710e+07</td>\n",
       "      <td>95.006553</td>\n",
       "      <td>127.462647</td>\n",
       "      <td>5.365793</td>\n",
       "      <td>2000.742464</td>\n",
       "      <td>8.266494e+06</td>\n",
       "      <td>2.579533e+07</td>\n",
       "      <td>1.138552e+07</td>\n",
       "    </tr>\n",
       "    <tr>\n",
       "      <th>Music</th>\n",
       "      <td>0.550884</td>\n",
       "      <td>1.126212e+07</td>\n",
       "      <td>3.436177e+07</td>\n",
       "      <td>107.398230</td>\n",
       "      <td>145.138643</td>\n",
       "      <td>6.413274</td>\n",
       "      <td>1999.300885</td>\n",
       "      <td>1.550270e+07</td>\n",
       "      <td>5.611874e+07</td>\n",
       "      <td>2.309964e+07</td>\n",
       "    </tr>\n",
       "    <tr>\n",
       "      <th>Mystery</th>\n",
       "      <td>0.713596</td>\n",
       "      <td>1.680790e+07</td>\n",
       "      <td>4.204428e+07</td>\n",
       "      <td>106.279431</td>\n",
       "      <td>247.304010</td>\n",
       "      <td>5.960414</td>\n",
       "      <td>1999.534282</td>\n",
       "      <td>2.031893e+07</td>\n",
       "      <td>5.322556e+07</td>\n",
       "      <td>2.523638e+07</td>\n",
       "    </tr>\n",
       "    <tr>\n",
       "      <th>Romance</th>\n",
       "      <td>0.627178</td>\n",
       "      <td>1.360385e+07</td>\n",
       "      <td>3.886724e+07</td>\n",
       "      <td>107.566242</td>\n",
       "      <td>179.086624</td>\n",
       "      <td>6.044586</td>\n",
       "      <td>1999.914650</td>\n",
       "      <td>1.700930e+07</td>\n",
       "      <td>5.249826e+07</td>\n",
       "      <td>2.526339e+07</td>\n",
       "    </tr>\n",
       "    <tr>\n",
       "      <th>Science Fiction</th>\n",
       "      <td>1.065278</td>\n",
       "      <td>2.698842e+07</td>\n",
       "      <td>7.586805e+07</td>\n",
       "      <td>100.319542</td>\n",
       "      <td>471.108275</td>\n",
       "      <td>5.671039</td>\n",
       "      <td>1999.738556</td>\n",
       "      <td>3.191037e+07</td>\n",
       "      <td>9.405054e+07</td>\n",
       "      <td>4.887963e+07</td>\n",
       "    </tr>\n",
       "    <tr>\n",
       "      <th>TV Movie</th>\n",
       "      <td>0.295864</td>\n",
       "      <td>3.386364e+05</td>\n",
       "      <td>3.181818e+05</td>\n",
       "      <td>90.681818</td>\n",
       "      <td>38.477273</td>\n",
       "      <td>5.690152</td>\n",
       "      <td>2003.840909</td>\n",
       "      <td>3.745121e+05</td>\n",
       "      <td>4.423417e+05</td>\n",
       "      <td>-2.045455e+04</td>\n",
       "    </tr>\n",
       "    <tr>\n",
       "      <th>Thriller</th>\n",
       "      <td>0.772172</td>\n",
       "      <td>1.811872e+07</td>\n",
       "      <td>4.413277e+07</td>\n",
       "      <td>103.609978</td>\n",
       "      <td>269.314639</td>\n",
       "      <td>5.767007</td>\n",
       "      <td>2001.442826</td>\n",
       "      <td>2.178537e+07</td>\n",
       "      <td>5.848189e+07</td>\n",
       "      <td>2.601405e+07</td>\n",
       "    </tr>\n",
       "    <tr>\n",
       "      <th>War</th>\n",
       "      <td>0.752777</td>\n",
       "      <td>2.170701e+07</td>\n",
       "      <td>4.981938e+07</td>\n",
       "      <td>128.542636</td>\n",
       "      <td>282.484496</td>\n",
       "      <td>6.309302</td>\n",
       "      <td>1995.868217</td>\n",
       "      <td>2.992615e+07</td>\n",
       "      <td>7.324128e+07</td>\n",
       "      <td>2.811237e+07</td>\n",
       "    </tr>\n",
       "    <tr>\n",
       "      <th>Western</th>\n",
       "      <td>0.604554</td>\n",
       "      <td>1.956705e+07</td>\n",
       "      <td>2.946148e+07</td>\n",
       "      <td>115.975000</td>\n",
       "      <td>211.737500</td>\n",
       "      <td>6.094375</td>\n",
       "      <td>1986.475000</td>\n",
       "      <td>2.526298e+07</td>\n",
       "      <td>4.754193e+07</td>\n",
       "      <td>9.894433e+06</td>\n",
       "    </tr>\n",
       "  </tbody>\n",
       "</table>\n",
       "</div>"
      ],
      "text/plain": [
       "                 popularity        budget       revenue     runtime  \\\n",
       "genres                                                                \n",
       "Action             0.968256  2.946214e+07  7.759165e+07  105.516331   \n",
       "Adventure          1.209053  3.981309e+07  1.201717e+08  106.294075   \n",
       "Animation          0.914281  2.617218e+07  8.517872e+07   70.871961   \n",
       "Comedy             0.631565  1.462095e+07  4.140442e+07   97.361200   \n",
       "Crime              0.767337  1.834387e+07  4.415599e+07  107.026944   \n",
       "Documentary        0.217167  8.449726e+05  3.163370e+06  101.911672   \n",
       "Drama              0.625878  1.287987e+07  3.182763e+07  110.890926   \n",
       "Family             0.846467  2.610785e+07  8.129599e+07   89.710502   \n",
       "Fantasy            1.056310  3.551363e+07  1.050024e+08  100.853571   \n",
       "Foreign            0.209384  1.989543e+06  1.482569e+06  105.208333   \n",
       "History            0.609500  2.007736e+07  3.493070e+07  134.264706   \n",
       "Horror             0.480207  6.631584e+06  1.801710e+07   95.006553   \n",
       "Music              0.550884  1.126212e+07  3.436177e+07  107.398230   \n",
       "Mystery            0.713596  1.680790e+07  4.204428e+07  106.279431   \n",
       "Romance            0.627178  1.360385e+07  3.886724e+07  107.566242   \n",
       "Science Fiction    1.065278  2.698842e+07  7.586805e+07  100.319542   \n",
       "TV Movie           0.295864  3.386364e+05  3.181818e+05   90.681818   \n",
       "Thriller           0.772172  1.811872e+07  4.413277e+07  103.609978   \n",
       "War                0.752777  2.170701e+07  4.981938e+07  128.542636   \n",
       "Western            0.604554  1.956705e+07  2.946148e+07  115.975000   \n",
       "\n",
       "                 vote_count  vote_average  release_year    budget_adj  \\\n",
       "genres                                                                  \n",
       "Action           417.643400      5.796823   1999.875168  3.500696e+07   \n",
       "Adventure        543.687861      5.951951   1999.216040  4.659343e+07   \n",
       "Animation        339.369530      6.387358   2004.136143  2.856795e+07   \n",
       "Comedy           192.646665      5.894553   2000.443635  1.751002e+07   \n",
       "Crime            289.638953      6.128637   1999.237105  2.236703e+07   \n",
       "Documentary       43.968454      6.930915   2008.097792  9.001120e+05   \n",
       "Drama            197.187672      6.178391   2000.526123  1.611420e+07   \n",
       "Family           302.833790      6.002557   2000.562557  3.009340e+07   \n",
       "Fantasy          456.454762      5.884524   2000.189286  4.075680e+07   \n",
       "Foreign           17.266667      5.934167   1999.891667  3.433934e+06   \n",
       "History          198.529412      6.416993   1997.009804  2.857952e+07   \n",
       "Horror           127.462647      5.365793   2000.742464  8.266494e+06   \n",
       "Music            145.138643      6.413274   1999.300885  1.550270e+07   \n",
       "Mystery          247.304010      5.960414   1999.534282  2.031893e+07   \n",
       "Romance          179.086624      6.044586   1999.914650  1.700930e+07   \n",
       "Science Fiction  471.108275      5.671039   1999.738556  3.191037e+07   \n",
       "TV Movie          38.477273      5.690152   2003.840909  3.745121e+05   \n",
       "Thriller         269.314639      5.767007   2001.442826  2.178537e+07   \n",
       "War              282.484496      6.309302   1995.868217  2.992615e+07   \n",
       "Western          211.737500      6.094375   1986.475000  2.526298e+07   \n",
       "\n",
       "                  revenue_adj    money_gain  \n",
       "genres                                       \n",
       "Action           9.781054e+07  4.812951e+07  \n",
       "Adventure        1.504634e+08  8.035860e+07  \n",
       "Animation        9.648818e+07  5.900653e+07  \n",
       "Comedy           5.285240e+07  2.678348e+07  \n",
       "Crime            5.902647e+07  2.581212e+07  \n",
       "Documentary      3.510897e+06  2.318398e+06  \n",
       "Drama            4.402312e+07  1.894777e+07  \n",
       "Family           9.844916e+07  5.518814e+07  \n",
       "Fantasy          1.212249e+08  6.948878e+07  \n",
       "Foreign          1.857540e+06 -5.069747e+05  \n",
       "History          5.232194e+07  1.485333e+07  \n",
       "Horror           2.579533e+07  1.138552e+07  \n",
       "Music            5.611874e+07  2.309964e+07  \n",
       "Mystery          5.322556e+07  2.523638e+07  \n",
       "Romance          5.249826e+07  2.526339e+07  \n",
       "Science Fiction  9.405054e+07  4.887963e+07  \n",
       "TV Movie         4.423417e+05 -2.045455e+04  \n",
       "Thriller         5.848189e+07  2.601405e+07  \n",
       "War              7.324128e+07  2.811237e+07  \n",
       "Western          4.754193e+07  9.894433e+06  "
      ]
     },
     "execution_count": 61,
     "metadata": {},
     "output_type": "execute_result"
    }
   ],
   "source": [
    "genres_df.groupby('genres').mean()"
   ]
  },
  {
   "cell_type": "markdown",
   "id": "2f63d70d",
   "metadata": {},
   "source": [
    "#### genres that made more money"
   ]
  },
  {
   "cell_type": "code",
   "execution_count": 62,
   "id": "5a28a603",
   "metadata": {},
   "outputs": [
    {
     "data": {
      "text/plain": [
       "genres\n",
       "Adventure          8.035860e+07\n",
       "Fantasy            6.948878e+07\n",
       "Animation          5.900653e+07\n",
       "Family             5.518814e+07\n",
       "Science Fiction    4.887963e+07\n",
       "Name: money_gain, dtype: float64"
      ]
     },
     "execution_count": 62,
     "metadata": {},
     "output_type": "execute_result"
    }
   ],
   "source": [
    "genres_money = genres_df.groupby('genres')['money_gain'].mean().sort_values(ascending=False).head(5)\n",
    "genres_money"
   ]
  },
  {
   "cell_type": "markdown",
   "id": "03227a2f",
   "metadata": {},
   "source": [
    "##### genres that have the most popularity "
   ]
  },
  {
   "cell_type": "code",
   "execution_count": 63,
   "id": "2b98a1dc",
   "metadata": {},
   "outputs": [
    {
     "data": {
      "text/plain": [
       "genres\n",
       "Adventure          1.209053\n",
       "Science Fiction    1.065278\n",
       "Fantasy            1.056310\n",
       "Action             0.968256\n",
       "Animation          0.914281\n",
       "Name: popularity, dtype: float64"
      ]
     },
     "execution_count": 63,
     "metadata": {},
     "output_type": "execute_result"
    }
   ],
   "source": [
    "genres_popularity = genres_df.groupby('genres')['popularity'].mean().sort_values(ascending=False).head(5)\n",
    "genres_popularity"
   ]
  },
  {
   "cell_type": "markdown",
   "id": "c96f099b",
   "metadata": {},
   "source": [
    "### favourite genres overtime"
   ]
  },
  {
   "cell_type": "code",
   "execution_count": 64,
   "id": "6246a0f1",
   "metadata": {},
   "outputs": [
    {
     "data": {
      "text/plain": [
       "movie_era  genres         \n",
       "60s        Action             6.132558\n",
       "           Adventure          6.289855\n",
       "           Animation          6.620000\n",
       "           Comedy             6.207500\n",
       "           Crime              6.440426\n",
       "                                ...   \n",
       "modern     Science Fiction    5.620905\n",
       "           TV Movie           5.667010\n",
       "           Thriller           5.625903\n",
       "           War                6.315827\n",
       "           Western            5.900000\n",
       "Name: vote_average, Length: 100, dtype: float64"
      ]
     },
     "execution_count": 64,
     "metadata": {},
     "output_type": "execute_result"
    }
   ],
   "source": [
    "genres_over_time = genres_df.groupby(['movie_era','genres'])['vote_average'].mean()\n",
    "genres_over_time"
   ]
  },
  {
   "cell_type": "code",
   "execution_count": 65,
   "id": "b58b7cb3",
   "metadata": {},
   "outputs": [
    {
     "data": {
      "text/plain": [
       "[genres\n",
       " Documentary    6.903571\n",
       " History        6.426901\n",
       " Music          6.404061\n",
       " Animation      6.358531\n",
       " War            6.315827\n",
       " Name: vote_average, dtype: float64,\n",
       " genres\n",
       " Documentary    6.771429\n",
       " Crime          6.669767\n",
       " Music          6.566667\n",
       " Drama          6.468400\n",
       " Animation      6.426667\n",
       " Name: vote_average, dtype: float64,\n",
       " genres\n",
       " Documentary    7.111111\n",
       " Music          6.442308\n",
       " History        6.371429\n",
       " War            6.370968\n",
       " Animation      6.368478\n",
       " Name: vote_average, dtype: float64,\n",
       " genres\n",
       " Documentary    7.757143\n",
       " Animation      6.731250\n",
       " History        6.564286\n",
       " Music          6.400000\n",
       " Western        6.327273\n",
       " Name: vote_average, dtype: float64,\n",
       " genres\n",
       " TV Movie       6.933333\n",
       " Documentary    6.880000\n",
       " Animation      6.620000\n",
       " Crime          6.440426\n",
       " Family         6.417500\n",
       " Name: vote_average, dtype: float64]"
      ]
     },
     "execution_count": 65,
     "metadata": {},
     "output_type": "execute_result"
    }
   ],
   "source": [
    "eras = []\n",
    "for era in df.movie_era.unique():\n",
    "    eras.append(genres_over_time[era].sort_values(ascending=False).head(5))\n",
    "eras"
   ]
  },
  {
   "cell_type": "code",
   "execution_count": 66,
   "id": "4f320f52",
   "metadata": {},
   "outputs": [
    {
     "data": {
      "text/plain": [
       "genres\n",
       "TV Movie       6.933333\n",
       "Documentary    6.880000\n",
       "Animation      6.620000\n",
       "Crime          6.440426\n",
       "Family         6.417500\n",
       "Name: vote_average, dtype: float64"
      ]
     },
     "execution_count": 66,
     "metadata": {},
     "output_type": "execute_result"
    }
   ],
   "source": [
    "genres_over_time['60s'].sort_values(ascending=False).head(5)"
   ]
  },
  {
   "cell_type": "markdown",
   "id": "455cf15b",
   "metadata": {},
   "source": [
    "<a id='results'></a>\n",
    "## communicating results"
   ]
  },
  {
   "cell_type": "markdown",
   "id": "8694cc84",
   "metadata": {},
   "source": [
    "### Q1: Does the amount of budget affect the rating of a movie?"
   ]
  },
  {
   "cell_type": "code",
   "execution_count": 67,
   "id": "22acbc7b",
   "metadata": {},
   "outputs": [
    {
     "data": {
      "text/plain": [
       "Text(0, 0.5, 'Movie Average Ratings')"
      ]
     },
     "execution_count": 67,
     "metadata": {},
     "output_type": "execute_result"
    },
    {
     "data": {
      "image/png": "[encoded data removed]",
      "text/plain": [
       "<Figure size 432x288 with 1 Axes>"
      ]
     },
     "metadata": {
      "needs_background": "light"
     },
     "output_type": "display_data"
    }
   ],
   "source": [
    "locations = [1, 2]\n",
    "heights = [budget_low.vote_average.mean(), budget_high.vote_average.mean()]\n",
    "labels = ['Low', 'High']\n",
    "plt.bar(locations, heights, tick_label=labels)\n",
    "plt.title('Average Movie Ratings by budget')\n",
    "plt.xlabel('Amount Of Budget')\n",
    "plt.ylabel('Movie Average Ratings')"
   ]
  },
  {
   "cell_type": "markdown",
   "id": "d3c9e11a",
   "metadata": {},
   "source": [
    "### Q2: does the duration of a movie affect the rating?"
   ]
  },
  {
   "cell_type": "code",
   "execution_count": 68,
   "id": "eae2935e",
   "metadata": {},
   "outputs": [
    {
     "data": {
      "text/plain": [
       "Text(0, 0.5, 'Movie Average Ratings')"
      ]
     },
     "execution_count": 68,
     "metadata": {},
     "output_type": "execute_result"
    },
    {
     "data": {
      "image/png": "[encoded data removed]",
      "text/plain": [
       "<Figure size 432x288 with 1 Axes>"
      ]
     },
     "metadata": {
      "needs_background": "light"
     },
     "output_type": "display_data"
    }
   ],
   "source": [
    "locations = [1, 2]\n",
    "heights = [low_duration.vote_average.mean(), high_duration.vote_average.mean()]\n",
    "labels = ['Low', 'High']\n",
    "plt.bar(locations, heights, tick_label=labels)\n",
    "plt.title('Average Movie Ratings by duration')\n",
    "plt.xlabel('duration of a movie')\n",
    "plt.ylabel('Movie Average Ratings')"
   ]
  },
  {
   "cell_type": "markdown",
   "id": "09e3b3ff",
   "metadata": {},
   "source": [
    "### Q3: what are the changes of different features of movies over the years?"
   ]
  },
  {
   "cell_type": "markdown",
   "id": "722559c0",
   "metadata": {},
   "source": [
    "##### Changes of popularity over the years"
   ]
  },
  {
   "cell_type": "code",
   "execution_count": 69,
   "id": "e5ce01f2",
   "metadata": {},
   "outputs": [
    {
     "name": "stderr",
     "output_type": "stream",
     "text": [
      "C:\\Users\\yousef.DESKTOP-PKSNIQM\\anaconda3\\lib\\site-packages\\matplotlib\\axes\\_base.py:405: FutureWarning: Support for multi-dimensional indexing (e.g. `obj[:, None]`) is deprecated and will be removed in a future version.  Convert to a numpy array before indexing instead.\n",
      "  x = x[:, np.newaxis]\n"
     ]
    },
    {
     "data": {
      "image/png": "[encoded data removed]",
      "text/plain": [
       "<Figure size 432x288 with 1 Axes>"
      ]
     },
     "metadata": {
      "needs_background": "light"
     },
     "output_type": "display_data"
    }
   ],
   "source": [
    "plt.plot(pop_over_years);\n",
    "plt.xlabel(\"Decades\")\n",
    "plt.ylabel(\"popularity metric\")\n",
    "plt.title(\"Changes of popularity over the years\");"
   ]
  },
  {
   "cell_type": "markdown",
   "id": "5e210707",
   "metadata": {},
   "source": [
    "##### Changes of movie budgets over the years"
   ]
  },
  {
   "cell_type": "code",
   "execution_count": 70,
   "id": "5c37a8ba",
   "metadata": {},
   "outputs": [
    {
     "data": {
      "image/png": "[encoded data removed]",
      "text/plain": [
       "<Figure size 432x288 with 1 Axes>"
      ]
     },
     "metadata": {
      "needs_background": "light"
     },
     "output_type": "display_data"
    }
   ],
   "source": [
    "plt.plot(budget_over_years);\n",
    "plt.xlabel(\"Decades\")\n",
    "plt.ylabel(\"budget amount\")\n",
    "plt.title(\"Changes of movie budgets over the years\");"
   ]
  },
  {
   "cell_type": "markdown",
   "id": "1892b1ff",
   "metadata": {},
   "source": [
    "##### Changes of movie revenues over the years"
   ]
  },
  {
   "cell_type": "code",
   "execution_count": 71,
   "id": "876eae1e",
   "metadata": {},
   "outputs": [
    {
     "data": {
      "image/png": "[encoded data removed]",
      "text/plain": [
       "<Figure size 432x288 with 1 Axes>"
      ]
     },
     "metadata": {
      "needs_background": "light"
     },
     "output_type": "display_data"
    }
   ],
   "source": [
    "plt.plot(rev_over_years);\n",
    "plt.xlabel(\"Decades\");\n",
    "plt.ylabel(\"Amount of revenues\");\n",
    "plt.title(\"Changes of movie revenues over the years\");"
   ]
  },
  {
   "cell_type": "markdown",
   "id": "cdb19145",
   "metadata": {},
   "source": [
    "##### Changes of movie durations over the years"
   ]
  },
  {
   "cell_type": "code",
   "execution_count": 72,
   "id": "012844db",
   "metadata": {},
   "outputs": [
    {
     "data": {
      "image/png": "[encoded data removed]",
      "text/plain": [
       "<Figure size 432x288 with 1 Axes>"
      ]
     },
     "metadata": {
      "needs_background": "light"
     },
     "output_type": "display_data"
    }
   ],
   "source": [
    "plt.plot(duration_over_years);\n",
    "plt.xlabel(\"Decades\");\n",
    "plt.ylabel(\"Average Duration of a movie\");\n",
    "plt.title(\"Changes of movie durations over the years\");"
   ]
  },
  {
   "cell_type": "markdown",
   "id": "68943bfe",
   "metadata": {},
   "source": [
    "##### Changes of movie ratings over the years"
   ]
  },
  {
   "cell_type": "code",
   "execution_count": 73,
   "id": "eb774264",
   "metadata": {},
   "outputs": [
    {
     "data": {
      "image/png": "[encoded data removed]",
      "text/plain": [
       "<Figure size 432x288 with 1 Axes>"
      ]
     },
     "metadata": {
      "needs_background": "light"
     },
     "output_type": "display_data"
    }
   ],
   "source": [
    "plt.plot(ratings);\n",
    "plt.xlabel(\"Decades\");\n",
    "plt.ylabel(\"Average movie ratings\");\n",
    "plt.title(\"Changes of movie ratings over the years\");"
   ]
  },
  {
   "cell_type": "code",
   "execution_count": 74,
   "id": "9db34142",
   "metadata": {},
   "outputs": [
    {
     "data": {
      "image/png": "[encoded data removed]",
      "text/plain": [
       "<Figure size 432x288 with 1 Axes>"
      ]
     },
     "metadata": {
      "needs_background": "light"
     },
     "output_type": "display_data"
    }
   ],
   "source": [
    "plt.plot(rating_proportions);\n",
    "plt.xlabel(\"Decades\");\n",
    "plt.ylabel(\"Average movie ratings Proportions\");\n",
    "plt.title(\"Changes of movie ratings proportions over the years\");"
   ]
  },
  {
   "cell_type": "markdown",
   "id": "4c73fa9e",
   "metadata": {},
   "source": [
    "### Q4: what are the movies with the most gains ?"
   ]
  },
  {
   "cell_type": "code",
   "execution_count": 75,
   "id": "168c56c2",
   "metadata": {},
   "outputs": [],
   "source": [
    "sns.set_theme(style=\"darkgrid\")"
   ]
  },
  {
   "cell_type": "code",
   "execution_count": 76,
   "id": "407ae998",
   "metadata": {},
   "outputs": [],
   "source": [
    "most_gains.original_title.loc[3] = most_gains.original_title.loc[3].split(':')[0];"
   ]
  },
  {
   "cell_type": "code",
   "execution_count": 77,
   "id": "f491f830",
   "metadata": {
    "scrolled": true
   },
   "outputs": [
    {
     "data": {
      "image/png": "[encoded data removed]",
      "text/plain": [
       "<Figure size 432x288 with 1 Axes>"
      ]
     },
     "metadata": {},
     "output_type": "display_data"
    }
   ],
   "source": [
    "locations = np.arange(0,len(most_gains));\n",
    "heights = most_gains.money_gain.values;\n",
    "labels = most_gains.original_title.values\n",
    "plt.bar(locations, heights, tick_label=labels);\n",
    "plt.title('Best Movie Gains',fontsize=15);\n",
    "plt.xlabel('Name of the movie',fontsize=15);\n",
    "plt.ylabel('money gained in billions',fontsize=15);\n",
    "plt.xticks(rotation=45);\n"
   ]
  },
  {
   "cell_type": "code",
   "execution_count": 78,
   "id": "c07f5a54",
   "metadata": {},
   "outputs": [
    {
     "data": {
      "image/png": "[encoded data removed]",
      "text/plain": [
       "<Figure size 432x288 with 1 Axes>"
      ]
     },
     "metadata": {},
     "output_type": "display_data"
    }
   ],
   "source": [
    "locations = np.arange(0,len(most_losses)*2,2)\n",
    "heights = abs(most_losses.money_gain.values)\n",
    "labels = most_losses.original_title.values\n",
    "plt.bar(locations, heights)\n",
    "plt.title('worst Movies Losses',fontsize=15)\n",
    "plt.xlabel('Name of the movie')\n",
    "plt.ylabel('money lost in hundred millions')\n",
    "plt.xticks(locations,labels, rotation=45,fontsize=15)\n",
    "matplotlib.rcParams['figure.figsize'] = [10, 10]"
   ]
  },
  {
   "cell_type": "markdown",
   "id": "593bc328",
   "metadata": {},
   "source": [
    "### Q5: what are the different statistics of genres? "
   ]
  },
  {
   "cell_type": "markdown",
   "id": "7f7be925",
   "metadata": {},
   "source": [
    "#### genres that made more money"
   ]
  },
  {
   "cell_type": "code",
   "execution_count": 79,
   "id": "d1e487f7",
   "metadata": {},
   "outputs": [
    {
     "data": {
      "image/png": "[encoded data removed]",
      "text/plain": [
       "<Figure size 720x720 with 1 Axes>"
      ]
     },
     "metadata": {},
     "output_type": "display_data"
    }
   ],
   "source": [
    "locations = np.arange(0,len(genres_money)*2,2)\n",
    "heights = genres_money.values\n",
    "labels = genres_money.index\n",
    "plt.bar(locations, heights)\n",
    "plt.title('most Money Gains Genres',fontsize=15)\n",
    "plt.xlabel('Genre name')\n",
    "plt.ylabel('money gained in hundred millions',fontsize=15)\n",
    "plt.xticks(locations,labels, rotation=45,fontsize=15)\n",
    "matplotlib.rcParams['figure.figsize'] = [10, 10]"
   ]
  },
  {
   "cell_type": "markdown",
   "id": "ab13667a",
   "metadata": {},
   "source": [
    "##### genres that have the most popularity "
   ]
  },
  {
   "cell_type": "code",
   "execution_count": 80,
   "id": "094a8620",
   "metadata": {},
   "outputs": [
    {
     "data": {
      "image/png": "[encoded data removed]",
      "text/plain": [
       "<Figure size 720x720 with 1 Axes>"
      ]
     },
     "metadata": {},
     "output_type": "display_data"
    }
   ],
   "source": [
    "locations = np.arange(0,len(genres_popularity)*2,2)\n",
    "heights = genres_popularity.values\n",
    "labels = genres_popularity.index\n",
    "plt.bar(locations, heights)\n",
    "plt.title('genres that have the most popularity ',fontsize=15)\n",
    "plt.xlabel('Genre name')\n",
    "plt.ylabel('Popularity metric',fontsize=15)\n",
    "plt.xticks(locations,labels, rotation=45,fontsize=15)\n",
    "matplotlib.rcParams['figure.figsize'] = [10, 10]"
   ]
  },
  {
   "cell_type": "markdown",
   "id": "c3ba7873",
   "metadata": {},
   "source": [
    "### favourite genres overtime"
   ]
  },
  {
   "cell_type": "code",
   "execution_count": 81,
   "id": "72c619e5",
   "metadata": {},
   "outputs": [
    {
     "data": {
      "text/plain": [
       "[genres\n",
       " Documentary    6.903571\n",
       " History        6.426901\n",
       " Music          6.404061\n",
       " Animation      6.358531\n",
       " War            6.315827\n",
       " Name: vote_average, dtype: float64,\n",
       " genres\n",
       " Documentary    6.771429\n",
       " Crime          6.669767\n",
       " Music          6.566667\n",
       " Drama          6.468400\n",
       " Animation      6.426667\n",
       " Name: vote_average, dtype: float64,\n",
       " genres\n",
       " Documentary    7.111111\n",
       " Music          6.442308\n",
       " History        6.371429\n",
       " War            6.370968\n",
       " Animation      6.368478\n",
       " Name: vote_average, dtype: float64,\n",
       " genres\n",
       " Documentary    7.757143\n",
       " Animation      6.731250\n",
       " History        6.564286\n",
       " Music          6.400000\n",
       " Western        6.327273\n",
       " Name: vote_average, dtype: float64,\n",
       " genres\n",
       " TV Movie       6.933333\n",
       " Documentary    6.880000\n",
       " Animation      6.620000\n",
       " Crime          6.440426\n",
       " Family         6.417500\n",
       " Name: vote_average, dtype: float64]"
      ]
     },
     "execution_count": 81,
     "metadata": {},
     "output_type": "execute_result"
    }
   ],
   "source": [
    "eras"
   ]
  },
  {
   "cell_type": "code",
   "execution_count": 82,
   "id": "8925b286",
   "metadata": {},
   "outputs": [
    {
     "data": {
      "text/plain": [
       "Text(0.5, 1.0, 'highest average genres ratings in the twenties')"
      ]
     },
     "execution_count": 82,
     "metadata": {},
     "output_type": "execute_result"
    },
    {
     "data": {
      "image/png": "[encoded data removed]",
      "text/plain": [
       "<Figure size 1080x2160 with 5 Axes>"
      ]
     },
     "metadata": {},
     "output_type": "display_data"
    }
   ],
   "source": [
    "fig, axes = plt.subplots(nrows=5,ncols=1,figsize=(15,30))\n",
    "\n",
    "for index, era in enumerate(eras):\n",
    "    axes[index].bar(eras[index].index,eras[index].values)\n",
    "    axes[index].set_xlabel(\"movie Genre\",fontsize=15)\n",
    "    axes[index].set_ylabel(\"average ratings\",fontsize=15)\n",
    "\n",
    "axes[0].set_title('highest average genres ratings in the 60s',fontsize=15)\n",
    "axes[1].set_title('highest average genres ratings in the 70s',fontsize=15)\n",
    "axes[2].set_title('highest average genres ratings in the 80s',fontsize=15)\n",
    "axes[3].set_title('highest average genres ratings in the 90s',fontsize=15)\n",
    "axes[4].set_title('highest average genres ratings in the twenties',fontsize=15)"
   ]
  }
 ],
 "metadata": {
  "kernelspec": {
   "display_name": "Python 3",
   "language": "python",
   "name": "python3"
  },
  "language_info": {
   "codemirror_mode": {
    "name": "ipython",
    "version": 3
   },
   "file_extension": ".py",
   "mimetype": "text/x-python",
   "name": "python",
   "nbconvert_exporter": "python",
   "pygments_lexer": "ipython3",
   "version": "3.8.8"
  }
 },
 "nbformat": 4,
 "nbformat_minor": 5
}
