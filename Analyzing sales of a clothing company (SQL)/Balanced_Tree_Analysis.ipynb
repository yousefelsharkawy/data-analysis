{
 "cells": [
  {
   "cell_type": "markdown",
   "metadata": {},
   "source": [
    "# Balanced Tree Clothing Company Analysis\n",
    " \n",
    "In this Notebook, we will analyze the Balanced Tree Clothing Company dataset. The dataset contains the sales data of the company using SQL. \n",
    "\n",
    "we will utilize the following SQL skills \n",
    "- Compounded Self Joins \n",
    "- Multiple Join types \n",
    "- Aggregating data\n",
    "- cleaning and formatting data \n",
    "- Common Table Expressions (CTEs)\n",
    "- Creating Views\n",
    "- Nested Queries \n",
    "- Creating Value Combinations\n",
    "- Data Visualization "
   ]
  },
  {
   "cell_type": "code",
   "execution_count": 1,
   "metadata": {},
   "outputs": [],
   "source": [
    "!sqlite3 clothing_company.sqlite < clothing_company.sql"
   ]
  },
  {
   "cell_type": "markdown",
   "metadata": {},
   "source": [
    "## Relevant Imports"
   ]
  },
  {
   "cell_type": "code",
   "execution_count": 96,
   "metadata": {},
   "outputs": [],
   "source": [
    "import sqlite3 as sql3\n",
    "import pandas as pd\n",
    "import matplotlib.pyplot as plt"
   ]
  },
  {
   "cell_type": "markdown",
   "metadata": {},
   "source": [
    "## Creating a database connection"
   ]
  },
  {
   "cell_type": "code",
   "execution_count": 3,
   "metadata": {},
   "outputs": [],
   "source": [
    "database = 'clothing_company.sqlite'\n",
    "connection = sql3.connect(database)\n",
    "cursor = connection.cursor()"
   ]
  },
  {
   "cell_type": "code",
   "execution_count": 4,
   "metadata": {},
   "outputs": [
    {
     "data": {
      "text/plain": [
       "[('product_hierarchy',), ('product_prices',), ('sales',)]"
      ]
     },
     "execution_count": 4,
     "metadata": {},
     "output_type": "execute_result"
    }
   ],
   "source": [
    "# list all tables in the database\n",
    "cursor.execute(\"SELECT name FROM sqlite_master WHERE type='table' \").fetchall()"
   ]
  },
  {
   "cell_type": "markdown",
   "metadata": {},
   "source": [
    "## Tables in the database"
   ]
  },
  {
   "cell_type": "markdown",
   "metadata": {},
   "source": [
    "### Product hierarchy"
   ]
  },
  {
   "cell_type": "code",
   "execution_count": 5,
   "metadata": {},
   "outputs": [
    {
     "data": {
      "text/html": [
       "<div>\n",
       "<style scoped>\n",
       "    .dataframe tbody tr th:only-of-type {\n",
       "        vertical-align: middle;\n",
       "    }\n",
       "\n",
       "    .dataframe tbody tr th {\n",
       "        vertical-align: top;\n",
       "    }\n",
       "\n",
       "    .dataframe thead th {\n",
       "        text-align: right;\n",
       "    }\n",
       "</style>\n",
       "<table border=\"1\" class=\"dataframe\">\n",
       "  <thead>\n",
       "    <tr style=\"text-align: right;\">\n",
       "      <th></th>\n",
       "      <th>parent_id</th>\n",
       "      <th>level_text</th>\n",
       "      <th>level_name</th>\n",
       "    </tr>\n",
       "    <tr>\n",
       "      <th>id</th>\n",
       "      <th></th>\n",
       "      <th></th>\n",
       "      <th></th>\n",
       "    </tr>\n",
       "  </thead>\n",
       "  <tbody>\n",
       "    <tr>\n",
       "      <th>1</th>\n",
       "      <td>NaN</td>\n",
       "      <td>Womens</td>\n",
       "      <td>Category</td>\n",
       "    </tr>\n",
       "    <tr>\n",
       "      <th>2</th>\n",
       "      <td>NaN</td>\n",
       "      <td>Mens</td>\n",
       "      <td>Category</td>\n",
       "    </tr>\n",
       "    <tr>\n",
       "      <th>3</th>\n",
       "      <td>1.0</td>\n",
       "      <td>Jeans</td>\n",
       "      <td>Segment</td>\n",
       "    </tr>\n",
       "    <tr>\n",
       "      <th>4</th>\n",
       "      <td>1.0</td>\n",
       "      <td>Jacket</td>\n",
       "      <td>Segment</td>\n",
       "    </tr>\n",
       "    <tr>\n",
       "      <th>5</th>\n",
       "      <td>2.0</td>\n",
       "      <td>Shirt</td>\n",
       "      <td>Segment</td>\n",
       "    </tr>\n",
       "    <tr>\n",
       "      <th>6</th>\n",
       "      <td>2.0</td>\n",
       "      <td>Socks</td>\n",
       "      <td>Segment</td>\n",
       "    </tr>\n",
       "    <tr>\n",
       "      <th>7</th>\n",
       "      <td>3.0</td>\n",
       "      <td>Navy Oversized</td>\n",
       "      <td>Style</td>\n",
       "    </tr>\n",
       "    <tr>\n",
       "      <th>8</th>\n",
       "      <td>3.0</td>\n",
       "      <td>Black Straight</td>\n",
       "      <td>Style</td>\n",
       "    </tr>\n",
       "    <tr>\n",
       "      <th>9</th>\n",
       "      <td>3.0</td>\n",
       "      <td>Cream Relaxed</td>\n",
       "      <td>Style</td>\n",
       "    </tr>\n",
       "    <tr>\n",
       "      <th>10</th>\n",
       "      <td>4.0</td>\n",
       "      <td>Khaki Suit</td>\n",
       "      <td>Style</td>\n",
       "    </tr>\n",
       "    <tr>\n",
       "      <th>11</th>\n",
       "      <td>4.0</td>\n",
       "      <td>Indigo Rain</td>\n",
       "      <td>Style</td>\n",
       "    </tr>\n",
       "    <tr>\n",
       "      <th>12</th>\n",
       "      <td>4.0</td>\n",
       "      <td>Grey Fashion</td>\n",
       "      <td>Style</td>\n",
       "    </tr>\n",
       "    <tr>\n",
       "      <th>13</th>\n",
       "      <td>5.0</td>\n",
       "      <td>White Tee</td>\n",
       "      <td>Style</td>\n",
       "    </tr>\n",
       "    <tr>\n",
       "      <th>14</th>\n",
       "      <td>5.0</td>\n",
       "      <td>Teal Button Up</td>\n",
       "      <td>Style</td>\n",
       "    </tr>\n",
       "    <tr>\n",
       "      <th>15</th>\n",
       "      <td>5.0</td>\n",
       "      <td>Blue Polo</td>\n",
       "      <td>Style</td>\n",
       "    </tr>\n",
       "    <tr>\n",
       "      <th>16</th>\n",
       "      <td>6.0</td>\n",
       "      <td>Navy Solid</td>\n",
       "      <td>Style</td>\n",
       "    </tr>\n",
       "    <tr>\n",
       "      <th>17</th>\n",
       "      <td>6.0</td>\n",
       "      <td>White Striped</td>\n",
       "      <td>Style</td>\n",
       "    </tr>\n",
       "    <tr>\n",
       "      <th>18</th>\n",
       "      <td>6.0</td>\n",
       "      <td>Pink Fluro Polkadot</td>\n",
       "      <td>Style</td>\n",
       "    </tr>\n",
       "  </tbody>\n",
       "</table>\n",
       "</div>"
      ],
      "text/plain": [
       "    parent_id           level_text level_name\n",
       "id                                           \n",
       "1         NaN               Womens   Category\n",
       "2         NaN                 Mens   Category\n",
       "3         1.0                Jeans    Segment\n",
       "4         1.0               Jacket    Segment\n",
       "5         2.0                Shirt    Segment\n",
       "6         2.0                Socks    Segment\n",
       "7         3.0       Navy Oversized      Style\n",
       "8         3.0       Black Straight      Style\n",
       "9         3.0        Cream Relaxed      Style\n",
       "10        4.0           Khaki Suit      Style\n",
       "11        4.0          Indigo Rain      Style\n",
       "12        4.0         Grey Fashion      Style\n",
       "13        5.0            White Tee      Style\n",
       "14        5.0       Teal Button Up      Style\n",
       "15        5.0            Blue Polo      Style\n",
       "16        6.0           Navy Solid      Style\n",
       "17        6.0        White Striped      Style\n",
       "18        6.0  Pink Fluro Polkadot      Style"
      ]
     },
     "execution_count": 5,
     "metadata": {},
     "output_type": "execute_result"
    }
   ],
   "source": [
    "# see the first few rows of the table and return the result as a pandas dataframe\n",
    "product_hierarchy = pd.read_sql_query(\"SELECT * FROM product_hierarchy\", connection, index_col='id')\n",
    "product_hierarchy"
   ]
  },
  {
   "cell_type": "markdown",
   "metadata": {},
   "source": [
    "### Product Prices"
   ]
  },
  {
   "cell_type": "code",
   "execution_count": 6,
   "metadata": {},
   "outputs": [
    {
     "data": {
      "text/html": [
       "<div>\n",
       "<style scoped>\n",
       "    .dataframe tbody tr th:only-of-type {\n",
       "        vertical-align: middle;\n",
       "    }\n",
       "\n",
       "    .dataframe tbody tr th {\n",
       "        vertical-align: top;\n",
       "    }\n",
       "\n",
       "    .dataframe thead th {\n",
       "        text-align: right;\n",
       "    }\n",
       "</style>\n",
       "<table border=\"1\" class=\"dataframe\">\n",
       "  <thead>\n",
       "    <tr style=\"text-align: right;\">\n",
       "      <th></th>\n",
       "      <th>product_id</th>\n",
       "      <th>price</th>\n",
       "    </tr>\n",
       "    <tr>\n",
       "      <th>id</th>\n",
       "      <th></th>\n",
       "      <th></th>\n",
       "    </tr>\n",
       "  </thead>\n",
       "  <tbody>\n",
       "    <tr>\n",
       "      <th>7</th>\n",
       "      <td>c4a632</td>\n",
       "      <td>13</td>\n",
       "    </tr>\n",
       "    <tr>\n",
       "      <th>8</th>\n",
       "      <td>e83aa3</td>\n",
       "      <td>32</td>\n",
       "    </tr>\n",
       "    <tr>\n",
       "      <th>9</th>\n",
       "      <td>e31d39</td>\n",
       "      <td>10</td>\n",
       "    </tr>\n",
       "    <tr>\n",
       "      <th>10</th>\n",
       "      <td>d5e9a6</td>\n",
       "      <td>23</td>\n",
       "    </tr>\n",
       "    <tr>\n",
       "      <th>11</th>\n",
       "      <td>72f5d4</td>\n",
       "      <td>19</td>\n",
       "    </tr>\n",
       "    <tr>\n",
       "      <th>12</th>\n",
       "      <td>9ec847</td>\n",
       "      <td>54</td>\n",
       "    </tr>\n",
       "    <tr>\n",
       "      <th>13</th>\n",
       "      <td>5d267b</td>\n",
       "      <td>40</td>\n",
       "    </tr>\n",
       "    <tr>\n",
       "      <th>14</th>\n",
       "      <td>c8d436</td>\n",
       "      <td>10</td>\n",
       "    </tr>\n",
       "    <tr>\n",
       "      <th>15</th>\n",
       "      <td>2a2353</td>\n",
       "      <td>57</td>\n",
       "    </tr>\n",
       "    <tr>\n",
       "      <th>16</th>\n",
       "      <td>f084eb</td>\n",
       "      <td>36</td>\n",
       "    </tr>\n",
       "    <tr>\n",
       "      <th>17</th>\n",
       "      <td>b9a74d</td>\n",
       "      <td>17</td>\n",
       "    </tr>\n",
       "    <tr>\n",
       "      <th>18</th>\n",
       "      <td>2feb6b</td>\n",
       "      <td>29</td>\n",
       "    </tr>\n",
       "  </tbody>\n",
       "</table>\n",
       "</div>"
      ],
      "text/plain": [
       "   product_id  price\n",
       "id                  \n",
       "7      c4a632     13\n",
       "8      e83aa3     32\n",
       "9      e31d39     10\n",
       "10     d5e9a6     23\n",
       "11     72f5d4     19\n",
       "12     9ec847     54\n",
       "13     5d267b     40\n",
       "14     c8d436     10\n",
       "15     2a2353     57\n",
       "16     f084eb     36\n",
       "17     b9a74d     17\n",
       "18     2feb6b     29"
      ]
     },
     "execution_count": 6,
     "metadata": {},
     "output_type": "execute_result"
    }
   ],
   "source": [
    "product_prices = pd.read_sql_query(\"SELECT * FROM product_prices\", connection, index_col='id')\n",
    "\n",
    "product_prices"
   ]
  },
  {
   "cell_type": "markdown",
   "metadata": {},
   "source": [
    "### sales"
   ]
  },
  {
   "cell_type": "code",
   "execution_count": 7,
   "metadata": {},
   "outputs": [
    {
     "data": {
      "text/html": [
       "<div>\n",
       "<style scoped>\n",
       "    .dataframe tbody tr th:only-of-type {\n",
       "        vertical-align: middle;\n",
       "    }\n",
       "\n",
       "    .dataframe tbody tr th {\n",
       "        vertical-align: top;\n",
       "    }\n",
       "\n",
       "    .dataframe thead th {\n",
       "        text-align: right;\n",
       "    }\n",
       "</style>\n",
       "<table border=\"1\" class=\"dataframe\">\n",
       "  <thead>\n",
       "    <tr style=\"text-align: right;\">\n",
       "      <th></th>\n",
       "      <th>qty</th>\n",
       "      <th>price</th>\n",
       "      <th>discount</th>\n",
       "      <th>member</th>\n",
       "      <th>txn_id</th>\n",
       "      <th>start_txn_time</th>\n",
       "    </tr>\n",
       "    <tr>\n",
       "      <th>prod_id</th>\n",
       "      <th></th>\n",
       "      <th></th>\n",
       "      <th></th>\n",
       "      <th></th>\n",
       "      <th></th>\n",
       "      <th></th>\n",
       "    </tr>\n",
       "  </thead>\n",
       "  <tbody>\n",
       "    <tr>\n",
       "      <th>c4a632</th>\n",
       "      <td>4</td>\n",
       "      <td>13</td>\n",
       "      <td>17</td>\n",
       "      <td>t</td>\n",
       "      <td>54f307</td>\n",
       "      <td>2021-02-13 01:59:43.296</td>\n",
       "    </tr>\n",
       "    <tr>\n",
       "      <th>5d267b</th>\n",
       "      <td>4</td>\n",
       "      <td>40</td>\n",
       "      <td>17</td>\n",
       "      <td>t</td>\n",
       "      <td>54f307</td>\n",
       "      <td>2021-02-13 01:59:43.296</td>\n",
       "    </tr>\n",
       "    <tr>\n",
       "      <th>b9a74d</th>\n",
       "      <td>4</td>\n",
       "      <td>17</td>\n",
       "      <td>17</td>\n",
       "      <td>t</td>\n",
       "      <td>54f307</td>\n",
       "      <td>2021-02-13 01:59:43.296</td>\n",
       "    </tr>\n",
       "    <tr>\n",
       "      <th>2feb6b</th>\n",
       "      <td>2</td>\n",
       "      <td>29</td>\n",
       "      <td>17</td>\n",
       "      <td>t</td>\n",
       "      <td>54f307</td>\n",
       "      <td>2021-02-13 01:59:43.296</td>\n",
       "    </tr>\n",
       "    <tr>\n",
       "      <th>c4a632</th>\n",
       "      <td>5</td>\n",
       "      <td>13</td>\n",
       "      <td>21</td>\n",
       "      <td>t</td>\n",
       "      <td>26cc98</td>\n",
       "      <td>2021-01-19 01:39:00.3456</td>\n",
       "    </tr>\n",
       "  </tbody>\n",
       "</table>\n",
       "</div>"
      ],
      "text/plain": [
       "         qty  price  discount member  txn_id            start_txn_time\n",
       "prod_id                                                               \n",
       "c4a632     4     13        17      t  54f307   2021-02-13 01:59:43.296\n",
       "5d267b     4     40        17      t  54f307   2021-02-13 01:59:43.296\n",
       "b9a74d     4     17        17      t  54f307   2021-02-13 01:59:43.296\n",
       "2feb6b     2     29        17      t  54f307   2021-02-13 01:59:43.296\n",
       "c4a632     5     13        21      t  26cc98  2021-01-19 01:39:00.3456"
      ]
     },
     "execution_count": 7,
     "metadata": {},
     "output_type": "execute_result"
    }
   ],
   "source": [
    "sales = pd.read_sql_query(\"SELECT * FROM sales\", connection, index_col='prod_id')\n",
    "sales.head()"
   ]
  },
  {
   "cell_type": "code",
   "execution_count": 8,
   "metadata": {},
   "outputs": [
    {
     "data": {
      "text/plain": [
       "(15095, 6)"
      ]
     },
     "execution_count": 8,
     "metadata": {},
     "output_type": "execute_result"
    }
   ],
   "source": [
    "sales.shape"
   ]
  },
  {
   "cell_type": "markdown",
   "metadata": {},
   "source": [
    "## Creating Product details\n",
    "- the above table `product_hierarchy`, The information in a hierarchical format\n",
    "1. Top of the hierarchy is the **Category**: whther the product is for men or women\n",
    "2. Next level in the hierarchy is the **Segment**, which lists the different types of clothing for each **Category**\n",
    "3. The next level is the **Style**, which lists the products themselves in different styles under each **Segment**\n",
    "\n",
    "- In the table `product_prices`, we have the prices of each product on the **Style** level in `product_hierarchy` table\n",
    "\n",
    " \n",
    "We want to make this information in a format that is much easier to work with. We will create a table `product_details` as follows:\n",
    "| product_id | price | product_name | category_id | segment_id | style_id | category_name | segment_name | style_name |\n",
    "|------------|-------|--------------|-------------|------------|----------|---------------|--------------|------------|\n",
    "| c4a632     | 13    | Navy Oversized Jeans - Womens | 1 | 3 | 7 | Womens | Jeans | Navy Oversized |\n",
    "| e83aa3     | 32    | Black Straight Jeans - Womens | 1 | 3 | 8 | Womens | Jeans | Black Straight |\n",
    "\n",
    "We will assign each product to its corresponding category and segment. As well as associating each product with its corresponding price."
   ]
  },
  {
   "cell_type": "code",
   "execution_count": 9,
   "metadata": {},
   "outputs": [
    {
     "data": {
      "text/html": [
       "<div>\n",
       "<style scoped>\n",
       "    .dataframe tbody tr th:only-of-type {\n",
       "        vertical-align: middle;\n",
       "    }\n",
       "\n",
       "    .dataframe tbody tr th {\n",
       "        vertical-align: top;\n",
       "    }\n",
       "\n",
       "    .dataframe thead th {\n",
       "        text-align: right;\n",
       "    }\n",
       "</style>\n",
       "<table border=\"1\" class=\"dataframe\">\n",
       "  <thead>\n",
       "    <tr style=\"text-align: right;\">\n",
       "      <th></th>\n",
       "      <th>id</th>\n",
       "      <th>parent_id</th>\n",
       "      <th>product_id</th>\n",
       "      <th>price</th>\n",
       "      <th>style_name</th>\n",
       "      <th>style_id</th>\n",
       "    </tr>\n",
       "  </thead>\n",
       "  <tbody>\n",
       "    <tr>\n",
       "      <th>0</th>\n",
       "      <td>7</td>\n",
       "      <td>3</td>\n",
       "      <td>c4a632</td>\n",
       "      <td>13</td>\n",
       "      <td>Navy Oversized</td>\n",
       "      <td>7</td>\n",
       "    </tr>\n",
       "    <tr>\n",
       "      <th>1</th>\n",
       "      <td>8</td>\n",
       "      <td>3</td>\n",
       "      <td>e83aa3</td>\n",
       "      <td>32</td>\n",
       "      <td>Black Straight</td>\n",
       "      <td>8</td>\n",
       "    </tr>\n",
       "    <tr>\n",
       "      <th>2</th>\n",
       "      <td>9</td>\n",
       "      <td>3</td>\n",
       "      <td>e31d39</td>\n",
       "      <td>10</td>\n",
       "      <td>Cream Relaxed</td>\n",
       "      <td>9</td>\n",
       "    </tr>\n",
       "    <tr>\n",
       "      <th>3</th>\n",
       "      <td>10</td>\n",
       "      <td>4</td>\n",
       "      <td>d5e9a6</td>\n",
       "      <td>23</td>\n",
       "      <td>Khaki Suit</td>\n",
       "      <td>10</td>\n",
       "    </tr>\n",
       "    <tr>\n",
       "      <th>4</th>\n",
       "      <td>11</td>\n",
       "      <td>4</td>\n",
       "      <td>72f5d4</td>\n",
       "      <td>19</td>\n",
       "      <td>Indigo Rain</td>\n",
       "      <td>11</td>\n",
       "    </tr>\n",
       "    <tr>\n",
       "      <th>5</th>\n",
       "      <td>12</td>\n",
       "      <td>4</td>\n",
       "      <td>9ec847</td>\n",
       "      <td>54</td>\n",
       "      <td>Grey Fashion</td>\n",
       "      <td>12</td>\n",
       "    </tr>\n",
       "    <tr>\n",
       "      <th>6</th>\n",
       "      <td>13</td>\n",
       "      <td>5</td>\n",
       "      <td>5d267b</td>\n",
       "      <td>40</td>\n",
       "      <td>White Tee</td>\n",
       "      <td>13</td>\n",
       "    </tr>\n",
       "    <tr>\n",
       "      <th>7</th>\n",
       "      <td>14</td>\n",
       "      <td>5</td>\n",
       "      <td>c8d436</td>\n",
       "      <td>10</td>\n",
       "      <td>Teal Button Up</td>\n",
       "      <td>14</td>\n",
       "    </tr>\n",
       "    <tr>\n",
       "      <th>8</th>\n",
       "      <td>15</td>\n",
       "      <td>5</td>\n",
       "      <td>2a2353</td>\n",
       "      <td>57</td>\n",
       "      <td>Blue Polo</td>\n",
       "      <td>15</td>\n",
       "    </tr>\n",
       "    <tr>\n",
       "      <th>9</th>\n",
       "      <td>16</td>\n",
       "      <td>6</td>\n",
       "      <td>f084eb</td>\n",
       "      <td>36</td>\n",
       "      <td>Navy Solid</td>\n",
       "      <td>16</td>\n",
       "    </tr>\n",
       "    <tr>\n",
       "      <th>10</th>\n",
       "      <td>17</td>\n",
       "      <td>6</td>\n",
       "      <td>b9a74d</td>\n",
       "      <td>17</td>\n",
       "      <td>White Striped</td>\n",
       "      <td>17</td>\n",
       "    </tr>\n",
       "    <tr>\n",
       "      <th>11</th>\n",
       "      <td>18</td>\n",
       "      <td>6</td>\n",
       "      <td>2feb6b</td>\n",
       "      <td>29</td>\n",
       "      <td>Pink Fluro Polkadot</td>\n",
       "      <td>18</td>\n",
       "    </tr>\n",
       "  </tbody>\n",
       "</table>\n",
       "</div>"
      ],
      "text/plain": [
       "    id  parent_id product_id  price           style_name  style_id\n",
       "0    7          3     c4a632     13       Navy Oversized         7\n",
       "1    8          3     e83aa3     32       Black Straight         8\n",
       "2    9          3     e31d39     10        Cream Relaxed         9\n",
       "3   10          4     d5e9a6     23           Khaki Suit        10\n",
       "4   11          4     72f5d4     19          Indigo Rain        11\n",
       "5   12          4     9ec847     54         Grey Fashion        12\n",
       "6   13          5     5d267b     40            White Tee        13\n",
       "7   14          5     c8d436     10       Teal Button Up        14\n",
       "8   15          5     2a2353     57            Blue Polo        15\n",
       "9   16          6     f084eb     36           Navy Solid        16\n",
       "10  17          6     b9a74d     17        White Striped        17\n",
       "11  18          6     2feb6b     29  Pink Fluro Polkadot        18"
      ]
     },
     "execution_count": 9,
     "metadata": {},
     "output_type": "execute_result"
    }
   ],
   "source": [
    "product_details_sql = \"\"\"\n",
    "SELECT h.id, h.parent_id, p.product_id, p.price, h.level_text AS style_name, h.id AS style_id\n",
    "FROM product_prices AS p\n",
    "LEFT JOIN product_hierarchy AS h\n",
    "ON p.id = h.id\n",
    "\"\"\"\n",
    "product_details = pd.read_sql_query(product_details_sql, connection)\n",
    "product_details"
   ]
  },
  {
   "cell_type": "markdown",
   "metadata": {},
   "source": [
    "The above table contains each product and its corresponding price, we will join it on the `product_hierarchy` again to get the segment "
   ]
  },
  {
   "cell_type": "code",
   "execution_count": 10,
   "metadata": {},
   "outputs": [
    {
     "data": {
      "text/html": [
       "<div>\n",
       "<style scoped>\n",
       "    .dataframe tbody tr th:only-of-type {\n",
       "        vertical-align: middle;\n",
       "    }\n",
       "\n",
       "    .dataframe tbody tr th {\n",
       "        vertical-align: top;\n",
       "    }\n",
       "\n",
       "    .dataframe thead th {\n",
       "        text-align: right;\n",
       "    }\n",
       "</style>\n",
       "<table border=\"1\" class=\"dataframe\">\n",
       "  <thead>\n",
       "    <tr style=\"text-align: right;\">\n",
       "      <th></th>\n",
       "      <th>id</th>\n",
       "      <th>parent_id</th>\n",
       "      <th>product_id</th>\n",
       "      <th>price</th>\n",
       "      <th>style_name</th>\n",
       "      <th>style_id</th>\n",
       "      <th>segment_name</th>\n",
       "      <th>segment_id</th>\n",
       "    </tr>\n",
       "  </thead>\n",
       "  <tbody>\n",
       "    <tr>\n",
       "      <th>0</th>\n",
       "      <td>3</td>\n",
       "      <td>1</td>\n",
       "      <td>c4a632</td>\n",
       "      <td>13</td>\n",
       "      <td>Navy Oversized</td>\n",
       "      <td>7</td>\n",
       "      <td>Jeans</td>\n",
       "      <td>3</td>\n",
       "    </tr>\n",
       "    <tr>\n",
       "      <th>1</th>\n",
       "      <td>3</td>\n",
       "      <td>1</td>\n",
       "      <td>e83aa3</td>\n",
       "      <td>32</td>\n",
       "      <td>Black Straight</td>\n",
       "      <td>8</td>\n",
       "      <td>Jeans</td>\n",
       "      <td>3</td>\n",
       "    </tr>\n",
       "    <tr>\n",
       "      <th>2</th>\n",
       "      <td>3</td>\n",
       "      <td>1</td>\n",
       "      <td>e31d39</td>\n",
       "      <td>10</td>\n",
       "      <td>Cream Relaxed</td>\n",
       "      <td>9</td>\n",
       "      <td>Jeans</td>\n",
       "      <td>3</td>\n",
       "    </tr>\n",
       "    <tr>\n",
       "      <th>3</th>\n",
       "      <td>4</td>\n",
       "      <td>1</td>\n",
       "      <td>d5e9a6</td>\n",
       "      <td>23</td>\n",
       "      <td>Khaki Suit</td>\n",
       "      <td>10</td>\n",
       "      <td>Jacket</td>\n",
       "      <td>4</td>\n",
       "    </tr>\n",
       "    <tr>\n",
       "      <th>4</th>\n",
       "      <td>4</td>\n",
       "      <td>1</td>\n",
       "      <td>72f5d4</td>\n",
       "      <td>19</td>\n",
       "      <td>Indigo Rain</td>\n",
       "      <td>11</td>\n",
       "      <td>Jacket</td>\n",
       "      <td>4</td>\n",
       "    </tr>\n",
       "    <tr>\n",
       "      <th>5</th>\n",
       "      <td>4</td>\n",
       "      <td>1</td>\n",
       "      <td>9ec847</td>\n",
       "      <td>54</td>\n",
       "      <td>Grey Fashion</td>\n",
       "      <td>12</td>\n",
       "      <td>Jacket</td>\n",
       "      <td>4</td>\n",
       "    </tr>\n",
       "    <tr>\n",
       "      <th>6</th>\n",
       "      <td>5</td>\n",
       "      <td>2</td>\n",
       "      <td>5d267b</td>\n",
       "      <td>40</td>\n",
       "      <td>White Tee</td>\n",
       "      <td>13</td>\n",
       "      <td>Shirt</td>\n",
       "      <td>5</td>\n",
       "    </tr>\n",
       "    <tr>\n",
       "      <th>7</th>\n",
       "      <td>5</td>\n",
       "      <td>2</td>\n",
       "      <td>c8d436</td>\n",
       "      <td>10</td>\n",
       "      <td>Teal Button Up</td>\n",
       "      <td>14</td>\n",
       "      <td>Shirt</td>\n",
       "      <td>5</td>\n",
       "    </tr>\n",
       "    <tr>\n",
       "      <th>8</th>\n",
       "      <td>5</td>\n",
       "      <td>2</td>\n",
       "      <td>2a2353</td>\n",
       "      <td>57</td>\n",
       "      <td>Blue Polo</td>\n",
       "      <td>15</td>\n",
       "      <td>Shirt</td>\n",
       "      <td>5</td>\n",
       "    </tr>\n",
       "    <tr>\n",
       "      <th>9</th>\n",
       "      <td>6</td>\n",
       "      <td>2</td>\n",
       "      <td>f084eb</td>\n",
       "      <td>36</td>\n",
       "      <td>Navy Solid</td>\n",
       "      <td>16</td>\n",
       "      <td>Socks</td>\n",
       "      <td>6</td>\n",
       "    </tr>\n",
       "    <tr>\n",
       "      <th>10</th>\n",
       "      <td>6</td>\n",
       "      <td>2</td>\n",
       "      <td>b9a74d</td>\n",
       "      <td>17</td>\n",
       "      <td>White Striped</td>\n",
       "      <td>17</td>\n",
       "      <td>Socks</td>\n",
       "      <td>6</td>\n",
       "    </tr>\n",
       "    <tr>\n",
       "      <th>11</th>\n",
       "      <td>6</td>\n",
       "      <td>2</td>\n",
       "      <td>2feb6b</td>\n",
       "      <td>29</td>\n",
       "      <td>Pink Fluro Polkadot</td>\n",
       "      <td>18</td>\n",
       "      <td>Socks</td>\n",
       "      <td>6</td>\n",
       "    </tr>\n",
       "  </tbody>\n",
       "</table>\n",
       "</div>"
      ],
      "text/plain": [
       "    id  parent_id product_id  price           style_name  style_id  \\\n",
       "0    3          1     c4a632     13       Navy Oversized         7   \n",
       "1    3          1     e83aa3     32       Black Straight         8   \n",
       "2    3          1     e31d39     10        Cream Relaxed         9   \n",
       "3    4          1     d5e9a6     23           Khaki Suit        10   \n",
       "4    4          1     72f5d4     19          Indigo Rain        11   \n",
       "5    4          1     9ec847     54         Grey Fashion        12   \n",
       "6    5          2     5d267b     40            White Tee        13   \n",
       "7    5          2     c8d436     10       Teal Button Up        14   \n",
       "8    5          2     2a2353     57            Blue Polo        15   \n",
       "9    6          2     f084eb     36           Navy Solid        16   \n",
       "10   6          2     b9a74d     17        White Striped        17   \n",
       "11   6          2     2feb6b     29  Pink Fluro Polkadot        18   \n",
       "\n",
       "   segment_name  segment_id  \n",
       "0         Jeans           3  \n",
       "1         Jeans           3  \n",
       "2         Jeans           3  \n",
       "3        Jacket           4  \n",
       "4        Jacket           4  \n",
       "5        Jacket           4  \n",
       "6         Shirt           5  \n",
       "7         Shirt           5  \n",
       "8         Shirt           5  \n",
       "9         Socks           6  \n",
       "10        Socks           6  \n",
       "11        Socks           6  "
      ]
     },
     "execution_count": 10,
     "metadata": {},
     "output_type": "execute_result"
    }
   ],
   "source": [
    "product_details_sql = \"\"\"\n",
    "WITH product_price_style AS (\n",
    "SELECT h.id, h.parent_id, p.product_id, p.price, h.level_text AS style_name, h.id AS style_id\n",
    "FROM product_prices AS p\n",
    "LEFT JOIN product_hierarchy AS h\n",
    "ON p.id = h.id\n",
    ")\n",
    "\n",
    "SELECT ps.parent_id AS id, h.parent_id, ps.product_id, ps.price, ps.style_name, ps.style_id, h.level_text AS segment_name, ps.parent_id AS segment_id\n",
    "FROM product_price_style AS ps\n",
    "LEFT JOIN product_hierarchy AS h\n",
    "ON ps.parent_id = h.id\n",
    "\"\"\"\n",
    "product_details = pd.read_sql_query(product_details_sql, connection)\n",
    "product_details"
   ]
  },
  {
   "cell_type": "markdown",
   "metadata": {},
   "source": [
    "- Now the above product contains each product, its price and its segment, we will join it again a final time on itself to get the category"
   ]
  },
  {
   "cell_type": "code",
   "execution_count": 11,
   "metadata": {},
   "outputs": [
    {
     "data": {
      "text/html": [
       "<div>\n",
       "<style scoped>\n",
       "    .dataframe tbody tr th:only-of-type {\n",
       "        vertical-align: middle;\n",
       "    }\n",
       "\n",
       "    .dataframe tbody tr th {\n",
       "        vertical-align: top;\n",
       "    }\n",
       "\n",
       "    .dataframe thead th {\n",
       "        text-align: right;\n",
       "    }\n",
       "</style>\n",
       "<table border=\"1\" class=\"dataframe\">\n",
       "  <thead>\n",
       "    <tr style=\"text-align: right;\">\n",
       "      <th></th>\n",
       "      <th>price</th>\n",
       "      <th>product_name</th>\n",
       "      <th>category_id</th>\n",
       "      <th>segment_id</th>\n",
       "      <th>style_id</th>\n",
       "      <th>category_name</th>\n",
       "      <th>segment_name</th>\n",
       "      <th>style_name</th>\n",
       "    </tr>\n",
       "    <tr>\n",
       "      <th>product_id</th>\n",
       "      <th></th>\n",
       "      <th></th>\n",
       "      <th></th>\n",
       "      <th></th>\n",
       "      <th></th>\n",
       "      <th></th>\n",
       "      <th></th>\n",
       "      <th></th>\n",
       "    </tr>\n",
       "  </thead>\n",
       "  <tbody>\n",
       "    <tr>\n",
       "      <th>c4a632</th>\n",
       "      <td>13</td>\n",
       "      <td>Navy Oversized Jeans - Womens</td>\n",
       "      <td>1</td>\n",
       "      <td>3</td>\n",
       "      <td>7</td>\n",
       "      <td>Womens</td>\n",
       "      <td>Jeans</td>\n",
       "      <td>Navy Oversized</td>\n",
       "    </tr>\n",
       "    <tr>\n",
       "      <th>e83aa3</th>\n",
       "      <td>32</td>\n",
       "      <td>Black Straight Jeans - Womens</td>\n",
       "      <td>1</td>\n",
       "      <td>3</td>\n",
       "      <td>8</td>\n",
       "      <td>Womens</td>\n",
       "      <td>Jeans</td>\n",
       "      <td>Black Straight</td>\n",
       "    </tr>\n",
       "    <tr>\n",
       "      <th>e31d39</th>\n",
       "      <td>10</td>\n",
       "      <td>Cream Relaxed Jeans - Womens</td>\n",
       "      <td>1</td>\n",
       "      <td>3</td>\n",
       "      <td>9</td>\n",
       "      <td>Womens</td>\n",
       "      <td>Jeans</td>\n",
       "      <td>Cream Relaxed</td>\n",
       "    </tr>\n",
       "    <tr>\n",
       "      <th>d5e9a6</th>\n",
       "      <td>23</td>\n",
       "      <td>Khaki Suit Jacket - Womens</td>\n",
       "      <td>1</td>\n",
       "      <td>4</td>\n",
       "      <td>10</td>\n",
       "      <td>Womens</td>\n",
       "      <td>Jacket</td>\n",
       "      <td>Khaki Suit</td>\n",
       "    </tr>\n",
       "    <tr>\n",
       "      <th>72f5d4</th>\n",
       "      <td>19</td>\n",
       "      <td>Indigo Rain Jacket - Womens</td>\n",
       "      <td>1</td>\n",
       "      <td>4</td>\n",
       "      <td>11</td>\n",
       "      <td>Womens</td>\n",
       "      <td>Jacket</td>\n",
       "      <td>Indigo Rain</td>\n",
       "    </tr>\n",
       "    <tr>\n",
       "      <th>9ec847</th>\n",
       "      <td>54</td>\n",
       "      <td>Grey Fashion Jacket - Womens</td>\n",
       "      <td>1</td>\n",
       "      <td>4</td>\n",
       "      <td>12</td>\n",
       "      <td>Womens</td>\n",
       "      <td>Jacket</td>\n",
       "      <td>Grey Fashion</td>\n",
       "    </tr>\n",
       "    <tr>\n",
       "      <th>5d267b</th>\n",
       "      <td>40</td>\n",
       "      <td>White Tee Shirt - Mens</td>\n",
       "      <td>2</td>\n",
       "      <td>5</td>\n",
       "      <td>13</td>\n",
       "      <td>Mens</td>\n",
       "      <td>Shirt</td>\n",
       "      <td>White Tee</td>\n",
       "    </tr>\n",
       "    <tr>\n",
       "      <th>c8d436</th>\n",
       "      <td>10</td>\n",
       "      <td>Teal Button Up Shirt - Mens</td>\n",
       "      <td>2</td>\n",
       "      <td>5</td>\n",
       "      <td>14</td>\n",
       "      <td>Mens</td>\n",
       "      <td>Shirt</td>\n",
       "      <td>Teal Button Up</td>\n",
       "    </tr>\n",
       "    <tr>\n",
       "      <th>2a2353</th>\n",
       "      <td>57</td>\n",
       "      <td>Blue Polo Shirt - Mens</td>\n",
       "      <td>2</td>\n",
       "      <td>5</td>\n",
       "      <td>15</td>\n",
       "      <td>Mens</td>\n",
       "      <td>Shirt</td>\n",
       "      <td>Blue Polo</td>\n",
       "    </tr>\n",
       "    <tr>\n",
       "      <th>f084eb</th>\n",
       "      <td>36</td>\n",
       "      <td>Navy Solid Socks - Mens</td>\n",
       "      <td>2</td>\n",
       "      <td>6</td>\n",
       "      <td>16</td>\n",
       "      <td>Mens</td>\n",
       "      <td>Socks</td>\n",
       "      <td>Navy Solid</td>\n",
       "    </tr>\n",
       "    <tr>\n",
       "      <th>b9a74d</th>\n",
       "      <td>17</td>\n",
       "      <td>White Striped Socks - Mens</td>\n",
       "      <td>2</td>\n",
       "      <td>6</td>\n",
       "      <td>17</td>\n",
       "      <td>Mens</td>\n",
       "      <td>Socks</td>\n",
       "      <td>White Striped</td>\n",
       "    </tr>\n",
       "    <tr>\n",
       "      <th>2feb6b</th>\n",
       "      <td>29</td>\n",
       "      <td>Pink Fluro Polkadot Socks - Mens</td>\n",
       "      <td>2</td>\n",
       "      <td>6</td>\n",
       "      <td>18</td>\n",
       "      <td>Mens</td>\n",
       "      <td>Socks</td>\n",
       "      <td>Pink Fluro Polkadot</td>\n",
       "    </tr>\n",
       "  </tbody>\n",
       "</table>\n",
       "</div>"
      ],
      "text/plain": [
       "            price                      product_name  category_id  segment_id  \\\n",
       "product_id                                                                     \n",
       "c4a632         13     Navy Oversized Jeans - Womens            1           3   \n",
       "e83aa3         32     Black Straight Jeans - Womens            1           3   \n",
       "e31d39         10      Cream Relaxed Jeans - Womens            1           3   \n",
       "d5e9a6         23        Khaki Suit Jacket - Womens            1           4   \n",
       "72f5d4         19       Indigo Rain Jacket - Womens            1           4   \n",
       "9ec847         54      Grey Fashion Jacket - Womens            1           4   \n",
       "5d267b         40            White Tee Shirt - Mens            2           5   \n",
       "c8d436         10       Teal Button Up Shirt - Mens            2           5   \n",
       "2a2353         57            Blue Polo Shirt - Mens            2           5   \n",
       "f084eb         36           Navy Solid Socks - Mens            2           6   \n",
       "b9a74d         17        White Striped Socks - Mens            2           6   \n",
       "2feb6b         29  Pink Fluro Polkadot Socks - Mens            2           6   \n",
       "\n",
       "            style_id category_name segment_name           style_name  \n",
       "product_id                                                            \n",
       "c4a632             7        Womens        Jeans       Navy Oversized  \n",
       "e83aa3             8        Womens        Jeans       Black Straight  \n",
       "e31d39             9        Womens        Jeans        Cream Relaxed  \n",
       "d5e9a6            10        Womens       Jacket           Khaki Suit  \n",
       "72f5d4            11        Womens       Jacket          Indigo Rain  \n",
       "9ec847            12        Womens       Jacket         Grey Fashion  \n",
       "5d267b            13          Mens        Shirt            White Tee  \n",
       "c8d436            14          Mens        Shirt       Teal Button Up  \n",
       "2a2353            15          Mens        Shirt            Blue Polo  \n",
       "f084eb            16          Mens        Socks           Navy Solid  \n",
       "b9a74d            17          Mens        Socks        White Striped  \n",
       "2feb6b            18          Mens        Socks  Pink Fluro Polkadot  "
      ]
     },
     "execution_count": 11,
     "metadata": {},
     "output_type": "execute_result"
    }
   ],
   "source": [
    "product_details_sql = \"\"\"\n",
    "WITH product_price_style AS (\n",
    "SELECT h.id, h.parent_id, p.product_id, p.price, h.level_text AS style_name, h.id AS style_id\n",
    "FROM product_prices AS p\n",
    "LEFT JOIN product_hierarchy AS h\n",
    "ON p.id = h.id\n",
    "),\n",
    "\n",
    "product_price_style_segment AS (\n",
    "SELECT ps.parent_id AS id, h.parent_id, ps.product_id, ps.price, ps.style_name, ps.style_id, h.level_text AS segment_name, ps.parent_id AS segment_id\n",
    "FROM product_price_style AS ps\n",
    "LEFT JOIN product_hierarchy AS h\n",
    "ON ps.parent_id = h.id\n",
    ")\n",
    "\n",
    "SELECT psg.product_id, psg.price, psg.style_name || ' ' || psg.segment_name || ' - ' || h.level_text AS product_name, h.id AS category_id, psg.segment_id, psg.style_id, h.level_text AS category_name, psg.segment_name ,psg.style_name\n",
    "FROM product_price_style_segment AS psg\n",
    "LEFT JOIN product_hierarchy AS h\n",
    "ON psg.parent_id = h.id\n",
    "\"\"\"\n",
    "product_details = pd.read_sql_query(product_details_sql, connection, index_col='product_id')\n",
    "product_details"
   ]
  },
  {
   "cell_type": "code",
   "execution_count": 12,
   "metadata": {},
   "outputs": [
    {
     "data": {
      "text/plain": [
       "12"
      ]
     },
     "execution_count": 12,
     "metadata": {},
     "output_type": "execute_result"
    }
   ],
   "source": [
    "product_details.to_sql('product_details', connection, if_exists='replace')"
   ]
  },
  {
   "cell_type": "code",
   "execution_count": 13,
   "metadata": {},
   "outputs": [
    {
     "data": {
      "text/plain": [
       "[('product_hierarchy',), ('product_prices',), ('sales',), ('product_details',)]"
      ]
     },
     "execution_count": 13,
     "metadata": {},
     "output_type": "execute_result"
    }
   ],
   "source": [
    "# query the database to get the tables in the database\n",
    "cursor.execute(\"SELECT name FROM sqlite_master WHERE type='table' \").fetchall()"
   ]
  },
  {
   "cell_type": "markdown",
   "metadata": {},
   "source": [
    "## Analysis\n",
    "- We will divide our analysis into 3 parts:\n",
    "1. **High-level sales analysis**: we will address some high-level questions about the sales data\n",
    "    - What was the total quantity sold for all products?\n",
    "    - What is the total generated revenue for all products before discounts?\n",
    "    - What was the total discount amount for all products?\n",
    "2. **Transaction analysis**: we will address some questions about the transactions\n",
    "    - How many unique transactions are there?\n",
    "    - What is the average unique products purchased in each transaction?\n",
    "    - What are the 25th, 50th and 75th percentile values for the revenue per transaction?\n",
    "    - What is the average discount value per transaction?\n",
    "    - What is the percentage split of all transactions for members vs non-members?\n",
    "    - What is the average revenue for member transactions and non-member transactions?\n",
    "3. **Product analysis**: we will address some questions about the products\n",
    "    - What are the top 3 products by total revenue before discount?\n",
    "    - What is the total quantity, revenue and discount for each segment?\n",
    "    - What is the top selling product for each segment?\n",
    "    - What is the total quantity, revenue and discount for each category?\n",
    "    - What is the top selling product for each category?\n",
    "    - What is the percentage split of revenue by product for each segment?\n",
    "    - What is the percentage split of revenue by segment for each category?\n",
    "    - What is the percentage split of total revenue by category?\n",
    "    - What is the total transaction “penetration” for each product? (hint: penetration = number of transactions where at least 1 quantity of a product was purchased divided by total number of transactions)\n",
    "    - What is the most common combination of at least 1 quantity of any 3 products in a 1 single transaction?"
   ]
  },
  {
   "cell_type": "markdown",
   "metadata": {},
   "source": [
    "## Create a main table view that addresses all the above questions"
   ]
  },
  {
   "cell_type": "code",
   "execution_count": 21,
   "metadata": {},
   "outputs": [],
   "source": [
    "drop_view = \"DROP VIEW IF EXISTS main_table\"\n",
    "cursor.execute(drop_view)\n",
    "\n",
    "main_table_view = \"\"\"\n",
    "CREATE VIEW main_table AS\n",
    "SELECT\n",
    "    s.prod_id AS product_id,\n",
    "    p.product_name,\n",
    "    s.qty,\n",
    "    s.price,\n",
    "    s.qty * s.price AS total_price,\n",
    "    CAST(discount AS FLOAT) / 100 AS discount_per,\n",
    "    s.qty * s.price * CAST(discount AS FLOAT) / 100 AS discount_amount,\n",
    "    s.qty * s.price * (1 - CAST(discount AS FLOAT) / 100) AS revenue,\n",
    "    s.member,\n",
    "    s.txn_id,\n",
    "    s.start_txn_time,\n",
    "    p.category_id,\n",
    "    p.segment_id,\n",
    "    p.style_id,\n",
    "    p.category_name,\n",
    "    p.segment_name,\n",
    "    p.style_name\n",
    "FROM sales AS s\n",
    "LEFT JOIN product_details AS p\n",
    "ON s.prod_id = p.product_id\n",
    "\"\"\"\n",
    "cursor.execute(main_table_view)\n",
    "connection.commit()"
   ]
  },
  {
   "cell_type": "code",
   "execution_count": 22,
   "metadata": {},
   "outputs": [
    {
     "data": {
      "text/html": [
       "<div>\n",
       "<style scoped>\n",
       "    .dataframe tbody tr th:only-of-type {\n",
       "        vertical-align: middle;\n",
       "    }\n",
       "\n",
       "    .dataframe tbody tr th {\n",
       "        vertical-align: top;\n",
       "    }\n",
       "\n",
       "    .dataframe thead th {\n",
       "        text-align: right;\n",
       "    }\n",
       "</style>\n",
       "<table border=\"1\" class=\"dataframe\">\n",
       "  <thead>\n",
       "    <tr style=\"text-align: right;\">\n",
       "      <th></th>\n",
       "      <th>product_id</th>\n",
       "      <th>product_name</th>\n",
       "      <th>qty</th>\n",
       "      <th>price</th>\n",
       "      <th>total_price</th>\n",
       "      <th>discount_per</th>\n",
       "      <th>discount_amount</th>\n",
       "      <th>revenue</th>\n",
       "      <th>member</th>\n",
       "      <th>txn_id</th>\n",
       "      <th>start_txn_time</th>\n",
       "      <th>category_id</th>\n",
       "      <th>segment_id</th>\n",
       "      <th>style_id</th>\n",
       "      <th>category_name</th>\n",
       "      <th>segment_name</th>\n",
       "      <th>style_name</th>\n",
       "    </tr>\n",
       "  </thead>\n",
       "  <tbody>\n",
       "    <tr>\n",
       "      <th>0</th>\n",
       "      <td>c4a632</td>\n",
       "      <td>Navy Oversized Jeans - Womens</td>\n",
       "      <td>4</td>\n",
       "      <td>13</td>\n",
       "      <td>52</td>\n",
       "      <td>0.17</td>\n",
       "      <td>8.84</td>\n",
       "      <td>43.16</td>\n",
       "      <td>t</td>\n",
       "      <td>54f307</td>\n",
       "      <td>2021-02-13 01:59:43.296</td>\n",
       "      <td>1</td>\n",
       "      <td>3</td>\n",
       "      <td>7</td>\n",
       "      <td>Womens</td>\n",
       "      <td>Jeans</td>\n",
       "      <td>Navy Oversized</td>\n",
       "    </tr>\n",
       "    <tr>\n",
       "      <th>1</th>\n",
       "      <td>5d267b</td>\n",
       "      <td>White Tee Shirt - Mens</td>\n",
       "      <td>4</td>\n",
       "      <td>40</td>\n",
       "      <td>160</td>\n",
       "      <td>0.17</td>\n",
       "      <td>27.20</td>\n",
       "      <td>132.80</td>\n",
       "      <td>t</td>\n",
       "      <td>54f307</td>\n",
       "      <td>2021-02-13 01:59:43.296</td>\n",
       "      <td>2</td>\n",
       "      <td>5</td>\n",
       "      <td>13</td>\n",
       "      <td>Mens</td>\n",
       "      <td>Shirt</td>\n",
       "      <td>White Tee</td>\n",
       "    </tr>\n",
       "    <tr>\n",
       "      <th>2</th>\n",
       "      <td>b9a74d</td>\n",
       "      <td>White Striped Socks - Mens</td>\n",
       "      <td>4</td>\n",
       "      <td>17</td>\n",
       "      <td>68</td>\n",
       "      <td>0.17</td>\n",
       "      <td>11.56</td>\n",
       "      <td>56.44</td>\n",
       "      <td>t</td>\n",
       "      <td>54f307</td>\n",
       "      <td>2021-02-13 01:59:43.296</td>\n",
       "      <td>2</td>\n",
       "      <td>6</td>\n",
       "      <td>17</td>\n",
       "      <td>Mens</td>\n",
       "      <td>Socks</td>\n",
       "      <td>White Striped</td>\n",
       "    </tr>\n",
       "  </tbody>\n",
       "</table>\n",
       "</div>"
      ],
      "text/plain": [
       "  product_id                   product_name  qty  price  total_price  \\\n",
       "0     c4a632  Navy Oversized Jeans - Womens    4     13           52   \n",
       "1     5d267b         White Tee Shirt - Mens    4     40          160   \n",
       "2     b9a74d     White Striped Socks - Mens    4     17           68   \n",
       "\n",
       "   discount_per  discount_amount  revenue member  txn_id  \\\n",
       "0          0.17             8.84    43.16      t  54f307   \n",
       "1          0.17            27.20   132.80      t  54f307   \n",
       "2          0.17            11.56    56.44      t  54f307   \n",
       "\n",
       "            start_txn_time  category_id  segment_id  style_id category_name  \\\n",
       "0  2021-02-13 01:59:43.296            1           3         7        Womens   \n",
       "1  2021-02-13 01:59:43.296            2           5        13          Mens   \n",
       "2  2021-02-13 01:59:43.296            2           6        17          Mens   \n",
       "\n",
       "  segment_name      style_name  \n",
       "0        Jeans  Navy Oversized  \n",
       "1        Shirt       White Tee  \n",
       "2        Socks   White Striped  "
      ]
     },
     "execution_count": 22,
     "metadata": {},
     "output_type": "execute_result"
    }
   ],
   "source": [
    "pd.read_sql_query(\"SELECT * FROM main_table\", connection).head(3)"
   ]
  },
  {
   "cell_type": "markdown",
   "metadata": {},
   "source": [
    "## high-level sales analysis"
   ]
  },
  {
   "cell_type": "markdown",
   "metadata": {},
   "source": [
    "### what is the total quantity sold for all products?"
   ]
  },
  {
   "cell_type": "code",
   "execution_count": 23,
   "metadata": {},
   "outputs": [
    {
     "data": {
      "text/html": [
       "<div>\n",
       "<style scoped>\n",
       "    .dataframe tbody tr th:only-of-type {\n",
       "        vertical-align: middle;\n",
       "    }\n",
       "\n",
       "    .dataframe tbody tr th {\n",
       "        vertical-align: top;\n",
       "    }\n",
       "\n",
       "    .dataframe thead th {\n",
       "        text-align: right;\n",
       "    }\n",
       "</style>\n",
       "<table border=\"1\" class=\"dataframe\">\n",
       "  <thead>\n",
       "    <tr style=\"text-align: right;\">\n",
       "      <th></th>\n",
       "    </tr>\n",
       "    <tr>\n",
       "      <th>total_quantity_sold</th>\n",
       "    </tr>\n",
       "  </thead>\n",
       "  <tbody>\n",
       "    <tr>\n",
       "      <th>45216</th>\n",
       "    </tr>\n",
       "  </tbody>\n",
       "</table>\n",
       "</div>"
      ],
      "text/plain": [
       "Empty DataFrame\n",
       "Columns: []\n",
       "Index: [45216]"
      ]
     },
     "execution_count": 23,
     "metadata": {},
     "output_type": "execute_result"
    }
   ],
   "source": [
    "total_quantity_sold = \"\"\"\n",
    "SELECT SUM(qty) AS total_quantity_sold\n",
    "FROM main_table\n",
    "\"\"\"\n",
    "total_quantity_sold = pd.read_sql_query(total_quantity_sold, connection, index_col='total_quantity_sold')\n",
    "total_quantity_sold"
   ]
  },
  {
   "cell_type": "markdown",
   "metadata": {},
   "source": [
    "### What is the total generated revenue for all products before discounts?"
   ]
  },
  {
   "cell_type": "code",
   "execution_count": 24,
   "metadata": {},
   "outputs": [
    {
     "data": {
      "text/html": [
       "<div>\n",
       "<style scoped>\n",
       "    .dataframe tbody tr th:only-of-type {\n",
       "        vertical-align: middle;\n",
       "    }\n",
       "\n",
       "    .dataframe tbody tr th {\n",
       "        vertical-align: top;\n",
       "    }\n",
       "\n",
       "    .dataframe thead th {\n",
       "        text-align: right;\n",
       "    }\n",
       "</style>\n",
       "<table border=\"1\" class=\"dataframe\">\n",
       "  <thead>\n",
       "    <tr style=\"text-align: right;\">\n",
       "      <th></th>\n",
       "    </tr>\n",
       "    <tr>\n",
       "      <th>total_revenues_before</th>\n",
       "    </tr>\n",
       "  </thead>\n",
       "  <tbody>\n",
       "    <tr>\n",
       "      <th>1289453</th>\n",
       "    </tr>\n",
       "  </tbody>\n",
       "</table>\n",
       "</div>"
      ],
      "text/plain": [
       "Empty DataFrame\n",
       "Columns: []\n",
       "Index: [1289453]"
      ]
     },
     "execution_count": 24,
     "metadata": {},
     "output_type": "execute_result"
    }
   ],
   "source": [
    "total_revenue_sql = \"\"\"\n",
    "SELECT SUM(total_price) AS total_revenues_before\n",
    "FROM main_table\n",
    "\"\"\"\n",
    "total_revenue = pd.read_sql_query(total_revenue_sql,connection, index_col='total_revenues_before')\n",
    "total_revenue"
   ]
  },
  {
   "cell_type": "markdown",
   "metadata": {},
   "source": [
    "the total revenue generated is $1,289,453"
   ]
  },
  {
   "cell_type": "markdown",
   "metadata": {},
   "source": [
    "### What was the total discount amount for all products?\n",
    "- discounts are made for each transaction, and they are in percentages, so to get the total discount, we need to get the total price for each transaction and subtract the discount percentage from it"
   ]
  },
  {
   "cell_type": "code",
   "execution_count": 30,
   "metadata": {},
   "outputs": [
    {
     "data": {
      "text/html": [
       "<div>\n",
       "<style scoped>\n",
       "    .dataframe tbody tr th:only-of-type {\n",
       "        vertical-align: middle;\n",
       "    }\n",
       "\n",
       "    .dataframe tbody tr th {\n",
       "        vertical-align: top;\n",
       "    }\n",
       "\n",
       "    .dataframe thead th {\n",
       "        text-align: right;\n",
       "    }\n",
       "</style>\n",
       "<table border=\"1\" class=\"dataframe\">\n",
       "  <thead>\n",
       "    <tr style=\"text-align: right;\">\n",
       "      <th></th>\n",
       "    </tr>\n",
       "    <tr>\n",
       "      <th>total_discount</th>\n",
       "    </tr>\n",
       "  </thead>\n",
       "  <tbody>\n",
       "    <tr>\n",
       "      <th>156229.14</th>\n",
       "    </tr>\n",
       "  </tbody>\n",
       "</table>\n",
       "</div>"
      ],
      "text/plain": [
       "Empty DataFrame\n",
       "Columns: []\n",
       "Index: [156229.13999999952]"
      ]
     },
     "execution_count": 30,
     "metadata": {},
     "output_type": "execute_result"
    }
   ],
   "source": [
    "total_discount_sql = \"\"\"\n",
    "SELECT SUM(discount_amount) AS total_discount \n",
    "FROM main_table\n",
    "\"\"\"\n",
    "pd.read_sql_query(total_discount_sql,connection,index_col='total_discount')"
   ]
  },
  {
   "cell_type": "markdown",
   "metadata": {},
   "source": [
    "- the total discount is $156,229.14"
   ]
  },
  {
   "cell_type": "markdown",
   "metadata": {},
   "source": [
    "- Therefore, the total revenue after discount is 1,289,453 - 156,229.14 = $1,133,223.86 , to Prove this, we will calculate the total revenue after discount"
   ]
  },
  {
   "cell_type": "code",
   "execution_count": 31,
   "metadata": {},
   "outputs": [
    {
     "data": {
      "text/html": [
       "<div>\n",
       "<style scoped>\n",
       "    .dataframe tbody tr th:only-of-type {\n",
       "        vertical-align: middle;\n",
       "    }\n",
       "\n",
       "    .dataframe tbody tr th {\n",
       "        vertical-align: top;\n",
       "    }\n",
       "\n",
       "    .dataframe thead th {\n",
       "        text-align: right;\n",
       "    }\n",
       "</style>\n",
       "<table border=\"1\" class=\"dataframe\">\n",
       "  <thead>\n",
       "    <tr style=\"text-align: right;\">\n",
       "      <th></th>\n",
       "    </tr>\n",
       "    <tr>\n",
       "      <th>total_revenue_after_discount</th>\n",
       "    </tr>\n",
       "  </thead>\n",
       "  <tbody>\n",
       "    <tr>\n",
       "      <th>1133223.86</th>\n",
       "    </tr>\n",
       "  </tbody>\n",
       "</table>\n",
       "</div>"
      ],
      "text/plain": [
       "Empty DataFrame\n",
       "Columns: []\n",
       "Index: [1133223.859999998]"
      ]
     },
     "execution_count": 31,
     "metadata": {},
     "output_type": "execute_result"
    }
   ],
   "source": [
    "total_revenue_after_discount_sql = \"\"\"\n",
    "SELECT SUM(revenue) AS total_revenue_after_discount\n",
    "FROM main_table\n",
    "\"\"\"\n",
    "total_revenue_after_discount = pd.read_sql_query(total_revenue_after_discount_sql, connection, index_col='total_revenue_after_discount')\n",
    "total_revenue_after_discount"
   ]
  },
  {
   "cell_type": "markdown",
   "metadata": {},
   "source": [
    "## Transaction analysis"
   ]
  },
  {
   "cell_type": "markdown",
   "metadata": {},
   "source": [
    "### How many unique transactions are there?"
   ]
  },
  {
   "cell_type": "code",
   "execution_count": 33,
   "metadata": {},
   "outputs": [
    {
     "data": {
      "text/html": [
       "<div>\n",
       "<style scoped>\n",
       "    .dataframe tbody tr th:only-of-type {\n",
       "        vertical-align: middle;\n",
       "    }\n",
       "\n",
       "    .dataframe tbody tr th {\n",
       "        vertical-align: top;\n",
       "    }\n",
       "\n",
       "    .dataframe thead th {\n",
       "        text-align: right;\n",
       "    }\n",
       "</style>\n",
       "<table border=\"1\" class=\"dataframe\">\n",
       "  <thead>\n",
       "    <tr style=\"text-align: right;\">\n",
       "      <th></th>\n",
       "    </tr>\n",
       "    <tr>\n",
       "      <th>num_transactions</th>\n",
       "    </tr>\n",
       "  </thead>\n",
       "  <tbody>\n",
       "    <tr>\n",
       "      <th>2500</th>\n",
       "    </tr>\n",
       "  </tbody>\n",
       "</table>\n",
       "</div>"
      ],
      "text/plain": [
       "Empty DataFrame\n",
       "Columns: []\n",
       "Index: [2500]"
      ]
     },
     "execution_count": 33,
     "metadata": {},
     "output_type": "execute_result"
    }
   ],
   "source": [
    "unique_transactions = \"\"\"\n",
    "SELECT COUNT(DISTINCT txn_id) AS num_transactions\n",
    "FROM main_table\n",
    "\"\"\"\n",
    "unique_transactions = pd.read_sql_query(unique_transactions, connection, index_col='num_transactions')\n",
    "unique_transactions"
   ]
  },
  {
   "cell_type": "markdown",
   "metadata": {},
   "source": [
    "### what is the average unique products purchased in each transaction?"
   ]
  },
  {
   "cell_type": "code",
   "execution_count": 38,
   "metadata": {},
   "outputs": [
    {
     "data": {
      "text/html": [
       "<div>\n",
       "<style scoped>\n",
       "    .dataframe tbody tr th:only-of-type {\n",
       "        vertical-align: middle;\n",
       "    }\n",
       "\n",
       "    .dataframe tbody tr th {\n",
       "        vertical-align: top;\n",
       "    }\n",
       "\n",
       "    .dataframe thead th {\n",
       "        text-align: right;\n",
       "    }\n",
       "</style>\n",
       "<table border=\"1\" class=\"dataframe\">\n",
       "  <thead>\n",
       "    <tr style=\"text-align: right;\">\n",
       "      <th></th>\n",
       "    </tr>\n",
       "    <tr>\n",
       "      <th>avg_num_products</th>\n",
       "    </tr>\n",
       "  </thead>\n",
       "  <tbody>\n",
       "    <tr>\n",
       "      <th>6.0</th>\n",
       "    </tr>\n",
       "  </tbody>\n",
       "</table>\n",
       "</div>"
      ],
      "text/plain": [
       "Empty DataFrame\n",
       "Columns: []\n",
       "Index: [6.0]"
      ]
     },
     "execution_count": 38,
     "metadata": {},
     "output_type": "execute_result"
    }
   ],
   "source": [
    "avg_uniqe_products = \"\"\"\n",
    "SELECT ROUND(AVG(num_unique_products)) AS avg_num_products\n",
    "FROM (SELECT \n",
    "    txn_id,\n",
    "    COUNT(DISTINCT product_id) AS num_unique_products\n",
    "FROM main_table\n",
    "GROUP BY txn_id) AS num_products\n",
    "\"\"\"\n",
    "avg_uniqe_products = pd.read_sql_query(avg_uniqe_products, connection, index_col='avg_num_products')\n",
    "avg_uniqe_products"
   ]
  },
  {
   "cell_type": "markdown",
   "metadata": {},
   "source": [
    "- there is average of 6 unique products purchased in each transaction"
   ]
  },
  {
   "cell_type": "markdown",
   "metadata": {},
   "source": [
    "### What are the 25th, 50th and 75th percentile values for the revenue per transaction?"
   ]
  },
  {
   "cell_type": "code",
   "execution_count": 42,
   "metadata": {},
   "outputs": [
    {
     "data": {
      "text/plain": [
       "0.25    326.4050\n",
       "0.50    441.2250\n",
       "0.75    572.7625\n",
       "Name: revenue, dtype: float64"
      ]
     },
     "execution_count": 42,
     "metadata": {},
     "output_type": "execute_result"
    }
   ],
   "source": [
    "revenue_per_txn_sql = \"\"\"\n",
    "SELECT SUM(revenue) AS revenue\n",
    "FROM main_table\n",
    "GROUP BY txn_id\n",
    "\"\"\"\n",
    "revenue_per_txn_df = pd.read_sql_query(revenue_per_txn_sql, connection)\n",
    "\n",
    "# Calculate percentiles\n",
    "percentiles = revenue_per_txn_df['revenue'].quantile([0.25, 0.5, 0.75])\n",
    "\n",
    "percentiles"
   ]
  },
  {
   "cell_type": "markdown",
   "metadata": {},
   "source": [
    "### what is the average discount value per transaction?"
   ]
  },
  {
   "cell_type": "code",
   "execution_count": 45,
   "metadata": {},
   "outputs": [
    {
     "data": {
      "text/html": [
       "<div>\n",
       "<style scoped>\n",
       "    .dataframe tbody tr th:only-of-type {\n",
       "        vertical-align: middle;\n",
       "    }\n",
       "\n",
       "    .dataframe tbody tr th {\n",
       "        vertical-align: top;\n",
       "    }\n",
       "\n",
       "    .dataframe thead th {\n",
       "        text-align: right;\n",
       "    }\n",
       "</style>\n",
       "<table border=\"1\" class=\"dataframe\">\n",
       "  <thead>\n",
       "    <tr style=\"text-align: right;\">\n",
       "      <th></th>\n",
       "    </tr>\n",
       "    <tr>\n",
       "      <th>avg_discount</th>\n",
       "    </tr>\n",
       "  </thead>\n",
       "  <tbody>\n",
       "    <tr>\n",
       "      <th>62.49</th>\n",
       "    </tr>\n",
       "  </tbody>\n",
       "</table>\n",
       "</div>"
      ],
      "text/plain": [
       "Empty DataFrame\n",
       "Columns: []\n",
       "Index: [62.49]"
      ]
     },
     "execution_count": 45,
     "metadata": {},
     "output_type": "execute_result"
    }
   ],
   "source": [
    "discount_per_txn = \"\"\"\n",
    "SELECT ROUND(AVG(discount),2) AS avg_discount\n",
    "from (SELECT SUM(discount_amount) AS discount\n",
    "      FROM main_table\n",
    "      GROUP BY txn_id) AS discount_per_txn\n",
    "\"\"\"\n",
    "discount_per_txn = pd.read_sql_query(discount_per_txn, connection, index_col='avg_discount')\n",
    "discount_per_txn"
   ]
  },
  {
   "cell_type": "markdown",
   "metadata": {},
   "source": [
    "### what is the Percentage split of all transactions for members vs non-members?"
   ]
  },
  {
   "cell_type": "code",
   "execution_count": 46,
   "metadata": {},
   "outputs": [
    {
     "data": {
      "text/html": [
       "<div>\n",
       "<style scoped>\n",
       "    .dataframe tbody tr th:only-of-type {\n",
       "        vertical-align: middle;\n",
       "    }\n",
       "\n",
       "    .dataframe tbody tr th {\n",
       "        vertical-align: top;\n",
       "    }\n",
       "\n",
       "    .dataframe thead th {\n",
       "        text-align: right;\n",
       "    }\n",
       "</style>\n",
       "<table border=\"1\" class=\"dataframe\">\n",
       "  <thead>\n",
       "    <tr style=\"text-align: right;\">\n",
       "      <th></th>\n",
       "      <th>cid</th>\n",
       "      <th>name</th>\n",
       "      <th>type</th>\n",
       "      <th>notnull</th>\n",
       "      <th>dflt_value</th>\n",
       "      <th>pk</th>\n",
       "    </tr>\n",
       "  </thead>\n",
       "  <tbody>\n",
       "    <tr>\n",
       "      <th>0</th>\n",
       "      <td>0</td>\n",
       "      <td>prod_id</td>\n",
       "      <td>VARCHAR(6)</td>\n",
       "      <td>0</td>\n",
       "      <td>None</td>\n",
       "      <td>0</td>\n",
       "    </tr>\n",
       "    <tr>\n",
       "      <th>1</th>\n",
       "      <td>1</td>\n",
       "      <td>qty</td>\n",
       "      <td>INTEGER</td>\n",
       "      <td>0</td>\n",
       "      <td>None</td>\n",
       "      <td>0</td>\n",
       "    </tr>\n",
       "    <tr>\n",
       "      <th>2</th>\n",
       "      <td>2</td>\n",
       "      <td>price</td>\n",
       "      <td>INTEGER</td>\n",
       "      <td>0</td>\n",
       "      <td>None</td>\n",
       "      <td>0</td>\n",
       "    </tr>\n",
       "    <tr>\n",
       "      <th>3</th>\n",
       "      <td>3</td>\n",
       "      <td>discount</td>\n",
       "      <td>INTEGER</td>\n",
       "      <td>0</td>\n",
       "      <td>None</td>\n",
       "      <td>0</td>\n",
       "    </tr>\n",
       "    <tr>\n",
       "      <th>4</th>\n",
       "      <td>4</td>\n",
       "      <td>member</td>\n",
       "      <td>BOOLEAN</td>\n",
       "      <td>0</td>\n",
       "      <td>None</td>\n",
       "      <td>0</td>\n",
       "    </tr>\n",
       "    <tr>\n",
       "      <th>5</th>\n",
       "      <td>5</td>\n",
       "      <td>txn_id</td>\n",
       "      <td>VARCHAR(6)</td>\n",
       "      <td>0</td>\n",
       "      <td>None</td>\n",
       "      <td>0</td>\n",
       "    </tr>\n",
       "    <tr>\n",
       "      <th>6</th>\n",
       "      <td>6</td>\n",
       "      <td>start_txn_time</td>\n",
       "      <td>TIMESTAMP</td>\n",
       "      <td>0</td>\n",
       "      <td>None</td>\n",
       "      <td>0</td>\n",
       "    </tr>\n",
       "  </tbody>\n",
       "</table>\n",
       "</div>"
      ],
      "text/plain": [
       "   cid            name        type  notnull dflt_value  pk\n",
       "0    0         prod_id  VARCHAR(6)        0       None   0\n",
       "1    1             qty     INTEGER        0       None   0\n",
       "2    2           price     INTEGER        0       None   0\n",
       "3    3        discount     INTEGER        0       None   0\n",
       "4    4          member     BOOLEAN        0       None   0\n",
       "5    5          txn_id  VARCHAR(6)        0       None   0\n",
       "6    6  start_txn_time   TIMESTAMP        0       None   0"
      ]
     },
     "execution_count": 46,
     "metadata": {},
     "output_type": "execute_result"
    }
   ],
   "source": [
    "# get datatypes of sales columns\n",
    "pd.read_sql_query(\"PRAGMA table_info(sales)\", connection)"
   ]
  },
  {
   "cell_type": "markdown",
   "metadata": {},
   "source": [
    "- member is a boolean value, so we can get the percentage split by counting the number of transactions for each member type and dividing by the total number of transactions"
   ]
  },
  {
   "cell_type": "code",
   "execution_count": 47,
   "metadata": {},
   "outputs": [
    {
     "data": {
      "text/html": [
       "<div>\n",
       "<style scoped>\n",
       "    .dataframe tbody tr th:only-of-type {\n",
       "        vertical-align: middle;\n",
       "    }\n",
       "\n",
       "    .dataframe tbody tr th {\n",
       "        vertical-align: top;\n",
       "    }\n",
       "\n",
       "    .dataframe thead th {\n",
       "        text-align: right;\n",
       "    }\n",
       "</style>\n",
       "<table border=\"1\" class=\"dataframe\">\n",
       "  <thead>\n",
       "    <tr style=\"text-align: right;\">\n",
       "      <th></th>\n",
       "      <th>members_percentage</th>\n",
       "      <th>guests_percentage</th>\n",
       "    </tr>\n",
       "  </thead>\n",
       "  <tbody>\n",
       "    <tr>\n",
       "      <th>0</th>\n",
       "      <td>60.2</td>\n",
       "      <td>39.8</td>\n",
       "    </tr>\n",
       "  </tbody>\n",
       "</table>\n",
       "</div>"
      ],
      "text/plain": [
       "   members_percentage  guests_percentage\n",
       "0                60.2               39.8"
      ]
     },
     "execution_count": 47,
     "metadata": {},
     "output_type": "execute_result"
    }
   ],
   "source": [
    "members_percentages = \"\"\"\n",
    "WITH member_info AS(\n",
    "SELECT\n",
    "    txn_id,\n",
    "    CASE  WHEN Min(member) = 't'\n",
    "            THEN 1\n",
    "          ELSE 0 END AS is_member \n",
    "FROM main_table\n",
    "GROUP BY txn_id)\n",
    "\n",
    "SELECT (CAST(SUM(is_member) AS REAL) / COUNT(*)) * 100 AS members_percentage,\n",
    "        100 - ((CAST(SUM(is_member) AS REAL) / COUNT(*)) * 100) AS guests_percentage\n",
    "FROM member_info\n",
    "\"\"\"\n",
    "members_percentages = pd.read_sql_query(members_percentages,connection)\n",
    "members_percentages"
   ]
  },
  {
   "cell_type": "code",
   "execution_count": 113,
   "metadata": {},
   "outputs": [
    {
     "data": {
      "image/png": "[encoded data removed]",
      "text/plain": [
       "<Figure size 500x300 with 1 Axes>"
      ]
     },
     "metadata": {},
     "output_type": "display_data"
    }
   ],
   "source": [
    "data = members_percentages.iloc[0]\n",
    "\n",
    "# Create a pie chart\n",
    "plt.figure(figsize=(5, 3))\n",
    "plt.pie(data, labels=data.index, autopct='%1.1f%%')\n",
    "plt.title('Members vs Guests Percentages')\n",
    "plt.show()"
   ]
  },
  {
   "cell_type": "markdown",
   "metadata": {},
   "source": [
    "- 60.2% of the transactions are made by members, while 39.8% are made by non-members"
   ]
  },
  {
   "cell_type": "markdown",
   "metadata": {},
   "source": [
    "### what is the average revenue for member transactions and non-member transactions?"
   ]
  },
  {
   "cell_type": "code",
   "execution_count": 53,
   "metadata": {},
   "outputs": [
    {
     "data": {
      "text/html": [
       "<div>\n",
       "<style scoped>\n",
       "    .dataframe tbody tr th:only-of-type {\n",
       "        vertical-align: middle;\n",
       "    }\n",
       "\n",
       "    .dataframe tbody tr th {\n",
       "        vertical-align: top;\n",
       "    }\n",
       "\n",
       "    .dataframe thead th {\n",
       "        text-align: right;\n",
       "    }\n",
       "</style>\n",
       "<table border=\"1\" class=\"dataframe\">\n",
       "  <thead>\n",
       "    <tr style=\"text-align: right;\">\n",
       "      <th></th>\n",
       "      <th>member</th>\n",
       "      <th>avg_revenue</th>\n",
       "    </tr>\n",
       "  </thead>\n",
       "  <tbody>\n",
       "    <tr>\n",
       "      <th>0</th>\n",
       "      <td>f</td>\n",
       "      <td>452.007769</td>\n",
       "    </tr>\n",
       "    <tr>\n",
       "      <th>1</th>\n",
       "      <td>t</td>\n",
       "      <td>454.136963</td>\n",
       "    </tr>\n",
       "  </tbody>\n",
       "</table>\n",
       "</div>"
      ],
      "text/plain": [
       "  member  avg_revenue\n",
       "0      f   452.007769\n",
       "1      t   454.136963"
      ]
     },
     "execution_count": 53,
     "metadata": {},
     "output_type": "execute_result"
    }
   ],
   "source": [
    "revenue_per_member = \"\"\"\n",
    "WITH txn_info AS (\n",
    "SELECT \n",
    "    SUM(revenue) AS revenue,\n",
    "    MIN(member) AS member\n",
    "FROM main_table\n",
    "GROUP BY txn_id)\n",
    "\n",
    "SELECT \n",
    "    member,\n",
    "    AVG(revenue) AS avg_revenue\n",
    "FROM txn_info\n",
    "GROUP BY member\n",
    "\"\"\"\n",
    "\n",
    "revenue_per_member = pd.read_sql_query(revenue_per_member,connection)\n",
    "revenue_per_member"
   ]
  },
  {
   "cell_type": "markdown",
   "metadata": {},
   "source": [
    "- the average revenue from members is 454.13 and for non-members is 452"
   ]
  },
  {
   "cell_type": "markdown",
   "metadata": {},
   "source": [
    "## Product analysis"
   ]
  },
  {
   "cell_type": "markdown",
   "metadata": {},
   "source": [
    "### What are the top 3 products by total revenue before discount?"
   ]
  },
  {
   "cell_type": "code",
   "execution_count": 54,
   "metadata": {},
   "outputs": [
    {
     "data": {
      "text/html": [
       "<div>\n",
       "<style scoped>\n",
       "    .dataframe tbody tr th:only-of-type {\n",
       "        vertical-align: middle;\n",
       "    }\n",
       "\n",
       "    .dataframe tbody tr th {\n",
       "        vertical-align: top;\n",
       "    }\n",
       "\n",
       "    .dataframe thead th {\n",
       "        text-align: right;\n",
       "    }\n",
       "</style>\n",
       "<table border=\"1\" class=\"dataframe\">\n",
       "  <thead>\n",
       "    <tr style=\"text-align: right;\">\n",
       "      <th></th>\n",
       "      <th>product_name</th>\n",
       "      <th>revenue_before_discounts</th>\n",
       "    </tr>\n",
       "  </thead>\n",
       "  <tbody>\n",
       "    <tr>\n",
       "      <th>0</th>\n",
       "      <td>Blue Polo Shirt - Mens</td>\n",
       "      <td>217683</td>\n",
       "    </tr>\n",
       "    <tr>\n",
       "      <th>1</th>\n",
       "      <td>Grey Fashion Jacket - Womens</td>\n",
       "      <td>209304</td>\n",
       "    </tr>\n",
       "    <tr>\n",
       "      <th>2</th>\n",
       "      <td>White Tee Shirt - Mens</td>\n",
       "      <td>152000</td>\n",
       "    </tr>\n",
       "  </tbody>\n",
       "</table>\n",
       "</div>"
      ],
      "text/plain": [
       "                   product_name  revenue_before_discounts\n",
       "0        Blue Polo Shirt - Mens                    217683\n",
       "1  Grey Fashion Jacket - Womens                    209304\n",
       "2        White Tee Shirt - Mens                    152000"
      ]
     },
     "execution_count": 54,
     "metadata": {},
     "output_type": "execute_result"
    }
   ],
   "source": [
    "top_3 = \"\"\"\n",
    "SELECT \n",
    "    product_name,\n",
    "    SUM(total_price) AS revenue_before_discounts\n",
    "FROM main_table\n",
    "GROUP BY product_name\n",
    "ORDER BY revenue_before_discounts DESC\n",
    "LIMIT 3 \n",
    "\"\"\"\n",
    "top_3 = pd.read_sql_query(top_3,connection)\n",
    "top_3"
   ]
  },
  {
   "cell_type": "code",
   "execution_count": 119,
   "metadata": {},
   "outputs": [
    {
     "data": {
      "image/png": "[encoded data removed]",
      "text/plain": [
       "<Figure size 640x480 with 1 Axes>"
      ]
     },
     "metadata": {},
     "output_type": "display_data"
    }
   ],
   "source": [
    "bars = plt.bar(top_3['product_name'], top_3['revenue_before_discounts'], align='center')\n",
    "plt.xlabel('Product Name')\n",
    "plt.ylabel('Revenue Before Discounts')\n",
    "plt.title('Top 3 Products by Revenue')\n",
    "plt.xticks(rotation=45, ha='right')  # Adjust horizontal alignment to 'right'\n",
    "\n",
    "for bar in bars:\n",
    "    yval = bar.get_height()\n",
    "    plt.text(bar.get_x() + bar.get_width()/2.0, yval, int(yval), va='bottom', ha='center')\n",
    "\n",
    "plt.show()"
   ]
  },
  {
   "cell_type": "markdown",
   "metadata": {},
   "source": [
    "### What is the total quantity, revenue and discount for each segment?"
   ]
  },
  {
   "cell_type": "code",
   "execution_count": 202,
   "metadata": {},
   "outputs": [
    {
     "data": {
      "text/html": [
       "<div>\n",
       "<style scoped>\n",
       "    .dataframe tbody tr th:only-of-type {\n",
       "        vertical-align: middle;\n",
       "    }\n",
       "\n",
       "    .dataframe tbody tr th {\n",
       "        vertical-align: top;\n",
       "    }\n",
       "\n",
       "    .dataframe thead th {\n",
       "        text-align: right;\n",
       "    }\n",
       "</style>\n",
       "<table border=\"1\" class=\"dataframe\">\n",
       "  <thead>\n",
       "    <tr style=\"text-align: right;\">\n",
       "      <th></th>\n",
       "      <th>segment_name</th>\n",
       "      <th>total_quantity</th>\n",
       "      <th>total_discount</th>\n",
       "      <th>total_revenue</th>\n",
       "    </tr>\n",
       "  </thead>\n",
       "  <tbody>\n",
       "    <tr>\n",
       "      <th>0</th>\n",
       "      <td>Jacket</td>\n",
       "      <td>11385</td>\n",
       "      <td>44277.46</td>\n",
       "      <td>366983.0</td>\n",
       "    </tr>\n",
       "    <tr>\n",
       "      <th>1</th>\n",
       "      <td>Jeans</td>\n",
       "      <td>11349</td>\n",
       "      <td>25343.97</td>\n",
       "      <td>208350.0</td>\n",
       "    </tr>\n",
       "    <tr>\n",
       "      <th>2</th>\n",
       "      <td>Shirt</td>\n",
       "      <td>11265</td>\n",
       "      <td>49594.27</td>\n",
       "      <td>406143.0</td>\n",
       "    </tr>\n",
       "    <tr>\n",
       "      <th>3</th>\n",
       "      <td>Socks</td>\n",
       "      <td>11217</td>\n",
       "      <td>37013.44</td>\n",
       "      <td>307977.0</td>\n",
       "    </tr>\n",
       "  </tbody>\n",
       "</table>\n",
       "</div>"
      ],
      "text/plain": [
       "  segment_name  total_quantity  total_discount  total_revenue\n",
       "0       Jacket           11385        44277.46       366983.0\n",
       "1        Jeans           11349        25343.97       208350.0\n",
       "2        Shirt           11265        49594.27       406143.0\n",
       "3        Socks           11217        37013.44       307977.0"
      ]
     },
     "execution_count": 202,
     "metadata": {},
     "output_type": "execute_result"
    }
   ],
   "source": [
    "segment = \"\"\"\n",
    "WITH sales_and_products AS (\n",
    "SELECT *\n",
    "FROM sales\n",
    "LEFT JOIN product_details\n",
    "ON sales.prod_id = product_details.product_id)\n",
    "\n",
    "SELECT \n",
    "    segment_name,\n",
    "    SUM(qty) AS total_quantity,\n",
    "    SUM(qty * price * (CAST(discount AS REAL)/100))  AS total_discount,\n",
    "    SUM(qty * price) * (1 - CAST(MIN(discount) AS REAL)/100) AS total_revenue\n",
    "FROM sales_and_products\n",
    "GROUP BY segment_name\n",
    "\"\"\"\n",
    "\n",
    "segment = pd.read_sql_query(segment,connection)\n",
    "segment"
   ]
  },
  {
   "cell_type": "code",
   "execution_count": 124,
   "metadata": {},
   "outputs": [
    {
     "data": {
      "image/png": "[encoded data removed]",
      "text/plain": [
       "<Figure size 640x480 with 1 Axes>"
      ]
     },
     "metadata": {},
     "output_type": "display_data"
    },
    {
     "data": {
      "image/png": "[encoded data removed]",
      "text/plain": [
       "<Figure size 640x480 with 1 Axes>"
      ]
     },
     "metadata": {},
     "output_type": "display_data"
    },
    {
     "data": {
      "image/png": "[encoded data removed]",
      "text/plain": [
       "<Figure size 640x480 with 1 Axes>"
      ]
     },
     "metadata": {},
     "output_type": "display_data"
    }
   ],
   "source": [
    "for col in segment.columns[1:]:\n",
    "    plt.figure()  # This creates a new figure for each plot\n",
    "    plt.bar(segment['segment_name'], segment[col], label=col)\n",
    "    plt.title(col)\n",
    "    plt.legend()\n",
    "    plt.show()"
   ]
  },
  {
   "cell_type": "markdown",
   "metadata": {},
   "source": [
    "### What is the top selling product for each segment?"
   ]
  },
  {
   "cell_type": "code",
   "execution_count": 125,
   "metadata": {},
   "outputs": [
    {
     "data": {
      "text/html": [
       "<div>\n",
       "<style scoped>\n",
       "    .dataframe tbody tr th:only-of-type {\n",
       "        vertical-align: middle;\n",
       "    }\n",
       "\n",
       "    .dataframe tbody tr th {\n",
       "        vertical-align: top;\n",
       "    }\n",
       "\n",
       "    .dataframe thead th {\n",
       "        text-align: right;\n",
       "    }\n",
       "</style>\n",
       "<table border=\"1\" class=\"dataframe\">\n",
       "  <thead>\n",
       "    <tr style=\"text-align: right;\">\n",
       "      <th></th>\n",
       "      <th>segment_name</th>\n",
       "      <th>product_name</th>\n",
       "      <th>total_revenue</th>\n",
       "    </tr>\n",
       "  </thead>\n",
       "  <tbody>\n",
       "    <tr>\n",
       "      <th>0</th>\n",
       "      <td>Jacket</td>\n",
       "      <td>Grey Fashion Jacket - Womens</td>\n",
       "      <td>183912.12</td>\n",
       "    </tr>\n",
       "    <tr>\n",
       "      <th>1</th>\n",
       "      <td>Jeans</td>\n",
       "      <td>Black Straight Jeans - Womens</td>\n",
       "      <td>106407.04</td>\n",
       "    </tr>\n",
       "    <tr>\n",
       "      <th>2</th>\n",
       "      <td>Shirt</td>\n",
       "      <td>Blue Polo Shirt - Mens</td>\n",
       "      <td>190863.93</td>\n",
       "    </tr>\n",
       "    <tr>\n",
       "      <th>3</th>\n",
       "      <td>Socks</td>\n",
       "      <td>Navy Solid Socks - Mens</td>\n",
       "      <td>119861.64</td>\n",
       "    </tr>\n",
       "  </tbody>\n",
       "</table>\n",
       "</div>"
      ],
      "text/plain": [
       "  segment_name                   product_name  total_revenue\n",
       "0       Jacket   Grey Fashion Jacket - Womens      183912.12\n",
       "1        Jeans  Black Straight Jeans - Womens      106407.04\n",
       "2        Shirt         Blue Polo Shirt - Mens      190863.93\n",
       "3        Socks        Navy Solid Socks - Mens      119861.64"
      ]
     },
     "execution_count": 125,
     "metadata": {},
     "output_type": "execute_result"
    }
   ],
   "source": [
    "top_product_per_segment = \"\"\"\n",
    "SELECT segment_name, product_name, total_revenue\n",
    "FROM(\n",
    "SELECT\n",
    "    segment_name,\n",
    "    product_name,\n",
    "    style_name,\n",
    "    SUM(revenue) AS total_revenue,\n",
    "    RANK() OVER(PARTITION BY segment_name ORDER BY SUM(revenue) DESC) AS rank\n",
    "FROM main_table\n",
    "GROUP BY segment_id,style_id \n",
    "ORDER BY segment_name, style_name, rank \n",
    ") AS top_segments\n",
    "WHERE rank = 1\n",
    "\"\"\"\n",
    "top_product_per_segment = pd.read_sql_query(top_product_per_segment,connection)\n",
    "top_product_per_segment"
   ]
  },
  {
   "cell_type": "code",
   "execution_count": 128,
   "metadata": {},
   "outputs": [
    {
     "data": {
      "image/png": "[encoded data removed]",
      "text/plain": [
       "<Figure size 640x480 with 1 Axes>"
      ]
     },
     "metadata": {},
     "output_type": "display_data"
    }
   ],
   "source": [
    "plt.bar(top_product_per_segment['product_name'], top_product_per_segment['total_revenue'])\n",
    "plt.xlabel('Product Name')\n",
    "plt.ylabel('Total Revenue')\n",
    "plt.title('Top Product for each Segment')\n",
    "plt.xticks(rotation=45, ha='right')\n",
    "plt.show()"
   ]
  },
  {
   "cell_type": "markdown",
   "metadata": {},
   "source": [
    "### what is the total quantity, revenue and discount for each category?"
   ]
  },
  {
   "cell_type": "code",
   "execution_count": 69,
   "metadata": {},
   "outputs": [
    {
     "data": {
      "text/html": [
       "<div>\n",
       "<style scoped>\n",
       "    .dataframe tbody tr th:only-of-type {\n",
       "        vertical-align: middle;\n",
       "    }\n",
       "\n",
       "    .dataframe tbody tr th {\n",
       "        vertical-align: top;\n",
       "    }\n",
       "\n",
       "    .dataframe thead th {\n",
       "        text-align: right;\n",
       "    }\n",
       "</style>\n",
       "<table border=\"1\" class=\"dataframe\">\n",
       "  <thead>\n",
       "    <tr style=\"text-align: right;\">\n",
       "      <th></th>\n",
       "      <th>category_name</th>\n",
       "      <th>total_quantity</th>\n",
       "      <th>total_discount</th>\n",
       "      <th>total_revenue</th>\n",
       "    </tr>\n",
       "  </thead>\n",
       "  <tbody>\n",
       "    <tr>\n",
       "      <th>0</th>\n",
       "      <td>Mens</td>\n",
       "      <td>22482</td>\n",
       "      <td>86607.71</td>\n",
       "      <td>627512.29</td>\n",
       "    </tr>\n",
       "    <tr>\n",
       "      <th>1</th>\n",
       "      <td>Womens</td>\n",
       "      <td>22734</td>\n",
       "      <td>69621.43</td>\n",
       "      <td>505711.57</td>\n",
       "    </tr>\n",
       "  </tbody>\n",
       "</table>\n",
       "</div>"
      ],
      "text/plain": [
       "  category_name  total_quantity  total_discount  total_revenue\n",
       "0          Mens           22482        86607.71      627512.29\n",
       "1        Womens           22734        69621.43      505711.57"
      ]
     },
     "execution_count": 69,
     "metadata": {},
     "output_type": "execute_result"
    }
   ],
   "source": [
    "category = \"\"\"\n",
    "SELECT \n",
    "    category_name,\n",
    "    SUM(qty) AS total_quantity,\n",
    "    SUM(discount_amount)  AS total_discount,\n",
    "    SUM(revenue) AS total_revenue\n",
    "FROM main_table\n",
    "GROUP BY category_name\n",
    "\"\"\"\n",
    "category = pd.read_sql_query(category,connection)\n",
    "category"
   ]
  },
  {
   "cell_type": "code",
   "execution_count": 130,
   "metadata": {},
   "outputs": [
    {
     "data": {
      "image/png": "[encoded data removed]",
      "text/plain": [
       "<Figure size 640x480 with 1 Axes>"
      ]
     },
     "metadata": {},
     "output_type": "display_data"
    },
    {
     "data": {
      "image/png": "[encoded data removed]",
      "text/plain": [
       "<Figure size 640x480 with 1 Axes>"
      ]
     },
     "metadata": {},
     "output_type": "display_data"
    },
    {
     "data": {
      "image/png": "[encoded data removed]",
      "text/plain": [
       "<Figure size 640x480 with 1 Axes>"
      ]
     },
     "metadata": {},
     "output_type": "display_data"
    }
   ],
   "source": [
    "for col in category.columns[1:]:\n",
    "    plt.figure()  # This creates a new figure for each plot\n",
    "    plt.bar(category['category_name'], category[col], label=col)\n",
    "    plt.title(col + ' by Category')\n",
    "    plt.legend()\n",
    "    plt.show()"
   ]
  },
  {
   "cell_type": "markdown",
   "metadata": {},
   "source": [
    "### what is the top selling product for each category?"
   ]
  },
  {
   "cell_type": "code",
   "execution_count": 131,
   "metadata": {},
   "outputs": [
    {
     "data": {
      "text/html": [
       "<div>\n",
       "<style scoped>\n",
       "    .dataframe tbody tr th:only-of-type {\n",
       "        vertical-align: middle;\n",
       "    }\n",
       "\n",
       "    .dataframe tbody tr th {\n",
       "        vertical-align: top;\n",
       "    }\n",
       "\n",
       "    .dataframe thead th {\n",
       "        text-align: right;\n",
       "    }\n",
       "</style>\n",
       "<table border=\"1\" class=\"dataframe\">\n",
       "  <thead>\n",
       "    <tr style=\"text-align: right;\">\n",
       "      <th></th>\n",
       "      <th>category_name</th>\n",
       "      <th>product_name</th>\n",
       "      <th>total_revenue</th>\n",
       "    </tr>\n",
       "  </thead>\n",
       "  <tbody>\n",
       "    <tr>\n",
       "      <th>0</th>\n",
       "      <td>Mens</td>\n",
       "      <td>Blue Polo Shirt - Mens</td>\n",
       "      <td>190863.93</td>\n",
       "    </tr>\n",
       "    <tr>\n",
       "      <th>1</th>\n",
       "      <td>Womens</td>\n",
       "      <td>Grey Fashion Jacket - Womens</td>\n",
       "      <td>183912.12</td>\n",
       "    </tr>\n",
       "  </tbody>\n",
       "</table>\n",
       "</div>"
      ],
      "text/plain": [
       "  category_name                  product_name  total_revenue\n",
       "0          Mens        Blue Polo Shirt - Mens      190863.93\n",
       "1        Womens  Grey Fashion Jacket - Womens      183912.12"
      ]
     },
     "execution_count": 131,
     "metadata": {},
     "output_type": "execute_result"
    }
   ],
   "source": [
    "top_product_per_category = \"\"\"\n",
    "SELECT category_name, product_name, total_revenue\n",
    "FROM(\n",
    "SELECT\n",
    "    category_name,\n",
    "    product_name,\n",
    "    style_name,\n",
    "    SUM(revenue) AS total_revenue,\n",
    "    RANK() OVER(PARTITION BY category_name ORDER BY SUM(revenue) DESC) AS rank\n",
    "FROM main_table\n",
    "GROUP BY category_id,style_id \n",
    "ORDER BY category_name, style_name, rank \n",
    ") AS top_categories\n",
    "WHERE rank = 1\n",
    "\"\"\"\n",
    "top_product_per_category = pd.read_sql_query(top_product_per_category,connection)\n",
    "top_product_per_category"
   ]
  },
  {
   "cell_type": "code",
   "execution_count": 134,
   "metadata": {},
   "outputs": [
    {
     "data": {
      "image/png": "[encoded data removed]",
      "text/plain": [
       "<Figure size 640x480 with 1 Axes>"
      ]
     },
     "metadata": {},
     "output_type": "display_data"
    }
   ],
   "source": [
    "plt.figure()\n",
    "plt.bar(top_product_per_category['product_name'], top_product_per_category['total_revenue'])\n",
    "plt.xlabel('Product Name')\n",
    "plt.ylabel('Total Revenue')\n",
    "plt.title('Top Product for each Category');"
   ]
  },
  {
   "cell_type": "markdown",
   "metadata": {},
   "source": [
    "### What is the percentage split revenue by product for each segment?"
   ]
  },
  {
   "cell_type": "code",
   "execution_count": 80,
   "metadata": {},
   "outputs": [
    {
     "data": {
      "text/html": [
       "<div>\n",
       "<style scoped>\n",
       "    .dataframe tbody tr th:only-of-type {\n",
       "        vertical-align: middle;\n",
       "    }\n",
       "\n",
       "    .dataframe tbody tr th {\n",
       "        vertical-align: top;\n",
       "    }\n",
       "\n",
       "    .dataframe thead th {\n",
       "        text-align: right;\n",
       "    }\n",
       "</style>\n",
       "<table border=\"1\" class=\"dataframe\">\n",
       "  <thead>\n",
       "    <tr style=\"text-align: right;\">\n",
       "      <th></th>\n",
       "      <th>segment_name</th>\n",
       "      <th>style_name</th>\n",
       "      <th>revenue</th>\n",
       "      <th>percentage_per_segment</th>\n",
       "    </tr>\n",
       "  </thead>\n",
       "  <tbody>\n",
       "    <tr>\n",
       "      <th>0</th>\n",
       "      <td>Jacket</td>\n",
       "      <td>Grey Fashion</td>\n",
       "      <td>183912.12</td>\n",
       "      <td>57.0</td>\n",
       "    </tr>\n",
       "    <tr>\n",
       "      <th>1</th>\n",
       "      <td>Jacket</td>\n",
       "      <td>Khaki Suit</td>\n",
       "      <td>76052.95</td>\n",
       "      <td>23.6</td>\n",
       "    </tr>\n",
       "    <tr>\n",
       "      <th>2</th>\n",
       "      <td>Jacket</td>\n",
       "      <td>Indigo Rain</td>\n",
       "      <td>62740.47</td>\n",
       "      <td>19.4</td>\n",
       "    </tr>\n",
       "    <tr>\n",
       "      <th>3</th>\n",
       "      <td>Jeans</td>\n",
       "      <td>Black Straight</td>\n",
       "      <td>106407.04</td>\n",
       "      <td>58.1</td>\n",
       "    </tr>\n",
       "    <tr>\n",
       "      <th>4</th>\n",
       "      <td>Jeans</td>\n",
       "      <td>Navy Oversized</td>\n",
       "      <td>43992.39</td>\n",
       "      <td>24.0</td>\n",
       "    </tr>\n",
       "    <tr>\n",
       "      <th>5</th>\n",
       "      <td>Jeans</td>\n",
       "      <td>Cream Relaxed</td>\n",
       "      <td>32606.60</td>\n",
       "      <td>17.8</td>\n",
       "    </tr>\n",
       "    <tr>\n",
       "      <th>6</th>\n",
       "      <td>Shirt</td>\n",
       "      <td>Blue Polo</td>\n",
       "      <td>190863.93</td>\n",
       "      <td>53.5</td>\n",
       "    </tr>\n",
       "    <tr>\n",
       "      <th>7</th>\n",
       "      <td>Shirt</td>\n",
       "      <td>White Tee</td>\n",
       "      <td>133622.40</td>\n",
       "      <td>37.5</td>\n",
       "    </tr>\n",
       "    <tr>\n",
       "      <th>8</th>\n",
       "      <td>Shirt</td>\n",
       "      <td>Teal Button Up</td>\n",
       "      <td>32062.40</td>\n",
       "      <td>9.0</td>\n",
       "    </tr>\n",
       "    <tr>\n",
       "      <th>9</th>\n",
       "      <td>Socks</td>\n",
       "      <td>Navy Solid</td>\n",
       "      <td>119861.64</td>\n",
       "      <td>44.2</td>\n",
       "    </tr>\n",
       "    <tr>\n",
       "      <th>10</th>\n",
       "      <td>Socks</td>\n",
       "      <td>Pink Fluro Polkadot</td>\n",
       "      <td>96377.73</td>\n",
       "      <td>35.6</td>\n",
       "    </tr>\n",
       "    <tr>\n",
       "      <th>11</th>\n",
       "      <td>Socks</td>\n",
       "      <td>White Striped</td>\n",
       "      <td>54724.19</td>\n",
       "      <td>20.2</td>\n",
       "    </tr>\n",
       "  </tbody>\n",
       "</table>\n",
       "</div>"
      ],
      "text/plain": [
       "   segment_name           style_name    revenue  percentage_per_segment\n",
       "0        Jacket         Grey Fashion  183912.12                    57.0\n",
       "1        Jacket           Khaki Suit   76052.95                    23.6\n",
       "2        Jacket          Indigo Rain   62740.47                    19.4\n",
       "3         Jeans       Black Straight  106407.04                    58.1\n",
       "4         Jeans       Navy Oversized   43992.39                    24.0\n",
       "5         Jeans        Cream Relaxed   32606.60                    17.8\n",
       "6         Shirt            Blue Polo  190863.93                    53.5\n",
       "7         Shirt            White Tee  133622.40                    37.5\n",
       "8         Shirt       Teal Button Up   32062.40                     9.0\n",
       "9         Socks           Navy Solid  119861.64                    44.2\n",
       "10        Socks  Pink Fluro Polkadot   96377.73                    35.6\n",
       "11        Socks        White Striped   54724.19                    20.2"
      ]
     },
     "execution_count": 80,
     "metadata": {},
     "output_type": "execute_result"
    }
   ],
   "source": [
    "revenues_percentages_segment = \"\"\"\n",
    "WITH segment_style_revenue AS (\n",
    "SELECT\n",
    "    segment_name,\n",
    "    style_name,\n",
    "    SUM(revenue) AS revenue\n",
    "FROM main_table\n",
    "GROUP BY segment_id, style_id)\n",
    "\n",
    "SELECt \n",
    "    s.*,\n",
    "    ROUND(revenue / SUM(revenue) OVER(PARTITION BY segment_name) * 100,1) AS percentage_per_segment\n",
    "FROM segment_style_revenue AS s\n",
    "ORDER BY segment_name, percentage_per_segment DESC\n",
    "\"\"\"\n",
    "revenues_percentages_segment = pd.read_sql_query(revenues_percentages_segment,connection)\n",
    "revenues_percentages_segment"
   ]
  },
  {
   "cell_type": "code",
   "execution_count": 138,
   "metadata": {},
   "outputs": [
    {
     "data": {
      "image/png": "[encoded data removed]",
      "text/plain": [
       "<Figure size 640x480 with 1 Axes>"
      ]
     },
     "metadata": {},
     "output_type": "display_data"
    },
    {
     "data": {
      "image/png": "[encoded data removed]",
      "text/plain": [
       "<Figure size 640x480 with 1 Axes>"
      ]
     },
     "metadata": {},
     "output_type": "display_data"
    },
    {
     "data": {
      "image/png": "[encoded data removed]",
      "text/plain": [
       "<Figure size 640x480 with 1 Axes>"
      ]
     },
     "metadata": {},
     "output_type": "display_data"
    },
    {
     "data": {
      "image/png": "[encoded data removed]",
      "text/plain": [
       "<Figure size 640x480 with 1 Axes>"
      ]
     },
     "metadata": {},
     "output_type": "display_data"
    }
   ],
   "source": [
    "segments = revenues_percentages_segment['segment_name'].unique()\n",
    "for segment in segments:\n",
    "    plt.figure()\n",
    "    plt.pie(revenues_percentages_segment[revenues_percentages_segment['segment_name'] == segment]['revenue'], labels=revenues_percentages_segment[revenues_percentages_segment['segment_name'] == segment]['style_name'], autopct='%1.1f%%')\n",
    "    plt.title('Revenue Percentages for ' + segment)\n",
    "    plt.show()"
   ]
  },
  {
   "cell_type": "markdown",
   "metadata": {},
   "source": [
    "### what is the percentage split revenue by segment for each category?"
   ]
  },
  {
   "cell_type": "code",
   "execution_count": 86,
   "metadata": {},
   "outputs": [
    {
     "data": {
      "text/html": [
       "<div>\n",
       "<style scoped>\n",
       "    .dataframe tbody tr th:only-of-type {\n",
       "        vertical-align: middle;\n",
       "    }\n",
       "\n",
       "    .dataframe tbody tr th {\n",
       "        vertical-align: top;\n",
       "    }\n",
       "\n",
       "    .dataframe thead th {\n",
       "        text-align: right;\n",
       "    }\n",
       "</style>\n",
       "<table border=\"1\" class=\"dataframe\">\n",
       "  <thead>\n",
       "    <tr style=\"text-align: right;\">\n",
       "      <th></th>\n",
       "      <th>category_name</th>\n",
       "      <th>segment_name</th>\n",
       "      <th>revenue</th>\n",
       "      <th>percentage_per_category</th>\n",
       "    </tr>\n",
       "  </thead>\n",
       "  <tbody>\n",
       "    <tr>\n",
       "      <th>0</th>\n",
       "      <td>Mens</td>\n",
       "      <td>Shirt</td>\n",
       "      <td>356548.73</td>\n",
       "      <td>56.8</td>\n",
       "    </tr>\n",
       "    <tr>\n",
       "      <th>1</th>\n",
       "      <td>Mens</td>\n",
       "      <td>Socks</td>\n",
       "      <td>270963.56</td>\n",
       "      <td>43.2</td>\n",
       "    </tr>\n",
       "    <tr>\n",
       "      <th>2</th>\n",
       "      <td>Womens</td>\n",
       "      <td>Jacket</td>\n",
       "      <td>322705.54</td>\n",
       "      <td>63.8</td>\n",
       "    </tr>\n",
       "    <tr>\n",
       "      <th>3</th>\n",
       "      <td>Womens</td>\n",
       "      <td>Jeans</td>\n",
       "      <td>183006.03</td>\n",
       "      <td>36.2</td>\n",
       "    </tr>\n",
       "  </tbody>\n",
       "</table>\n",
       "</div>"
      ],
      "text/plain": [
       "  category_name segment_name    revenue  percentage_per_category\n",
       "0          Mens        Shirt  356548.73                     56.8\n",
       "1          Mens        Socks  270963.56                     43.2\n",
       "2        Womens       Jacket  322705.54                     63.8\n",
       "3        Womens        Jeans  183006.03                     36.2"
      ]
     },
     "execution_count": 86,
     "metadata": {},
     "output_type": "execute_result"
    }
   ],
   "source": [
    "revenues_percentages_category = \"\"\"\n",
    "WITH category_style_revenue AS (\n",
    "SELECT\n",
    "    category_name,\n",
    "    segment_name,\n",
    "    SUM(revenue) AS revenue\n",
    "FROM main_table\n",
    "GROUP BY category_id, segment_id)\n",
    "\n",
    "SELECt \n",
    "    s.*,\n",
    "    ROUND(revenue / SUM(revenue) OVER(PARTITION BY category_name) * 100,1) AS percentage_per_category\n",
    "FROM category_style_revenue AS s\n",
    "ORDER BY category_name, percentage_per_category DESC\n",
    "\"\"\"\n",
    "revenues_percentages_category = pd.read_sql_query(revenues_percentages_category,connection)\n",
    "revenues_percentages_category"
   ]
  },
  {
   "cell_type": "code",
   "execution_count": 140,
   "metadata": {},
   "outputs": [
    {
     "data": {
      "image/png": "[encoded data removed]",
      "text/plain": [
       "<Figure size 640x480 with 1 Axes>"
      ]
     },
     "metadata": {},
     "output_type": "display_data"
    },
    {
     "data": {
      "image/png": "[encoded data removed]",
      "text/plain": [
       "<Figure size 640x480 with 1 Axes>"
      ]
     },
     "metadata": {},
     "output_type": "display_data"
    }
   ],
   "source": [
    "category = revenues_percentages_category['category_name'].unique()\n",
    "for cat in category:\n",
    "    plt.figure()\n",
    "    plt.pie(revenues_percentages_category[revenues_percentages_category['category_name'] == cat]['revenue'], labels=revenues_percentages_category[revenues_percentages_category['category_name'] == cat]['segment_name'], autopct='%1.1f%%')\n",
    "    plt.title('Top Segments for ' + cat)\n",
    "    plt.show()"
   ]
  },
  {
   "cell_type": "markdown",
   "metadata": {},
   "source": [
    "### What is the percentage split of total revenue by category"
   ]
  },
  {
   "cell_type": "code",
   "execution_count": 90,
   "metadata": {},
   "outputs": [
    {
     "data": {
      "text/html": [
       "<div>\n",
       "<style scoped>\n",
       "    .dataframe tbody tr th:only-of-type {\n",
       "        vertical-align: middle;\n",
       "    }\n",
       "\n",
       "    .dataframe tbody tr th {\n",
       "        vertical-align: top;\n",
       "    }\n",
       "\n",
       "    .dataframe thead th {\n",
       "        text-align: right;\n",
       "    }\n",
       "</style>\n",
       "<table border=\"1\" class=\"dataframe\">\n",
       "  <thead>\n",
       "    <tr style=\"text-align: right;\">\n",
       "      <th></th>\n",
       "      <th>category_name</th>\n",
       "      <th>revenue</th>\n",
       "      <th>percentage_per_category</th>\n",
       "    </tr>\n",
       "  </thead>\n",
       "  <tbody>\n",
       "    <tr>\n",
       "      <th>0</th>\n",
       "      <td>Mens</td>\n",
       "      <td>627512.29</td>\n",
       "      <td>55.4</td>\n",
       "    </tr>\n",
       "    <tr>\n",
       "      <th>1</th>\n",
       "      <td>Womens</td>\n",
       "      <td>505711.57</td>\n",
       "      <td>44.6</td>\n",
       "    </tr>\n",
       "  </tbody>\n",
       "</table>\n",
       "</div>"
      ],
      "text/plain": [
       "  category_name    revenue  percentage_per_category\n",
       "0          Mens  627512.29                     55.4\n",
       "1        Womens  505711.57                     44.6"
      ]
     },
     "execution_count": 90,
     "metadata": {},
     "output_type": "execute_result"
    }
   ],
   "source": [
    "revenues_per_category = \"\"\"\n",
    "WITH category_style_revenue AS (\n",
    "SELECT\n",
    "    category_name,\n",
    "    SUM(revenue) AS revenue\n",
    "FROM main_table\n",
    "GROUP BY category_id)\n",
    "\n",
    "SELECt \n",
    "    s.*,\n",
    "    ROUND(revenue / SUM(revenue) OVER() * 100,1) AS percentage_per_category\n",
    "FROM category_style_revenue AS s\n",
    "ORDER BY category_name, percentage_per_category DESC\n",
    "\"\"\"\n",
    "revenues_per_category = pd.read_sql_query(revenues_per_category,connection)\n",
    "revenues_per_category"
   ]
  },
  {
   "cell_type": "code",
   "execution_count": 142,
   "metadata": {},
   "outputs": [
    {
     "data": {
      "text/plain": [
       "Text(0.5, 1.0, 'Total Revenue by Category')"
      ]
     },
     "execution_count": 142,
     "metadata": {},
     "output_type": "execute_result"
    },
    {
     "data": {
      "image/png": "[encoded data removed]",
      "text/plain": [
       "<Figure size 640x480 with 1 Axes>"
      ]
     },
     "metadata": {},
     "output_type": "display_data"
    }
   ],
   "source": [
    "plt.bar(revenues_per_category['category_name'], revenues_per_category['revenue'])\n",
    "plt.xlabel('Category Name')\n",
    "plt.ylabel('Total Revenue')\n",
    "plt.title('Total Revenue by Category');"
   ]
  },
  {
   "cell_type": "markdown",
   "metadata": {},
   "source": [
    "### What is the total transaction “penetration” for each product?\n",
    "- penetration = number of transactions where at least 1 quantity of a product was purchased divided by total number of transactions\n",
    "\n",
    "It simply means what is the percetage of transactions each product appeared in"
   ]
  },
  {
   "cell_type": "code",
   "execution_count": 91,
   "metadata": {},
   "outputs": [
    {
     "data": {
      "text/html": [
       "<div>\n",
       "<style scoped>\n",
       "    .dataframe tbody tr th:only-of-type {\n",
       "        vertical-align: middle;\n",
       "    }\n",
       "\n",
       "    .dataframe tbody tr th {\n",
       "        vertical-align: top;\n",
       "    }\n",
       "\n",
       "    .dataframe thead th {\n",
       "        text-align: right;\n",
       "    }\n",
       "</style>\n",
       "<table border=\"1\" class=\"dataframe\">\n",
       "  <thead>\n",
       "    <tr style=\"text-align: right;\">\n",
       "      <th></th>\n",
       "      <th>product_name</th>\n",
       "      <th>penetration_percentage</th>\n",
       "    </tr>\n",
       "  </thead>\n",
       "  <tbody>\n",
       "    <tr>\n",
       "      <th>0</th>\n",
       "      <td>Navy Solid Socks - Mens</td>\n",
       "      <td>51.24</td>\n",
       "    </tr>\n",
       "    <tr>\n",
       "      <th>1</th>\n",
       "      <td>Grey Fashion Jacket - Womens</td>\n",
       "      <td>51.00</td>\n",
       "    </tr>\n",
       "    <tr>\n",
       "      <th>2</th>\n",
       "      <td>Navy Oversized Jeans - Womens</td>\n",
       "      <td>50.96</td>\n",
       "    </tr>\n",
       "    <tr>\n",
       "      <th>3</th>\n",
       "      <td>White Tee Shirt - Mens</td>\n",
       "      <td>50.72</td>\n",
       "    </tr>\n",
       "    <tr>\n",
       "      <th>4</th>\n",
       "      <td>Blue Polo Shirt - Mens</td>\n",
       "      <td>50.72</td>\n",
       "    </tr>\n",
       "    <tr>\n",
       "      <th>5</th>\n",
       "      <td>Pink Fluro Polkadot Socks - Mens</td>\n",
       "      <td>50.32</td>\n",
       "    </tr>\n",
       "    <tr>\n",
       "      <th>6</th>\n",
       "      <td>Indigo Rain Jacket - Womens</td>\n",
       "      <td>50.00</td>\n",
       "    </tr>\n",
       "    <tr>\n",
       "      <th>7</th>\n",
       "      <td>Khaki Suit Jacket - Womens</td>\n",
       "      <td>49.88</td>\n",
       "    </tr>\n",
       "    <tr>\n",
       "      <th>8</th>\n",
       "      <td>Black Straight Jeans - Womens</td>\n",
       "      <td>49.84</td>\n",
       "    </tr>\n",
       "    <tr>\n",
       "      <th>9</th>\n",
       "      <td>Cream Relaxed Jeans - Womens</td>\n",
       "      <td>49.72</td>\n",
       "    </tr>\n",
       "    <tr>\n",
       "      <th>10</th>\n",
       "      <td>White Striped Socks - Mens</td>\n",
       "      <td>49.72</td>\n",
       "    </tr>\n",
       "    <tr>\n",
       "      <th>11</th>\n",
       "      <td>Teal Button Up Shirt - Mens</td>\n",
       "      <td>49.68</td>\n",
       "    </tr>\n",
       "  </tbody>\n",
       "</table>\n",
       "</div>"
      ],
      "text/plain": [
       "                        product_name  penetration_percentage\n",
       "0            Navy Solid Socks - Mens                   51.24\n",
       "1       Grey Fashion Jacket - Womens                   51.00\n",
       "2      Navy Oversized Jeans - Womens                   50.96\n",
       "3             White Tee Shirt - Mens                   50.72\n",
       "4             Blue Polo Shirt - Mens                   50.72\n",
       "5   Pink Fluro Polkadot Socks - Mens                   50.32\n",
       "6        Indigo Rain Jacket - Womens                   50.00\n",
       "7         Khaki Suit Jacket - Womens                   49.88\n",
       "8      Black Straight Jeans - Womens                   49.84\n",
       "9       Cream Relaxed Jeans - Womens                   49.72\n",
       "10        White Striped Socks - Mens                   49.72\n",
       "11       Teal Button Up Shirt - Mens                   49.68"
      ]
     },
     "execution_count": 91,
     "metadata": {},
     "output_type": "execute_result"
    }
   ],
   "source": [
    "penetration_per_product = \"\"\"\n",
    "\n",
    "SELECT product_name,\n",
    "       CAST(COUNT(txn_id) AS REAL) / (SELECT COUNT(DISTINCT txn_id) FROM sales) * 100 AS penetration_percentage\n",
    "FROM main_table\n",
    "GROUP BY product_id\n",
    "ORDER BY penetration_percentage DESC\n",
    "\"\"\"\n",
    "penetration_per_product = pd.read_sql_query(penetration_per_product,connection)\n",
    "penetration_per_product"
   ]
  },
  {
   "cell_type": "markdown",
   "metadata": {},
   "source": [
    "### What is the most common combination of at least 1 quantity of any 3 products in a 1 single transaction?\n",
    "\n",
    "- To make combinations of 3 in SQl, we will join the table on itself additional 2 times (to result in 3 tables)\n",
    "    - the join is of type INNER\n",
    "    - the names shouldn't match (we don't match a value with itself in the combination)\n",
    "    - if we match row A with row B, don't match row b with row A (we do that by row A < row b, so only 1 of them will match -the largest will be added to the smallest)\n",
    "- additional rule is that these combinations should be in the same transaction (we create unique combinations of 3 within the transaction, so we will add that condition as well during the join)\n",
    "\n",
    "- Visual example on the combination process"
   ]
  },
  {
   "cell_type": "markdown",
   "metadata": {},
   "source": [
    "**Initial Tables:**\n",
    "### product_details\n",
    "\n",
    "| product_id | product_name |\n",
    "| --- | --- |\n",
    "| 1        | A          |\n",
    "| 2        | B          |\n",
    "| 3        | C          |\n",
    "| 4        | D          |\n",
    "\n",
    "**CTE: products**\n",
    "### products\n",
    "\n",
    "| txn_id | product_name |\n",
    "| --- | --- |\n",
    "| 1    | A          |\n",
    "| 1    | B          |\n",
    "| 1    | C          |\n",
    "| 1    | D          |\n",
    "\n",
    "**First Join: p and p1**\n",
    "### p and p1\n",
    "\n",
    "| p.product_name | p1.product_name |\n",
    "| --- | --- |\n",
    "| A          | B          |\n",
    "| A          | C          |\n",
    "| A          | D          |\n",
    "| B          | C          |\n",
    "| B          | D          |\n",
    "| C          | D          |\n",
    "\n",
    "**Second Join: p, p1, and p2**\n",
    "### p, p1, and p2\n",
    "\n",
    "| p.product_name | p1.product_name | p2.product_name |\n",
    "| --- | --- | --- |\n",
    "| A          | B          | C          |\n",
    "| A          | B          | D          |\n",
    "| A          | C          | D          |\n",
    "| B          | C          | D          |\n",
    "\n",
    "**Final Result**\n",
    "### Final Result\n",
    "\n",
    "| product_1 | product_2 | product_3 | times_bought_together | rank |\n",
    "| --- | --- | --- | --- | --- |\n",
    "| A        | B        | C        | 1                    | 1   |\n",
    "| A        | B        | D        | 1                    | 1   |\n",
    "| A        | C        | D        | 1                    | 1   |\n",
    "| B        | C        | D        | 1                    | 1   |"
   ]
  },
  {
   "cell_type": "code",
   "execution_count": 92,
   "metadata": {},
   "outputs": [
    {
     "data": {
      "text/html": [
       "<div>\n",
       "<style scoped>\n",
       "    .dataframe tbody tr th:only-of-type {\n",
       "        vertical-align: middle;\n",
       "    }\n",
       "\n",
       "    .dataframe tbody tr th {\n",
       "        vertical-align: top;\n",
       "    }\n",
       "\n",
       "    .dataframe thead th {\n",
       "        text-align: right;\n",
       "    }\n",
       "</style>\n",
       "<table border=\"1\" class=\"dataframe\">\n",
       "  <thead>\n",
       "    <tr style=\"text-align: right;\">\n",
       "      <th></th>\n",
       "      <th>product_1</th>\n",
       "      <th>product_2</th>\n",
       "      <th>product_3</th>\n",
       "      <th>times_bought_together</th>\n",
       "      <th>rank</th>\n",
       "    </tr>\n",
       "  </thead>\n",
       "  <tbody>\n",
       "    <tr>\n",
       "      <th>0</th>\n",
       "      <td>Grey Fashion Jacket - Womens</td>\n",
       "      <td>Teal Button Up Shirt - Mens</td>\n",
       "      <td>White Tee Shirt - Mens</td>\n",
       "      <td>352</td>\n",
       "      <td>1</td>\n",
       "    </tr>\n",
       "    <tr>\n",
       "      <th>1</th>\n",
       "      <td>Black Straight Jeans - Womens</td>\n",
       "      <td>Indigo Rain Jacket - Womens</td>\n",
       "      <td>Navy Solid Socks - Mens</td>\n",
       "      <td>349</td>\n",
       "      <td>2</td>\n",
       "    </tr>\n",
       "    <tr>\n",
       "      <th>2</th>\n",
       "      <td>Black Straight Jeans - Womens</td>\n",
       "      <td>Grey Fashion Jacket - Womens</td>\n",
       "      <td>Pink Fluro Polkadot Socks - Mens</td>\n",
       "      <td>347</td>\n",
       "      <td>3</td>\n",
       "    </tr>\n",
       "    <tr>\n",
       "      <th>3</th>\n",
       "      <td>Blue Polo Shirt - Mens</td>\n",
       "      <td>Grey Fashion Jacket - Womens</td>\n",
       "      <td>Teal Button Up Shirt - Mens</td>\n",
       "      <td>347</td>\n",
       "      <td>4</td>\n",
       "    </tr>\n",
       "    <tr>\n",
       "      <th>4</th>\n",
       "      <td>Blue Polo Shirt - Mens</td>\n",
       "      <td>Grey Fashion Jacket - Womens</td>\n",
       "      <td>White Striped Socks - Mens</td>\n",
       "      <td>347</td>\n",
       "      <td>5</td>\n",
       "    </tr>\n",
       "    <tr>\n",
       "      <th>...</th>\n",
       "      <td>...</td>\n",
       "      <td>...</td>\n",
       "      <td>...</td>\n",
       "      <td>...</td>\n",
       "      <td>...</td>\n",
       "    </tr>\n",
       "    <tr>\n",
       "      <th>215</th>\n",
       "      <td>Cream Relaxed Jeans - Womens</td>\n",
       "      <td>Pink Fluro Polkadot Socks - Mens</td>\n",
       "      <td>White Tee Shirt - Mens</td>\n",
       "      <td>290</td>\n",
       "      <td>216</td>\n",
       "    </tr>\n",
       "    <tr>\n",
       "      <th>216</th>\n",
       "      <td>Indigo Rain Jacket - Womens</td>\n",
       "      <td>Khaki Suit Jacket - Womens</td>\n",
       "      <td>Pink Fluro Polkadot Socks - Mens</td>\n",
       "      <td>289</td>\n",
       "      <td>217</td>\n",
       "    </tr>\n",
       "    <tr>\n",
       "      <th>217</th>\n",
       "      <td>Cream Relaxed Jeans - Womens</td>\n",
       "      <td>White Striped Socks - Mens</td>\n",
       "      <td>White Tee Shirt - Mens</td>\n",
       "      <td>288</td>\n",
       "      <td>218</td>\n",
       "    </tr>\n",
       "    <tr>\n",
       "      <th>218</th>\n",
       "      <td>Indigo Rain Jacket - Womens</td>\n",
       "      <td>Khaki Suit Jacket - Womens</td>\n",
       "      <td>Navy Oversized Jeans - Womens</td>\n",
       "      <td>287</td>\n",
       "      <td>219</td>\n",
       "    </tr>\n",
       "    <tr>\n",
       "      <th>219</th>\n",
       "      <td>Black Straight Jeans - Womens</td>\n",
       "      <td>Cream Relaxed Jeans - Womens</td>\n",
       "      <td>Khaki Suit Jacket - Womens</td>\n",
       "      <td>283</td>\n",
       "      <td>220</td>\n",
       "    </tr>\n",
       "  </tbody>\n",
       "</table>\n",
       "<p>220 rows × 5 columns</p>\n",
       "</div>"
      ],
      "text/plain": [
       "                         product_1                         product_2  \\\n",
       "0     Grey Fashion Jacket - Womens       Teal Button Up Shirt - Mens   \n",
       "1    Black Straight Jeans - Womens       Indigo Rain Jacket - Womens   \n",
       "2    Black Straight Jeans - Womens      Grey Fashion Jacket - Womens   \n",
       "3           Blue Polo Shirt - Mens      Grey Fashion Jacket - Womens   \n",
       "4           Blue Polo Shirt - Mens      Grey Fashion Jacket - Womens   \n",
       "..                             ...                               ...   \n",
       "215   Cream Relaxed Jeans - Womens  Pink Fluro Polkadot Socks - Mens   \n",
       "216    Indigo Rain Jacket - Womens        Khaki Suit Jacket - Womens   \n",
       "217   Cream Relaxed Jeans - Womens        White Striped Socks - Mens   \n",
       "218    Indigo Rain Jacket - Womens        Khaki Suit Jacket - Womens   \n",
       "219  Black Straight Jeans - Womens      Cream Relaxed Jeans - Womens   \n",
       "\n",
       "                            product_3  times_bought_together  rank  \n",
       "0              White Tee Shirt - Mens                    352     1  \n",
       "1             Navy Solid Socks - Mens                    349     2  \n",
       "2    Pink Fluro Polkadot Socks - Mens                    347     3  \n",
       "3         Teal Button Up Shirt - Mens                    347     4  \n",
       "4          White Striped Socks - Mens                    347     5  \n",
       "..                                ...                    ...   ...  \n",
       "215            White Tee Shirt - Mens                    290   216  \n",
       "216  Pink Fluro Polkadot Socks - Mens                    289   217  \n",
       "217            White Tee Shirt - Mens                    288   218  \n",
       "218     Navy Oversized Jeans - Womens                    287   219  \n",
       "219        Khaki Suit Jacket - Womens                    283   220  \n",
       "\n",
       "[220 rows x 5 columns]"
      ]
     },
     "execution_count": 92,
     "metadata": {},
     "output_type": "execute_result"
    }
   ],
   "source": [
    "group_sql = \"\"\"\n",
    "with products AS(\n",
    "      SELECT\n",
    "        txn_id,\n",
    "        product_name\n",
    "      FROM\n",
    "        main_table\n",
    "    )\n",
    "    \n",
    "    SELECT\n",
    "      p.product_name AS product_1,\n",
    "      p1.product_name AS product_2,\n",
    "      p2.product_name AS product_3,\n",
    "      COUNT(*) AS times_bought_together,\n",
    "      ROW_NUMBER() OVER(\n",
    "        ORDER BY\n",
    "          COUNT(*) DESC\n",
    "      ) AS rank\n",
    "    FROM\n",
    "      products AS p\n",
    "      INNER JOIN products AS p1 ON p.txn_id = p1.txn_id\n",
    "      AND p.product_name != p1.product_name\n",
    "      AND p.product_name < p1.product_name\n",
    "      INNER JOIN products AS p2 ON p.txn_id = p2.txn_id\n",
    "      AND p.product_name != p2.product_name\n",
    "      AND p1.product_name != p2.product_name\n",
    "      AND p.product_name < p2.product_name\n",
    "      AND p1.product_name < p2.product_name\n",
    "    GROUP BY\n",
    "      p.product_name,\n",
    "      p1.product_name,\n",
    "      p2.product_name\n",
    "\"\"\"\n",
    "pd.read_sql_query(group_sql, connection)"
   ]
  },
  {
   "cell_type": "markdown",
   "metadata": {},
   "source": [
    "we got 220 rows because we have 12 products, and the number of unique 3-combinations are 12C3 = 220 combination"
   ]
  }
 ],
 "metadata": {
  "kernelspec": {
   "display_name": "analysis",
   "language": "python",
   "name": "python3"
  },
  "language_info": {
   "codemirror_mode": {
    "name": "ipython",
    "version": 3
   },
   "file_extension": ".py",
   "mimetype": "text/x-python",
   "name": "python",
   "nbconvert_exporter": "python",
   "pygments_lexer": "ipython3",
   "version": "3.8.19"
  }
 },
 "nbformat": 4,
 "nbformat_minor": 2
}
