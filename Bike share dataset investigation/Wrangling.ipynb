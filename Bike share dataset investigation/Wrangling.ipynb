{
 "cells": [
  {
   "cell_type": "markdown",
   "metadata": {},
   "source": [
    "# Investigating Bike Share datasets (2024)\n",
    "In this notebook, I will Wrangle bike share data from 3 different sources and combine them together for further analysis. The data is about bike share systems in 3 different cities in the United States\n",
    "1. Chicago (Data obtained from Divvy company)\n",
    "2. New York City (Data obtained from Citi Bike company)\n",
    "3. Washington, DC (Data obtained from Capital Bikeshare company)"
   ]
  },
  {
   "cell_type": "markdown",
   "metadata": {},
   "source": [
    "## Imports "
   ]
  },
  {
   "cell_type": "code",
   "execution_count": 1,
   "metadata": {},
   "outputs": [],
   "source": [
    "import pandas as pd\n",
    "import os"
   ]
  },
  {
   "cell_type": "markdown",
   "metadata": {},
   "source": [
    "## Gathering Data"
   ]
  },
  {
   "cell_type": "code",
   "execution_count": 2,
   "metadata": {},
   "outputs": [
    {
     "data": {
      "text/plain": [
       "(5738612, 13)"
      ]
     },
     "execution_count": 2,
     "metadata": {},
     "output_type": "execute_result"
    }
   ],
   "source": [
    "chicago_datasets = os.listdir('chicago')\n",
    "# read the CSVs and append them in a single DataFrame\n",
    "chicago = pd.concat([pd.read_csv(f'chicago/{dataset}') for dataset in chicago_datasets])\n",
    "chicago.shape"
   ]
  },
  {
   "cell_type": "code",
   "execution_count": 3,
   "metadata": {},
   "outputs": [
    {
     "data": {
      "text/plain": [
       "(988774, 13)"
      ]
     },
     "execution_count": 3,
     "metadata": {},
     "output_type": "execute_result"
    }
   ],
   "source": [
    "new_york_datasets = os.listdir('Newyork')\n",
    "new_york = pd.concat([pd.read_csv(f'Newyork/{dataset}') for dataset in new_york_datasets])\n",
    "new_york.shape"
   ]
  },
  {
   "cell_type": "code",
   "execution_count": 4,
   "metadata": {},
   "outputs": [
    {
     "data": {
      "text/plain": [
       "(4860726, 13)"
      ]
     },
     "execution_count": 4,
     "metadata": {},
     "output_type": "execute_result"
    }
   ],
   "source": [
    "washigton_datasets = os.listdir('Washington')\n",
    "washigton = pd.concat([pd.read_csv(f'Washington/{dataset}') for dataset in washigton_datasets])\n",
    "washigton.shape"
   ]
  },
  {
   "cell_type": "markdown",
   "metadata": {},
   "source": [
    "## Assessing"
   ]
  },
  {
   "cell_type": "markdown",
   "metadata": {},
   "source": [
    "### existing columns in the datasets"
   ]
  },
  {
   "cell_type": "code",
   "execution_count": 5,
   "metadata": {},
   "outputs": [
    {
     "data": {
      "text/plain": [
       "(Index(['ride_id', 'rideable_type', 'started_at', 'ended_at',\n",
       "        'start_station_name', 'start_station_id', 'end_station_name',\n",
       "        'end_station_id', 'start_lat', 'start_lng', 'end_lat', 'end_lng',\n",
       "        'member_casual'],\n",
       "       dtype='object'),\n",
       " Index(['ride_id', 'rideable_type', 'started_at', 'ended_at',\n",
       "        'start_station_name', 'start_station_id', 'end_station_name',\n",
       "        'end_station_id', 'start_lat', 'start_lng', 'end_lat', 'end_lng',\n",
       "        'member_casual'],\n",
       "       dtype='object'),\n",
       " Index(['ride_id', 'rideable_type', 'started_at', 'ended_at',\n",
       "        'start_station_name', 'start_station_id', 'end_station_name',\n",
       "        'end_station_id', 'start_lat', 'start_lng', 'end_lat', 'end_lng',\n",
       "        'member_casual'],\n",
       "       dtype='object'))"
      ]
     },
     "execution_count": 5,
     "metadata": {},
     "output_type": "execute_result"
    }
   ],
   "source": [
    "chicago.columns, new_york.columns, washigton.columns"
   ]
  },
  {
   "cell_type": "markdown",
   "metadata": {},
   "source": [
    "- All of them have the same columns"
   ]
  },
  {
   "cell_type": "markdown",
   "metadata": {},
   "source": [
    "### Data Types"
   ]
  },
  {
   "cell_type": "code",
   "execution_count": 6,
   "metadata": {},
   "outputs": [
    {
     "name": "stdout",
     "output_type": "stream",
     "text": [
      "<class 'pandas.core.frame.DataFrame'>\n",
      "Index: 5738612 entries, 0 to 415024\n",
      "Data columns (total 13 columns):\n",
      " #   Column              Dtype  \n",
      "---  ------              -----  \n",
      " 0   ride_id             object \n",
      " 1   rideable_type       object \n",
      " 2   started_at          object \n",
      " 3   ended_at            object \n",
      " 4   start_station_name  object \n",
      " 5   start_station_id    object \n",
      " 6   end_station_name    object \n",
      " 7   end_station_id      object \n",
      " 8   start_lat           float64\n",
      " 9   start_lng           float64\n",
      " 10  end_lat             float64\n",
      " 11  end_lng             float64\n",
      " 12  member_casual       object \n",
      "dtypes: float64(4), object(9)\n",
      "memory usage: 612.9+ MB\n"
     ]
    }
   ],
   "source": [
    "chicago.info()"
   ]
  },
  {
   "cell_type": "code",
   "execution_count": 7,
   "metadata": {},
   "outputs": [
    {
     "name": "stdout",
     "output_type": "stream",
     "text": [
      "<class 'pandas.core.frame.DataFrame'>\n",
      "Index: 988774 entries, 0 to 79115\n",
      "Data columns (total 13 columns):\n",
      " #   Column              Non-Null Count   Dtype  \n",
      "---  ------              --------------   -----  \n",
      " 0   ride_id             988774 non-null  object \n",
      " 1   rideable_type       988774 non-null  object \n",
      " 2   started_at          988774 non-null  object \n",
      " 3   ended_at            988774 non-null  object \n",
      " 4   start_station_name  988592 non-null  object \n",
      " 5   start_station_id    988592 non-null  object \n",
      " 6   end_station_name    985499 non-null  object \n",
      " 7   end_station_id      985470 non-null  object \n",
      " 8   start_lat           988774 non-null  float64\n",
      " 9   start_lng           988774 non-null  float64\n",
      " 10  end_lat             987970 non-null  float64\n",
      " 11  end_lng             987970 non-null  float64\n",
      " 12  member_casual       988774 non-null  object \n",
      "dtypes: float64(4), object(9)\n",
      "memory usage: 105.6+ MB\n"
     ]
    }
   ],
   "source": [
    "new_york.info()"
   ]
  },
  {
   "cell_type": "code",
   "execution_count": 8,
   "metadata": {},
   "outputs": [
    {
     "name": "stdout",
     "output_type": "stream",
     "text": [
      "<class 'pandas.core.frame.DataFrame'>\n",
      "Index: 4860726 entries, 0 to 436945\n",
      "Data columns (total 13 columns):\n",
      " #   Column              Dtype  \n",
      "---  ------              -----  \n",
      " 0   ride_id             object \n",
      " 1   rideable_type       object \n",
      " 2   started_at          object \n",
      " 3   ended_at            object \n",
      " 4   start_station_name  object \n",
      " 5   start_station_id    float64\n",
      " 6   end_station_name    object \n",
      " 7   end_station_id      float64\n",
      " 8   start_lat           float64\n",
      " 9   start_lng           float64\n",
      " 10  end_lat             float64\n",
      " 11  end_lng             float64\n",
      " 12  member_casual       object \n",
      "dtypes: float64(6), object(7)\n",
      "memory usage: 519.2+ MB\n"
     ]
    }
   ],
   "source": [
    "washigton.info()"
   ]
  },
  {
   "cell_type": "markdown",
   "metadata": {},
   "source": [
    "- `Started_at` and `Ended_at` need to be converted to datetime in all of them\n",
    "- Stations IDs are strings except for Washington, in which they are floats"
   ]
  },
  {
   "cell_type": "markdown",
   "metadata": {},
   "source": [
    "### Missing Values"
   ]
  },
  {
   "cell_type": "code",
   "execution_count": 10,
   "metadata": {},
   "outputs": [
    {
     "data": {
      "text/plain": [
       "ride_id                    0\n",
       "rideable_type              0\n",
       "started_at                 0\n",
       "ended_at                   0\n",
       "start_station_name    885429\n",
       "start_station_id      885429\n",
       "end_station_name      939115\n",
       "end_station_id        939115\n",
       "start_lat                  0\n",
       "start_lng                  0\n",
       "end_lat                 7610\n",
       "end_lng                 7610\n",
       "member_casual              0\n",
       "dtype: int64"
      ]
     },
     "execution_count": 10,
     "metadata": {},
     "output_type": "execute_result"
    }
   ],
   "source": [
    "chicago.isnull().sum()"
   ]
  },
  {
   "cell_type": "code",
   "execution_count": 11,
   "metadata": {},
   "outputs": [
    {
     "data": {
      "text/plain": [
       "ride_id                  0\n",
       "rideable_type            0\n",
       "started_at               0\n",
       "ended_at                 0\n",
       "start_station_name     182\n",
       "start_station_id       182\n",
       "end_station_name      3275\n",
       "end_station_id        3304\n",
       "start_lat                0\n",
       "start_lng                0\n",
       "end_lat                804\n",
       "end_lng                804\n",
       "member_casual            0\n",
       "dtype: int64"
      ]
     },
     "execution_count": 11,
     "metadata": {},
     "output_type": "execute_result"
    }
   ],
   "source": [
    "new_york.isnull().sum()"
   ]
  },
  {
   "cell_type": "code",
   "execution_count": 12,
   "metadata": {},
   "outputs": [
    {
     "data": {
      "text/plain": [
       "ride_id                    0\n",
       "rideable_type              0\n",
       "started_at                 0\n",
       "ended_at                   0\n",
       "start_station_name    565577\n",
       "start_station_id      565577\n",
       "end_station_name      598081\n",
       "end_station_id        598249\n",
       "start_lat                  0\n",
       "start_lng                  0\n",
       "end_lat                 5508\n",
       "end_lng                 5508\n",
       "member_casual              0\n",
       "dtype: int64"
      ]
     },
     "execution_count": 12,
     "metadata": {},
     "output_type": "execute_result"
    }
   ],
   "source": [
    "washigton.isnull().sum()"
   ]
  },
  {
   "cell_type": "markdown",
   "metadata": {},
   "source": [
    "### Duplicates"
   ]
  },
  {
   "cell_type": "code",
   "execution_count": 9,
   "metadata": {},
   "outputs": [
    {
     "data": {
      "text/plain": [
       "(0, 0, 0)"
      ]
     },
     "execution_count": 9,
     "metadata": {},
     "output_type": "execute_result"
    }
   ],
   "source": [
    "chicago.duplicated().sum(), new_york.duplicated().sum(), washigton.duplicated().sum()"
   ]
  },
  {
   "cell_type": "markdown",
   "metadata": {},
   "source": [
    "- No duplicates in any of the datasets"
   ]
  },
  {
   "cell_type": "markdown",
   "metadata": {},
   "source": [
    "## Cleaning"
   ]
  },
  {
   "cell_type": "markdown",
   "metadata": {},
   "source": [
    "### Drop Unrelevant Columns\n",
    "- we are not interested in Station IDs and Ride IDs, as we will combine data from different companies"
   ]
  },
  {
   "cell_type": "code",
   "execution_count": 13,
   "metadata": {},
   "outputs": [],
   "source": [
    "columns_to_drop = ['ride_id', 'start_station_id', 'end_station_id']\n",
    "chicago.drop(columns=columns_to_drop, inplace=True)\n",
    "new_york.drop(columns=columns_to_drop, inplace=True)\n",
    "washigton.drop(columns=columns_to_drop, inplace=True)"
   ]
  },
  {
   "cell_type": "markdown",
   "metadata": {},
   "source": [
    "### Fix Data Types"
   ]
  },
  {
   "cell_type": "code",
   "execution_count": 18,
   "metadata": {},
   "outputs": [],
   "source": [
    "chicago[\"started_at\"] = pd.to_datetime(chicago[\"started_at\"])\n",
    "chicago[\"ended_at\"] = pd.to_datetime(chicago[\"ended_at\"])\n",
    "new_york[\"started_at\"] = pd.to_datetime(new_york[\"started_at\"])\n",
    "new_york[\"ended_at\"] = pd.to_datetime(new_york[\"ended_at\"])\n",
    "washigton[\"started_at\"] = pd.to_datetime(washigton[\"started_at\"])\n",
    "washigton[\"ended_at\"] = pd.to_datetime(washigton[\"ended_at\"])"
   ]
  },
  {
   "cell_type": "markdown",
   "metadata": {},
   "source": [
    "### Data range analysis"
   ]
  },
  {
   "cell_type": "code",
   "execution_count": 19,
   "metadata": {},
   "outputs": [
    {
     "data": {
      "text/html": [
       "<div>\n",
       "<style scoped>\n",
       "    .dataframe tbody tr th:only-of-type {\n",
       "        vertical-align: middle;\n",
       "    }\n",
       "\n",
       "    .dataframe tbody tr th {\n",
       "        vertical-align: top;\n",
       "    }\n",
       "\n",
       "    .dataframe thead th {\n",
       "        text-align: right;\n",
       "    }\n",
       "</style>\n",
       "<table border=\"1\" class=\"dataframe\">\n",
       "  <thead>\n",
       "    <tr style=\"text-align: right;\">\n",
       "      <th></th>\n",
       "      <th>started_at</th>\n",
       "      <th>ended_at</th>\n",
       "      <th>start_lat</th>\n",
       "      <th>start_lng</th>\n",
       "      <th>end_lat</th>\n",
       "      <th>end_lng</th>\n",
       "    </tr>\n",
       "  </thead>\n",
       "  <tbody>\n",
       "    <tr>\n",
       "      <th>count</th>\n",
       "      <td>5738612</td>\n",
       "      <td>5738612</td>\n",
       "      <td>5.738612e+06</td>\n",
       "      <td>5.738612e+06</td>\n",
       "      <td>5.731002e+06</td>\n",
       "      <td>5.731002e+06</td>\n",
       "    </tr>\n",
       "    <tr>\n",
       "      <th>mean</th>\n",
       "      <td>2023-09-23 12:21:14.197405184</td>\n",
       "      <td>2023-09-23 12:39:36.218172928</td>\n",
       "      <td>4.190293e+01</td>\n",
       "      <td>-8.764689e+01</td>\n",
       "      <td>4.190327e+01</td>\n",
       "      <td>-8.764705e+01</td>\n",
       "    </tr>\n",
       "    <tr>\n",
       "      <th>min</th>\n",
       "      <td>2023-05-01 00:00:33</td>\n",
       "      <td>2023-05-01 00:04:28</td>\n",
       "      <td>4.163000e+01</td>\n",
       "      <td>-8.794000e+01</td>\n",
       "      <td>0.000000e+00</td>\n",
       "      <td>-8.816000e+01</td>\n",
       "    </tr>\n",
       "    <tr>\n",
       "      <th>25%</th>\n",
       "      <td>2023-07-06 14:04:16.750000128</td>\n",
       "      <td>2023-07-06 14:28:38.750000128</td>\n",
       "      <td>4.188096e+01</td>\n",
       "      <td>-8.766000e+01</td>\n",
       "      <td>4.188103e+01</td>\n",
       "      <td>-8.766014e+01</td>\n",
       "    </tr>\n",
       "    <tr>\n",
       "      <th>50%</th>\n",
       "      <td>2023-09-01 11:13:33.500000</td>\n",
       "      <td>2023-09-01 11:35:50</td>\n",
       "      <td>4.189897e+01</td>\n",
       "      <td>-8.764395e+01</td>\n",
       "      <td>4.190000e+01</td>\n",
       "      <td>-8.764410e+01</td>\n",
       "    </tr>\n",
       "    <tr>\n",
       "      <th>75%</th>\n",
       "      <td>2023-11-16 17:15:54.750000128</td>\n",
       "      <td>2023-11-16 17:28:17.500000</td>\n",
       "      <td>4.193000e+01</td>\n",
       "      <td>-8.762991e+01</td>\n",
       "      <td>4.193000e+01</td>\n",
       "      <td>-8.762991e+01</td>\n",
       "    </tr>\n",
       "    <tr>\n",
       "      <th>max</th>\n",
       "      <td>2024-04-30 23:59:46</td>\n",
       "      <td>2024-05-02 00:59:33</td>\n",
       "      <td>4.207000e+01</td>\n",
       "      <td>-8.746000e+01</td>\n",
       "      <td>4.218000e+01</td>\n",
       "      <td>0.000000e+00</td>\n",
       "    </tr>\n",
       "    <tr>\n",
       "      <th>std</th>\n",
       "      <td>NaN</td>\n",
       "      <td>NaN</td>\n",
       "      <td>4.502604e-02</td>\n",
       "      <td>2.727094e-02</td>\n",
       "      <td>5.439332e-02</td>\n",
       "      <td>6.907809e-02</td>\n",
       "    </tr>\n",
       "  </tbody>\n",
       "</table>\n",
       "</div>"
      ],
      "text/plain": [
       "                          started_at                       ended_at  \\\n",
       "count                        5738612                        5738612   \n",
       "mean   2023-09-23 12:21:14.197405184  2023-09-23 12:39:36.218172928   \n",
       "min              2023-05-01 00:00:33            2023-05-01 00:04:28   \n",
       "25%    2023-07-06 14:04:16.750000128  2023-07-06 14:28:38.750000128   \n",
       "50%       2023-09-01 11:13:33.500000            2023-09-01 11:35:50   \n",
       "75%    2023-11-16 17:15:54.750000128     2023-11-16 17:28:17.500000   \n",
       "max              2024-04-30 23:59:46            2024-05-02 00:59:33   \n",
       "std                              NaN                            NaN   \n",
       "\n",
       "          start_lat     start_lng       end_lat       end_lng  \n",
       "count  5.738612e+06  5.738612e+06  5.731002e+06  5.731002e+06  \n",
       "mean   4.190293e+01 -8.764689e+01  4.190327e+01 -8.764705e+01  \n",
       "min    4.163000e+01 -8.794000e+01  0.000000e+00 -8.816000e+01  \n",
       "25%    4.188096e+01 -8.766000e+01  4.188103e+01 -8.766014e+01  \n",
       "50%    4.189897e+01 -8.764395e+01  4.190000e+01 -8.764410e+01  \n",
       "75%    4.193000e+01 -8.762991e+01  4.193000e+01 -8.762991e+01  \n",
       "max    4.207000e+01 -8.746000e+01  4.218000e+01  0.000000e+00  \n",
       "std    4.502604e-02  2.727094e-02  5.439332e-02  6.907809e-02  "
      ]
     },
     "execution_count": 19,
     "metadata": {},
     "output_type": "execute_result"
    }
   ],
   "source": [
    "chicago.describe()"
   ]
  },
  {
   "cell_type": "code",
   "execution_count": 23,
   "metadata": {},
   "outputs": [
    {
     "data": {
      "text/html": [
       "<div>\n",
       "<style scoped>\n",
       "    .dataframe tbody tr th:only-of-type {\n",
       "        vertical-align: middle;\n",
       "    }\n",
       "\n",
       "    .dataframe tbody tr th {\n",
       "        vertical-align: top;\n",
       "    }\n",
       "\n",
       "    .dataframe thead th {\n",
       "        text-align: right;\n",
       "    }\n",
       "</style>\n",
       "<table border=\"1\" class=\"dataframe\">\n",
       "  <thead>\n",
       "    <tr style=\"text-align: right;\">\n",
       "      <th></th>\n",
       "      <th>started_at</th>\n",
       "      <th>ended_at</th>\n",
       "      <th>start_lat</th>\n",
       "      <th>start_lng</th>\n",
       "      <th>end_lat</th>\n",
       "      <th>end_lng</th>\n",
       "    </tr>\n",
       "  </thead>\n",
       "  <tbody>\n",
       "    <tr>\n",
       "      <th>count</th>\n",
       "      <td>988774</td>\n",
       "      <td>988774</td>\n",
       "      <td>988774.000000</td>\n",
       "      <td>988774.000000</td>\n",
       "      <td>987970.000000</td>\n",
       "      <td>987970.000000</td>\n",
       "    </tr>\n",
       "    <tr>\n",
       "      <th>mean</th>\n",
       "      <td>2023-10-12 00:25:00.878016512</td>\n",
       "      <td>2023-10-12 00:37:02.399596800</td>\n",
       "      <td>40.732402</td>\n",
       "      <td>-74.039995</td>\n",
       "      <td>40.732375</td>\n",
       "      <td>-74.039739</td>\n",
       "    </tr>\n",
       "    <tr>\n",
       "      <th>min</th>\n",
       "      <td>2023-05-01 00:02:59</td>\n",
       "      <td>2023-05-01 00:07:55</td>\n",
       "      <td>40.678334</td>\n",
       "      <td>-74.093255</td>\n",
       "      <td>40.645070</td>\n",
       "      <td>-74.190000</td>\n",
       "    </tr>\n",
       "    <tr>\n",
       "      <th>25%</th>\n",
       "      <td>2023-07-17 18:13:36.500000</td>\n",
       "      <td>2023-07-17 18:24:17.249999872</td>\n",
       "      <td>40.721124</td>\n",
       "      <td>-74.044311</td>\n",
       "      <td>40.721124</td>\n",
       "      <td>-74.044247</td>\n",
       "    </tr>\n",
       "    <tr>\n",
       "      <th>50%</th>\n",
       "      <td>2023-09-26 17:45:51</td>\n",
       "      <td>2023-09-26 17:54:28.500000</td>\n",
       "      <td>40.735285</td>\n",
       "      <td>-74.037683</td>\n",
       "      <td>40.735208</td>\n",
       "      <td>-74.037683</td>\n",
       "    </tr>\n",
       "    <tr>\n",
       "      <th>75%</th>\n",
       "      <td>2024-01-03 08:30:16.500000</td>\n",
       "      <td>2024-01-03 08:35:24</td>\n",
       "      <td>40.742341</td>\n",
       "      <td>-74.031026</td>\n",
       "      <td>40.742258</td>\n",
       "      <td>-74.030970</td>\n",
       "    </tr>\n",
       "    <tr>\n",
       "      <th>max</th>\n",
       "      <td>2024-04-30 23:53:14</td>\n",
       "      <td>2024-05-01 03:16:01</td>\n",
       "      <td>40.863943</td>\n",
       "      <td>-73.941173</td>\n",
       "      <td>40.871390</td>\n",
       "      <td>-73.888719</td>\n",
       "    </tr>\n",
       "    <tr>\n",
       "      <th>std</th>\n",
       "      <td>NaN</td>\n",
       "      <td>NaN</td>\n",
       "      <td>0.012216</td>\n",
       "      <td>0.011882</td>\n",
       "      <td>0.012334</td>\n",
       "      <td>0.011997</td>\n",
       "    </tr>\n",
       "  </tbody>\n",
       "</table>\n",
       "</div>"
      ],
      "text/plain": [
       "                          started_at                       ended_at  \\\n",
       "count                         988774                         988774   \n",
       "mean   2023-10-12 00:25:00.878016512  2023-10-12 00:37:02.399596800   \n",
       "min              2023-05-01 00:02:59            2023-05-01 00:07:55   \n",
       "25%       2023-07-17 18:13:36.500000  2023-07-17 18:24:17.249999872   \n",
       "50%              2023-09-26 17:45:51     2023-09-26 17:54:28.500000   \n",
       "75%       2024-01-03 08:30:16.500000            2024-01-03 08:35:24   \n",
       "max              2024-04-30 23:53:14            2024-05-01 03:16:01   \n",
       "std                              NaN                            NaN   \n",
       "\n",
       "           start_lat      start_lng        end_lat        end_lng  \n",
       "count  988774.000000  988774.000000  987970.000000  987970.000000  \n",
       "mean       40.732402     -74.039995      40.732375     -74.039739  \n",
       "min        40.678334     -74.093255      40.645070     -74.190000  \n",
       "25%        40.721124     -74.044311      40.721124     -74.044247  \n",
       "50%        40.735285     -74.037683      40.735208     -74.037683  \n",
       "75%        40.742341     -74.031026      40.742258     -74.030970  \n",
       "max        40.863943     -73.941173      40.871390     -73.888719  \n",
       "std         0.012216       0.011882       0.012334       0.011997  "
      ]
     },
     "execution_count": 23,
     "metadata": {},
     "output_type": "execute_result"
    }
   ],
   "source": [
    "new_york.describe()"
   ]
  },
  {
   "cell_type": "markdown",
   "metadata": {},
   "source": [
    "- For `Chicago` and `New York`, Date ranges are logical, and the standard deviation betweeen the station coordinates inside each city is reasonable"
   ]
  },
  {
   "cell_type": "code",
   "execution_count": 24,
   "metadata": {},
   "outputs": [
    {
     "data": {
      "text/html": [
       "<div>\n",
       "<style scoped>\n",
       "    .dataframe tbody tr th:only-of-type {\n",
       "        vertical-align: middle;\n",
       "    }\n",
       "\n",
       "    .dataframe tbody tr th {\n",
       "        vertical-align: top;\n",
       "    }\n",
       "\n",
       "    .dataframe thead th {\n",
       "        text-align: right;\n",
       "    }\n",
       "</style>\n",
       "<table border=\"1\" class=\"dataframe\">\n",
       "  <thead>\n",
       "    <tr style=\"text-align: right;\">\n",
       "      <th></th>\n",
       "      <th>started_at</th>\n",
       "      <th>ended_at</th>\n",
       "      <th>start_lat</th>\n",
       "      <th>start_lng</th>\n",
       "      <th>end_lat</th>\n",
       "      <th>end_lng</th>\n",
       "    </tr>\n",
       "  </thead>\n",
       "  <tbody>\n",
       "    <tr>\n",
       "      <th>count</th>\n",
       "      <td>4860726</td>\n",
       "      <td>4860726</td>\n",
       "      <td>4.860726e+06</td>\n",
       "      <td>4.860726e+06</td>\n",
       "      <td>4.855218e+06</td>\n",
       "      <td>4.855218e+06</td>\n",
       "    </tr>\n",
       "    <tr>\n",
       "      <th>mean</th>\n",
       "      <td>2023-10-24 22:02:42.580500992</td>\n",
       "      <td>2023-10-24 22:11:25.518332160</td>\n",
       "      <td>3.890455e+01</td>\n",
       "      <td>-7.703201e+01</td>\n",
       "      <td>3.890364e+01</td>\n",
       "      <td>-7.703174e+01</td>\n",
       "    </tr>\n",
       "    <tr>\n",
       "      <th>min</th>\n",
       "      <td>2023-05-01 00:00:39</td>\n",
       "      <td>2000-01-01 15:55:56</td>\n",
       "      <td>3.875000e+01</td>\n",
       "      <td>-7.740000e+01</td>\n",
       "      <td>1.180000e+01</td>\n",
       "      <td>-7.756000e+01</td>\n",
       "    </tr>\n",
       "    <tr>\n",
       "      <th>25%</th>\n",
       "      <td>2023-07-24 09:30:09.249999872</td>\n",
       "      <td>2023-07-24 09:47:56.249999872</td>\n",
       "      <td>3.889224e+01</td>\n",
       "      <td>-7.704440e+01</td>\n",
       "      <td>3.889221e+01</td>\n",
       "      <td>-7.704440e+01</td>\n",
       "    </tr>\n",
       "    <tr>\n",
       "      <th>50%</th>\n",
       "      <td>2023-10-12 13:55:24.500000</td>\n",
       "      <td>2023-10-12 14:15:53.500000</td>\n",
       "      <td>3.890373e+01</td>\n",
       "      <td>-7.703000e+01</td>\n",
       "      <td>3.890283e+01</td>\n",
       "      <td>-7.703000e+01</td>\n",
       "    </tr>\n",
       "    <tr>\n",
       "      <th>75%</th>\n",
       "      <td>2024-02-03 16:38:14.750000128</td>\n",
       "      <td>2024-02-03 16:56:07</td>\n",
       "      <td>3.891679e+01</td>\n",
       "      <td>-7.701229e+01</td>\n",
       "      <td>3.891540e+01</td>\n",
       "      <td>-7.701211e+01</td>\n",
       "    </tr>\n",
       "    <tr>\n",
       "      <th>max</th>\n",
       "      <td>2024-04-30 23:59:54</td>\n",
       "      <td>2024-05-01 22:38:03</td>\n",
       "      <td>3.914000e+01</td>\n",
       "      <td>-7.682000e+01</td>\n",
       "      <td>3.919000e+01</td>\n",
       "      <td>-5.585000e+01</td>\n",
       "    </tr>\n",
       "    <tr>\n",
       "      <th>std</th>\n",
       "      <td>NaN</td>\n",
       "      <td>NaN</td>\n",
       "      <td>2.729272e-02</td>\n",
       "      <td>3.518131e-02</td>\n",
       "      <td>2.980541e-02</td>\n",
       "      <td>3.633627e-02</td>\n",
       "    </tr>\n",
       "  </tbody>\n",
       "</table>\n",
       "</div>"
      ],
      "text/plain": [
       "                          started_at                       ended_at  \\\n",
       "count                        4860726                        4860726   \n",
       "mean   2023-10-24 22:02:42.580500992  2023-10-24 22:11:25.518332160   \n",
       "min              2023-05-01 00:00:39            2000-01-01 15:55:56   \n",
       "25%    2023-07-24 09:30:09.249999872  2023-07-24 09:47:56.249999872   \n",
       "50%       2023-10-12 13:55:24.500000     2023-10-12 14:15:53.500000   \n",
       "75%    2024-02-03 16:38:14.750000128            2024-02-03 16:56:07   \n",
       "max              2024-04-30 23:59:54            2024-05-01 22:38:03   \n",
       "std                              NaN                            NaN   \n",
       "\n",
       "          start_lat     start_lng       end_lat       end_lng  \n",
       "count  4.860726e+06  4.860726e+06  4.855218e+06  4.855218e+06  \n",
       "mean   3.890455e+01 -7.703201e+01  3.890364e+01 -7.703174e+01  \n",
       "min    3.875000e+01 -7.740000e+01  1.180000e+01 -7.756000e+01  \n",
       "25%    3.889224e+01 -7.704440e+01  3.889221e+01 -7.704440e+01  \n",
       "50%    3.890373e+01 -7.703000e+01  3.890283e+01 -7.703000e+01  \n",
       "75%    3.891679e+01 -7.701229e+01  3.891540e+01 -7.701211e+01  \n",
       "max    3.914000e+01 -7.682000e+01  3.919000e+01 -5.585000e+01  \n",
       "std    2.729272e-02  3.518131e-02  2.980541e-02  3.633627e-02  "
      ]
     },
     "execution_count": 24,
     "metadata": {},
     "output_type": "execute_result"
    }
   ],
   "source": [
    "washigton.describe()"
   ]
  },
  {
   "cell_type": "markdown",
   "metadata": {},
   "source": [
    "- For `Washington`, the minimum `ended_at` date is 2000-01-01, which is not logical as the data was obtained for the range between 2023-05-01 and 2024-05. we will drop the rows outside this range"
   ]
  },
  {
   "cell_type": "code",
   "execution_count": 29,
   "metadata": {},
   "outputs": [],
   "source": [
    "# get the rows where the ended_at is less than 2023-05-01\n",
    "washigton = washigton[washigton[\"ended_at\"] >= \"2023-05-01\"]"
   ]
  },
  {
   "cell_type": "code",
   "execution_count": 30,
   "metadata": {},
   "outputs": [
    {
     "data": {
      "text/html": [
       "<div>\n",
       "<style scoped>\n",
       "    .dataframe tbody tr th:only-of-type {\n",
       "        vertical-align: middle;\n",
       "    }\n",
       "\n",
       "    .dataframe tbody tr th {\n",
       "        vertical-align: top;\n",
       "    }\n",
       "\n",
       "    .dataframe thead th {\n",
       "        text-align: right;\n",
       "    }\n",
       "</style>\n",
       "<table border=\"1\" class=\"dataframe\">\n",
       "  <thead>\n",
       "    <tr style=\"text-align: right;\">\n",
       "      <th></th>\n",
       "      <th>started_at</th>\n",
       "      <th>ended_at</th>\n",
       "      <th>start_lat</th>\n",
       "      <th>start_lng</th>\n",
       "      <th>end_lat</th>\n",
       "      <th>end_lng</th>\n",
       "    </tr>\n",
       "  </thead>\n",
       "  <tbody>\n",
       "    <tr>\n",
       "      <th>count</th>\n",
       "      <td>4860722</td>\n",
       "      <td>4860722</td>\n",
       "      <td>4.860722e+06</td>\n",
       "      <td>4.860722e+06</td>\n",
       "      <td>4.855214e+06</td>\n",
       "      <td>4.855214e+06</td>\n",
       "    </tr>\n",
       "    <tr>\n",
       "      <th>mean</th>\n",
       "      <td>2023-10-24 22:02:34.235444736</td>\n",
       "      <td>2023-10-24 22:21:43.847624960</td>\n",
       "      <td>3.890455e+01</td>\n",
       "      <td>-7.703201e+01</td>\n",
       "      <td>3.890364e+01</td>\n",
       "      <td>-7.703174e+01</td>\n",
       "    </tr>\n",
       "    <tr>\n",
       "      <th>min</th>\n",
       "      <td>2023-05-01 00:00:39</td>\n",
       "      <td>2023-05-01 00:05:00</td>\n",
       "      <td>3.875000e+01</td>\n",
       "      <td>-7.740000e+01</td>\n",
       "      <td>1.180000e+01</td>\n",
       "      <td>-7.756000e+01</td>\n",
       "    </tr>\n",
       "    <tr>\n",
       "      <th>25%</th>\n",
       "      <td>2023-07-24 09:30:08</td>\n",
       "      <td>2023-07-24 09:48:11.500000</td>\n",
       "      <td>3.889224e+01</td>\n",
       "      <td>-7.704440e+01</td>\n",
       "      <td>3.889221e+01</td>\n",
       "      <td>-7.704440e+01</td>\n",
       "    </tr>\n",
       "    <tr>\n",
       "      <th>50%</th>\n",
       "      <td>2023-10-12 13:55:15.500000</td>\n",
       "      <td>2023-10-12 14:16:25</td>\n",
       "      <td>3.890373e+01</td>\n",
       "      <td>-7.703000e+01</td>\n",
       "      <td>3.890283e+01</td>\n",
       "      <td>-7.703000e+01</td>\n",
       "    </tr>\n",
       "    <tr>\n",
       "      <th>75%</th>\n",
       "      <td>2024-02-03 16:38:10</td>\n",
       "      <td>2024-02-03 16:56:17.249999872</td>\n",
       "      <td>3.891679e+01</td>\n",
       "      <td>-7.701229e+01</td>\n",
       "      <td>3.891540e+01</td>\n",
       "      <td>-7.701211e+01</td>\n",
       "    </tr>\n",
       "    <tr>\n",
       "      <th>max</th>\n",
       "      <td>2024-04-30 23:59:54</td>\n",
       "      <td>2024-05-01 22:38:03</td>\n",
       "      <td>3.914000e+01</td>\n",
       "      <td>-7.682000e+01</td>\n",
       "      <td>3.919000e+01</td>\n",
       "      <td>-5.585000e+01</td>\n",
       "    </tr>\n",
       "    <tr>\n",
       "      <th>std</th>\n",
       "      <td>NaN</td>\n",
       "      <td>NaN</td>\n",
       "      <td>2.729273e-02</td>\n",
       "      <td>3.518131e-02</td>\n",
       "      <td>2.980542e-02</td>\n",
       "      <td>3.633626e-02</td>\n",
       "    </tr>\n",
       "  </tbody>\n",
       "</table>\n",
       "</div>"
      ],
      "text/plain": [
       "                          started_at                       ended_at  \\\n",
       "count                        4860722                        4860722   \n",
       "mean   2023-10-24 22:02:34.235444736  2023-10-24 22:21:43.847624960   \n",
       "min              2023-05-01 00:00:39            2023-05-01 00:05:00   \n",
       "25%              2023-07-24 09:30:08     2023-07-24 09:48:11.500000   \n",
       "50%       2023-10-12 13:55:15.500000            2023-10-12 14:16:25   \n",
       "75%              2024-02-03 16:38:10  2024-02-03 16:56:17.249999872   \n",
       "max              2024-04-30 23:59:54            2024-05-01 22:38:03   \n",
       "std                              NaN                            NaN   \n",
       "\n",
       "          start_lat     start_lng       end_lat       end_lng  \n",
       "count  4.860722e+06  4.860722e+06  4.855214e+06  4.855214e+06  \n",
       "mean   3.890455e+01 -7.703201e+01  3.890364e+01 -7.703174e+01  \n",
       "min    3.875000e+01 -7.740000e+01  1.180000e+01 -7.756000e+01  \n",
       "25%    3.889224e+01 -7.704440e+01  3.889221e+01 -7.704440e+01  \n",
       "50%    3.890373e+01 -7.703000e+01  3.890283e+01 -7.703000e+01  \n",
       "75%    3.891679e+01 -7.701229e+01  3.891540e+01 -7.701211e+01  \n",
       "max    3.914000e+01 -7.682000e+01  3.919000e+01 -5.585000e+01  \n",
       "std    2.729273e-02  3.518131e-02  2.980542e-02  3.633626e-02  "
      ]
     },
     "execution_count": 30,
     "metadata": {},
     "output_type": "execute_result"
    }
   ],
   "source": [
    "washigton.describe()"
   ]
  },
  {
   "cell_type": "markdown",
   "metadata": {},
   "source": [
    "### Drop missing values"
   ]
  },
  {
   "cell_type": "code",
   "execution_count": 32,
   "metadata": {},
   "outputs": [
    {
     "data": {
      "text/plain": [
       "(None, None, None)"
      ]
     },
     "execution_count": 32,
     "metadata": {},
     "output_type": "execute_result"
    }
   ],
   "source": [
    "chicago.dropna(inplace=True), new_york.dropna(inplace=True), washigton.dropna(inplace=True)"
   ]
  },
  {
   "cell_type": "code",
   "execution_count": 34,
   "metadata": {},
   "outputs": [
    {
     "data": {
      "text/plain": [
       "rideable_type         0\n",
       "started_at            0\n",
       "ended_at              0\n",
       "start_station_name    0\n",
       "end_station_name      0\n",
       "start_lat             0\n",
       "start_lng             0\n",
       "end_lat               0\n",
       "end_lng               0\n",
       "member_casual         0\n",
       "dtype: int64"
      ]
     },
     "execution_count": 34,
     "metadata": {},
     "output_type": "execute_result"
    }
   ],
   "source": [
    "chicago.isnull().sum()"
   ]
  },
  {
   "cell_type": "code",
   "execution_count": 35,
   "metadata": {},
   "outputs": [
    {
     "data": {
      "text/plain": [
       "rideable_type         0\n",
       "started_at            0\n",
       "ended_at              0\n",
       "start_station_name    0\n",
       "end_station_name      0\n",
       "start_lat             0\n",
       "start_lng             0\n",
       "end_lat               0\n",
       "end_lng               0\n",
       "member_casual         0\n",
       "dtype: int64"
      ]
     },
     "execution_count": 35,
     "metadata": {},
     "output_type": "execute_result"
    }
   ],
   "source": [
    "new_york.isnull().sum()"
   ]
  },
  {
   "cell_type": "code",
   "execution_count": 36,
   "metadata": {},
   "outputs": [
    {
     "data": {
      "text/plain": [
       "rideable_type         0\n",
       "started_at            0\n",
       "ended_at              0\n",
       "start_station_name    0\n",
       "end_station_name      0\n",
       "start_lat             0\n",
       "start_lng             0\n",
       "end_lat               0\n",
       "end_lng               0\n",
       "member_casual         0\n",
       "dtype: int64"
      ]
     },
     "execution_count": 36,
     "metadata": {},
     "output_type": "execute_result"
    }
   ],
   "source": [
    "washigton.isnull().sum()"
   ]
  },
  {
   "cell_type": "markdown",
   "metadata": {},
   "source": [
    "### unify the station coordinates\n",
    "- we will use the mean of the coordinates for each station so that we can group the data by station without losing information"
   ]
  },
  {
   "cell_type": "code",
   "execution_count": 1,
   "metadata": {},
   "outputs": [
    {
     "data": {
      "text/plain": [
       "((4335839, 10), (985432, 10), (4023678, 10))"
      ]
     },
     "execution_count": 1,
     "metadata": {},
     "output_type": "execute_result"
    }
   ],
   "source": [
    "import pandas as pd\n",
    "chicago = pd.read_csv('chicago.csv')\n",
    "new_york = pd.read_csv('new_york.csv')\n",
    "washigton = pd.read_csv('washigton.csv')\n",
    "chicago.shape, new_york.shape, washigton.shape"
   ]
  },
  {
   "cell_type": "code",
   "execution_count": 2,
   "metadata": {},
   "outputs": [
    {
     "data": {
      "text/plain": [
       "9344949"
      ]
     },
     "execution_count": 2,
     "metadata": {},
     "output_type": "execute_result"
    }
   ],
   "source": [
    "chicago.shape[0] + new_york.shape[0] + washigton.shape[0]"
   ]
  },
  {
   "cell_type": "code",
   "execution_count": 3,
   "metadata": {},
   "outputs": [],
   "source": [
    "# get the average coordinates for each station, add random small noise to avoid duplicates\n",
    "import numpy as np\n",
    "chicago_coords = chicago.groupby('start_station_name')[['start_lat', 'start_lng']].mean() \n",
    "chicago_coords = chicago_coords + np.random.normal(0, 0.0001, chicago_coords.shape)\n",
    "new_york_coords = new_york.groupby('start_station_name')[['start_lat', 'start_lng']].mean()\n",
    "new_york_coords = new_york_coords + np.random.normal(0, 0.0001, new_york_coords.shape)\n",
    "washigton_coords = washigton.groupby('start_station_name')[['start_lat', 'start_lng']].mean()\n",
    "washigton_coords = washigton_coords + np.random.normal(0, 0.0001, washigton_coords.shape)"
   ]
  },
  {
   "cell_type": "code",
   "execution_count": 4,
   "metadata": {},
   "outputs": [],
   "source": [
    "# replace the coordinates with the average coordinates for each station\n",
    "chicago['start_lat'] = chicago['start_station_name'].map(chicago_coords['start_lat'])\n",
    "chicago['start_lng'] = chicago['start_station_name'].map(chicago_coords['start_lng'])\n",
    "new_york['start_lat'] = new_york['start_station_name'].map(new_york_coords['start_lat'])\n",
    "new_york['start_lng'] = new_york['start_station_name'].map(new_york_coords['start_lng'])\n",
    "washigton['start_lat'] = washigton['start_station_name'].map(washigton_coords['start_lat'])\n",
    "washigton['start_lng'] = washigton['start_station_name'].map(washigton_coords['start_lng'])"
   ]
  },
  {
   "cell_type": "markdown",
   "metadata": {},
   "source": [
    "- do the same for the end station coordinates"
   ]
  },
  {
   "cell_type": "code",
   "execution_count": 5,
   "metadata": {},
   "outputs": [],
   "source": [
    "chicago_coords_end = chicago.groupby('end_station_name')[['end_lat', 'end_lng']].mean()\n",
    "chicago_coords_end = chicago_coords_end + np.random.normal(0, 0.0001, chicago_coords_end.shape)\n",
    "new_york_coords_end = new_york.groupby('end_station_name')[['end_lat', 'end_lng']].mean()\n",
    "new_york_coords_end = new_york_coords_end + np.random.normal(0, 0.0001, new_york_coords_end.shape)\n",
    "washigton_coords_end = washigton.groupby('end_station_name')[['end_lat', 'end_lng']].mean()\n",
    "washigton_coords_end = washigton_coords_end + np.random.normal(0, 0.0001, washigton_coords_end.shape)\n",
    "\n",
    "# replace the coordinates with the average coordinates for each station\n",
    "chicago['end_lat'] = chicago['end_station_name'].map(chicago_coords_end['end_lat'])\n",
    "chicago['end_lng'] = chicago['end_station_name'].map(chicago_coords_end['end_lng'])\n",
    "new_york['end_lat'] = new_york['end_station_name'].map(new_york_coords_end['end_lat'])\n",
    "new_york['end_lng'] = new_york['end_station_name'].map(new_york_coords_end['end_lng'])\n",
    "washigton['end_lat'] = washigton['end_station_name'].map(washigton_coords_end['end_lat'])\n",
    "washigton['end_lng'] = washigton['end_station_name'].map(washigton_coords_end['end_lng'])"
   ]
  },
  {
   "cell_type": "markdown",
   "metadata": {},
   "source": [
    "### Save the cleaned data"
   ]
  },
  {
   "cell_type": "code",
   "execution_count": 12,
   "metadata": {},
   "outputs": [],
   "source": [
    "chicago.to_csv('chicago.csv', index=False)\n",
    "new_york.to_csv('new_york.csv', index=False)\n",
    "washigton.to_csv('washigton.csv', index=False)"
   ]
  },
  {
   "cell_type": "markdown",
   "metadata": {},
   "source": [
    "## Combining the data\n",
    "- to combine the data, we need to ensure that the columns are consistent across the datasets\n",
    "    - for numeric columns, they will have to be in the same format (which we made sure of in the cleaning step)\n",
    "    - for categorical columns, they will have to be in the same format and refer to the same information"
   ]
  },
  {
   "cell_type": "code",
   "execution_count": 13,
   "metadata": {},
   "outputs": [
    {
     "data": {
      "text/plain": [
       "Index(['rideable_type', 'started_at', 'ended_at', 'start_station_name',\n",
       "       'end_station_name', 'start_lat', 'start_lng', 'end_lat', 'end_lng',\n",
       "       'member_casual'],\n",
       "      dtype='object')"
      ]
     },
     "execution_count": 13,
     "metadata": {},
     "output_type": "execute_result"
    }
   ],
   "source": [
    "chicago.columns"
   ]
  },
  {
   "cell_type": "code",
   "execution_count": 14,
   "metadata": {},
   "outputs": [
    {
     "data": {
      "text/plain": [
       "rideable_type\n",
       "classic_bike     2786598\n",
       "electric_bike    1488554\n",
       "docked_bike        60687\n",
       "Name: count, dtype: int64"
      ]
     },
     "execution_count": 14,
     "metadata": {},
     "output_type": "execute_result"
    }
   ],
   "source": [
    "chicago[\"rideable_type\"].value_counts()"
   ]
  },
  {
   "cell_type": "code",
   "execution_count": 15,
   "metadata": {},
   "outputs": [
    {
     "data": {
      "text/plain": [
       "rideable_type\n",
       "classic_bike     767359\n",
       "electric_bike    216823\n",
       "docked_bike        1250\n",
       "Name: count, dtype: int64"
      ]
     },
     "execution_count": 15,
     "metadata": {},
     "output_type": "execute_result"
    }
   ],
   "source": [
    "new_york[\"rideable_type\"].value_counts()"
   ]
  },
  {
   "cell_type": "code",
   "execution_count": 16,
   "metadata": {},
   "outputs": [
    {
     "data": {
      "text/plain": [
       "rideable_type\n",
       "classic_bike     2878806\n",
       "electric_bike    1076326\n",
       "docked_bike        68546\n",
       "Name: count, dtype: int64"
      ]
     },
     "execution_count": 16,
     "metadata": {},
     "output_type": "execute_result"
    }
   ],
   "source": [
    "washigton[\"rideable_type\"].value_counts()"
   ]
  },
  {
   "cell_type": "code",
   "execution_count": 17,
   "metadata": {},
   "outputs": [
    {
     "data": {
      "text/plain": [
       "member_casual\n",
       "member    2811161\n",
       "casual    1524678\n",
       "Name: count, dtype: int64"
      ]
     },
     "execution_count": 17,
     "metadata": {},
     "output_type": "execute_result"
    }
   ],
   "source": [
    "chicago[\"member_casual\"].value_counts()"
   ]
  },
  {
   "cell_type": "code",
   "execution_count": 18,
   "metadata": {},
   "outputs": [
    {
     "data": {
      "text/plain": [
       "member_casual\n",
       "member    739254\n",
       "casual    246178\n",
       "Name: count, dtype: int64"
      ]
     },
     "execution_count": 18,
     "metadata": {},
     "output_type": "execute_result"
    }
   ],
   "source": [
    "new_york[\"member_casual\"].value_counts()"
   ]
  },
  {
   "cell_type": "code",
   "execution_count": 19,
   "metadata": {},
   "outputs": [
    {
     "data": {
      "text/plain": [
       "member_casual\n",
       "member    2522674\n",
       "casual    1501004\n",
       "Name: count, dtype: int64"
      ]
     },
     "execution_count": 19,
     "metadata": {},
     "output_type": "execute_result"
    }
   ],
   "source": [
    "washigton[\"member_casual\"].value_counts()"
   ]
  },
  {
   "cell_type": "markdown",
   "metadata": {},
   "source": [
    "- The data is Consistent "
   ]
  },
  {
   "cell_type": "code",
   "execution_count": 20,
   "metadata": {},
   "outputs": [],
   "source": [
    "chicago[\"city\"] = \"Chicago\"\n",
    "new_york[\"city\"] = \"New York\"\n",
    "washigton[\"city\"] = \"Washington DC\""
   ]
  },
  {
   "cell_type": "code",
   "execution_count": 21,
   "metadata": {},
   "outputs": [
    {
     "data": {
      "text/plain": [
       "(9344949, 11)"
      ]
     },
     "execution_count": 21,
     "metadata": {},
     "output_type": "execute_result"
    }
   ],
   "source": [
    "# combine the three datasets\n",
    "bike_share = pd.concat([chicago, new_york, washigton])\n",
    "bike_share.shape"
   ]
  },
  {
   "cell_type": "code",
   "execution_count": 22,
   "metadata": {},
   "outputs": [],
   "source": [
    "bike_share.to_csv('bike_share.csv', index=False)"
   ]
  }
 ],
 "metadata": {
  "kernelspec": {
   "display_name": "analysis",
   "language": "python",
   "name": "python3"
  },
  "language_info": {
   "codemirror_mode": {
    "name": "ipython",
    "version": 3
   },
   "file_extension": ".py",
   "mimetype": "text/x-python",
   "name": "python",
   "nbconvert_exporter": "python",
   "pygments_lexer": "ipython3",
   "version": "3.8.19"
  }
 },
 "nbformat": 4,
 "nbformat_minor": 2
}
